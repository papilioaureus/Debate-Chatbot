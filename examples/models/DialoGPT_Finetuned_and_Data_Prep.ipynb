{
  "nbformat": 4,
  "nbformat_minor": 0,
  "metadata": {
    "colab": {
      "provenance": [],
      "gpuType": "T4",
      "collapsed_sections": [
        "uEV4DNyNx2Tj",
        "iMkCUMdJcmSj",
        "OSkpEEQdAFMB",
        "CkABfH0fgtGY",
        "IOWB_vxSgoYs",
        "LvPmdxAGeH1g",
        "0wV7YedtAN_d"
      ]
    },
    "kernelspec": {
      "name": "python3",
      "display_name": "Python 3"
    },
    "language_info": {
      "name": "python"
    },
    "accelerator": "GPU",
    "widgets": {
      "application/vnd.jupyter.widget-state+json": {
        "eaec7dd8ba50481ba3b7a2adde500cb4": {
          "model_module": "@jupyter-widgets/controls",
          "model_name": "HBoxModel",
          "model_module_version": "1.5.0",
          "state": {
            "_dom_classes": [],
            "_model_module": "@jupyter-widgets/controls",
            "_model_module_version": "1.5.0",
            "_model_name": "HBoxModel",
            "_view_count": null,
            "_view_module": "@jupyter-widgets/controls",
            "_view_module_version": "1.5.0",
            "_view_name": "HBoxView",
            "box_style": "",
            "children": [
              "IPY_MODEL_dcb61c6b384c4dc584f51cdfd7da28eb",
              "IPY_MODEL_92b629d119df4d57b113fa1354c90d1d",
              "IPY_MODEL_16240636bf93482ab02a924fc51ca4f2"
            ],
            "layout": "IPY_MODEL_20ce8a23d63841648a8d38bfd17fdfa9"
          }
        },
        "dcb61c6b384c4dc584f51cdfd7da28eb": {
          "model_module": "@jupyter-widgets/controls",
          "model_name": "HTMLModel",
          "model_module_version": "1.5.0",
          "state": {
            "_dom_classes": [],
            "_model_module": "@jupyter-widgets/controls",
            "_model_module_version": "1.5.0",
            "_model_name": "HTMLModel",
            "_view_count": null,
            "_view_module": "@jupyter-widgets/controls",
            "_view_module_version": "1.5.0",
            "_view_name": "HTMLView",
            "description": "",
            "description_tooltip": null,
            "layout": "IPY_MODEL_7998bc7e711d42bbae2531a350f119f6",
            "placeholder": "​",
            "style": "IPY_MODEL_d62831d6e2c54886a567c748b2c5d624",
            "value": "tokenizer_config.json: 100%"
          }
        },
        "92b629d119df4d57b113fa1354c90d1d": {
          "model_module": "@jupyter-widgets/controls",
          "model_name": "FloatProgressModel",
          "model_module_version": "1.5.0",
          "state": {
            "_dom_classes": [],
            "_model_module": "@jupyter-widgets/controls",
            "_model_module_version": "1.5.0",
            "_model_name": "FloatProgressModel",
            "_view_count": null,
            "_view_module": "@jupyter-widgets/controls",
            "_view_module_version": "1.5.0",
            "_view_name": "ProgressView",
            "bar_style": "success",
            "description": "",
            "description_tooltip": null,
            "layout": "IPY_MODEL_4c16f724d9194a78ae12583c70a25d4c",
            "max": 614,
            "min": 0,
            "orientation": "horizontal",
            "style": "IPY_MODEL_b38ca3993a044cd696b5e595f7ffc94c",
            "value": 614
          }
        },
        "16240636bf93482ab02a924fc51ca4f2": {
          "model_module": "@jupyter-widgets/controls",
          "model_name": "HTMLModel",
          "model_module_version": "1.5.0",
          "state": {
            "_dom_classes": [],
            "_model_module": "@jupyter-widgets/controls",
            "_model_module_version": "1.5.0",
            "_model_name": "HTMLModel",
            "_view_count": null,
            "_view_module": "@jupyter-widgets/controls",
            "_view_module_version": "1.5.0",
            "_view_name": "HTMLView",
            "description": "",
            "description_tooltip": null,
            "layout": "IPY_MODEL_ae65cbc5bd244cd5b9f838b8df5a87e1",
            "placeholder": "​",
            "style": "IPY_MODEL_033153cfd0384f6e82d19e2103d051e9",
            "value": " 614/614 [00:00&lt;00:00, 41.3kB/s]"
          }
        },
        "20ce8a23d63841648a8d38bfd17fdfa9": {
          "model_module": "@jupyter-widgets/base",
          "model_name": "LayoutModel",
          "model_module_version": "1.2.0",
          "state": {
            "_model_module": "@jupyter-widgets/base",
            "_model_module_version": "1.2.0",
            "_model_name": "LayoutModel",
            "_view_count": null,
            "_view_module": "@jupyter-widgets/base",
            "_view_module_version": "1.2.0",
            "_view_name": "LayoutView",
            "align_content": null,
            "align_items": null,
            "align_self": null,
            "border": null,
            "bottom": null,
            "display": null,
            "flex": null,
            "flex_flow": null,
            "grid_area": null,
            "grid_auto_columns": null,
            "grid_auto_flow": null,
            "grid_auto_rows": null,
            "grid_column": null,
            "grid_gap": null,
            "grid_row": null,
            "grid_template_areas": null,
            "grid_template_columns": null,
            "grid_template_rows": null,
            "height": null,
            "justify_content": null,
            "justify_items": null,
            "left": null,
            "margin": null,
            "max_height": null,
            "max_width": null,
            "min_height": null,
            "min_width": null,
            "object_fit": null,
            "object_position": null,
            "order": null,
            "overflow": null,
            "overflow_x": null,
            "overflow_y": null,
            "padding": null,
            "right": null,
            "top": null,
            "visibility": null,
            "width": null
          }
        },
        "7998bc7e711d42bbae2531a350f119f6": {
          "model_module": "@jupyter-widgets/base",
          "model_name": "LayoutModel",
          "model_module_version": "1.2.0",
          "state": {
            "_model_module": "@jupyter-widgets/base",
            "_model_module_version": "1.2.0",
            "_model_name": "LayoutModel",
            "_view_count": null,
            "_view_module": "@jupyter-widgets/base",
            "_view_module_version": "1.2.0",
            "_view_name": "LayoutView",
            "align_content": null,
            "align_items": null,
            "align_self": null,
            "border": null,
            "bottom": null,
            "display": null,
            "flex": null,
            "flex_flow": null,
            "grid_area": null,
            "grid_auto_columns": null,
            "grid_auto_flow": null,
            "grid_auto_rows": null,
            "grid_column": null,
            "grid_gap": null,
            "grid_row": null,
            "grid_template_areas": null,
            "grid_template_columns": null,
            "grid_template_rows": null,
            "height": null,
            "justify_content": null,
            "justify_items": null,
            "left": null,
            "margin": null,
            "max_height": null,
            "max_width": null,
            "min_height": null,
            "min_width": null,
            "object_fit": null,
            "object_position": null,
            "order": null,
            "overflow": null,
            "overflow_x": null,
            "overflow_y": null,
            "padding": null,
            "right": null,
            "top": null,
            "visibility": null,
            "width": null
          }
        },
        "d62831d6e2c54886a567c748b2c5d624": {
          "model_module": "@jupyter-widgets/controls",
          "model_name": "DescriptionStyleModel",
          "model_module_version": "1.5.0",
          "state": {
            "_model_module": "@jupyter-widgets/controls",
            "_model_module_version": "1.5.0",
            "_model_name": "DescriptionStyleModel",
            "_view_count": null,
            "_view_module": "@jupyter-widgets/base",
            "_view_module_version": "1.2.0",
            "_view_name": "StyleView",
            "description_width": ""
          }
        },
        "4c16f724d9194a78ae12583c70a25d4c": {
          "model_module": "@jupyter-widgets/base",
          "model_name": "LayoutModel",
          "model_module_version": "1.2.0",
          "state": {
            "_model_module": "@jupyter-widgets/base",
            "_model_module_version": "1.2.0",
            "_model_name": "LayoutModel",
            "_view_count": null,
            "_view_module": "@jupyter-widgets/base",
            "_view_module_version": "1.2.0",
            "_view_name": "LayoutView",
            "align_content": null,
            "align_items": null,
            "align_self": null,
            "border": null,
            "bottom": null,
            "display": null,
            "flex": null,
            "flex_flow": null,
            "grid_area": null,
            "grid_auto_columns": null,
            "grid_auto_flow": null,
            "grid_auto_rows": null,
            "grid_column": null,
            "grid_gap": null,
            "grid_row": null,
            "grid_template_areas": null,
            "grid_template_columns": null,
            "grid_template_rows": null,
            "height": null,
            "justify_content": null,
            "justify_items": null,
            "left": null,
            "margin": null,
            "max_height": null,
            "max_width": null,
            "min_height": null,
            "min_width": null,
            "object_fit": null,
            "object_position": null,
            "order": null,
            "overflow": null,
            "overflow_x": null,
            "overflow_y": null,
            "padding": null,
            "right": null,
            "top": null,
            "visibility": null,
            "width": null
          }
        },
        "b38ca3993a044cd696b5e595f7ffc94c": {
          "model_module": "@jupyter-widgets/controls",
          "model_name": "ProgressStyleModel",
          "model_module_version": "1.5.0",
          "state": {
            "_model_module": "@jupyter-widgets/controls",
            "_model_module_version": "1.5.0",
            "_model_name": "ProgressStyleModel",
            "_view_count": null,
            "_view_module": "@jupyter-widgets/base",
            "_view_module_version": "1.2.0",
            "_view_name": "StyleView",
            "bar_color": null,
            "description_width": ""
          }
        },
        "ae65cbc5bd244cd5b9f838b8df5a87e1": {
          "model_module": "@jupyter-widgets/base",
          "model_name": "LayoutModel",
          "model_module_version": "1.2.0",
          "state": {
            "_model_module": "@jupyter-widgets/base",
            "_model_module_version": "1.2.0",
            "_model_name": "LayoutModel",
            "_view_count": null,
            "_view_module": "@jupyter-widgets/base",
            "_view_module_version": "1.2.0",
            "_view_name": "LayoutView",
            "align_content": null,
            "align_items": null,
            "align_self": null,
            "border": null,
            "bottom": null,
            "display": null,
            "flex": null,
            "flex_flow": null,
            "grid_area": null,
            "grid_auto_columns": null,
            "grid_auto_flow": null,
            "grid_auto_rows": null,
            "grid_column": null,
            "grid_gap": null,
            "grid_row": null,
            "grid_template_areas": null,
            "grid_template_columns": null,
            "grid_template_rows": null,
            "height": null,
            "justify_content": null,
            "justify_items": null,
            "left": null,
            "margin": null,
            "max_height": null,
            "max_width": null,
            "min_height": null,
            "min_width": null,
            "object_fit": null,
            "object_position": null,
            "order": null,
            "overflow": null,
            "overflow_x": null,
            "overflow_y": null,
            "padding": null,
            "right": null,
            "top": null,
            "visibility": null,
            "width": null
          }
        },
        "033153cfd0384f6e82d19e2103d051e9": {
          "model_module": "@jupyter-widgets/controls",
          "model_name": "DescriptionStyleModel",
          "model_module_version": "1.5.0",
          "state": {
            "_model_module": "@jupyter-widgets/controls",
            "_model_module_version": "1.5.0",
            "_model_name": "DescriptionStyleModel",
            "_view_count": null,
            "_view_module": "@jupyter-widgets/base",
            "_view_module_version": "1.2.0",
            "_view_name": "StyleView",
            "description_width": ""
          }
        },
        "ee7cecb8f666488086da2e42bcf4b421": {
          "model_module": "@jupyter-widgets/controls",
          "model_name": "HBoxModel",
          "model_module_version": "1.5.0",
          "state": {
            "_dom_classes": [],
            "_model_module": "@jupyter-widgets/controls",
            "_model_module_version": "1.5.0",
            "_model_name": "HBoxModel",
            "_view_count": null,
            "_view_module": "@jupyter-widgets/controls",
            "_view_module_version": "1.5.0",
            "_view_name": "HBoxView",
            "box_style": "",
            "children": [
              "IPY_MODEL_87d76de38f524550900b4e915359da12",
              "IPY_MODEL_2efc4341f5464bbca3b221d4ea09554d",
              "IPY_MODEL_7a586c8849f041f4a3dc238e321c5036"
            ],
            "layout": "IPY_MODEL_9f49a4ef7e3a46e78b4619b756ad9e6b"
          }
        },
        "87d76de38f524550900b4e915359da12": {
          "model_module": "@jupyter-widgets/controls",
          "model_name": "HTMLModel",
          "model_module_version": "1.5.0",
          "state": {
            "_dom_classes": [],
            "_model_module": "@jupyter-widgets/controls",
            "_model_module_version": "1.5.0",
            "_model_name": "HTMLModel",
            "_view_count": null,
            "_view_module": "@jupyter-widgets/controls",
            "_view_module_version": "1.5.0",
            "_view_name": "HTMLView",
            "description": "",
            "description_tooltip": null,
            "layout": "IPY_MODEL_7c106c5cb6b846ddaadad0a5c73efe2d",
            "placeholder": "​",
            "style": "IPY_MODEL_e5d52421e1f944d6ad4ef13a9b864b83",
            "value": "vocab.json: 100%"
          }
        },
        "2efc4341f5464bbca3b221d4ea09554d": {
          "model_module": "@jupyter-widgets/controls",
          "model_name": "FloatProgressModel",
          "model_module_version": "1.5.0",
          "state": {
            "_dom_classes": [],
            "_model_module": "@jupyter-widgets/controls",
            "_model_module_version": "1.5.0",
            "_model_name": "FloatProgressModel",
            "_view_count": null,
            "_view_module": "@jupyter-widgets/controls",
            "_view_module_version": "1.5.0",
            "_view_name": "ProgressView",
            "bar_style": "success",
            "description": "",
            "description_tooltip": null,
            "layout": "IPY_MODEL_5e681e86036c45949a562b9dc69a8c45",
            "max": 1042301,
            "min": 0,
            "orientation": "horizontal",
            "style": "IPY_MODEL_49e7447f253e456da07070293490f211",
            "value": 1042301
          }
        },
        "7a586c8849f041f4a3dc238e321c5036": {
          "model_module": "@jupyter-widgets/controls",
          "model_name": "HTMLModel",
          "model_module_version": "1.5.0",
          "state": {
            "_dom_classes": [],
            "_model_module": "@jupyter-widgets/controls",
            "_model_module_version": "1.5.0",
            "_model_name": "HTMLModel",
            "_view_count": null,
            "_view_module": "@jupyter-widgets/controls",
            "_view_module_version": "1.5.0",
            "_view_name": "HTMLView",
            "description": "",
            "description_tooltip": null,
            "layout": "IPY_MODEL_90f7ea9c1b7941d59df9f3cda8e9520d",
            "placeholder": "​",
            "style": "IPY_MODEL_24c68e5b2ab2421d880d64133594a36d",
            "value": " 1.04M/1.04M [00:00&lt;00:00, 16.6MB/s]"
          }
        },
        "9f49a4ef7e3a46e78b4619b756ad9e6b": {
          "model_module": "@jupyter-widgets/base",
          "model_name": "LayoutModel",
          "model_module_version": "1.2.0",
          "state": {
            "_model_module": "@jupyter-widgets/base",
            "_model_module_version": "1.2.0",
            "_model_name": "LayoutModel",
            "_view_count": null,
            "_view_module": "@jupyter-widgets/base",
            "_view_module_version": "1.2.0",
            "_view_name": "LayoutView",
            "align_content": null,
            "align_items": null,
            "align_self": null,
            "border": null,
            "bottom": null,
            "display": null,
            "flex": null,
            "flex_flow": null,
            "grid_area": null,
            "grid_auto_columns": null,
            "grid_auto_flow": null,
            "grid_auto_rows": null,
            "grid_column": null,
            "grid_gap": null,
            "grid_row": null,
            "grid_template_areas": null,
            "grid_template_columns": null,
            "grid_template_rows": null,
            "height": null,
            "justify_content": null,
            "justify_items": null,
            "left": null,
            "margin": null,
            "max_height": null,
            "max_width": null,
            "min_height": null,
            "min_width": null,
            "object_fit": null,
            "object_position": null,
            "order": null,
            "overflow": null,
            "overflow_x": null,
            "overflow_y": null,
            "padding": null,
            "right": null,
            "top": null,
            "visibility": null,
            "width": null
          }
        },
        "7c106c5cb6b846ddaadad0a5c73efe2d": {
          "model_module": "@jupyter-widgets/base",
          "model_name": "LayoutModel",
          "model_module_version": "1.2.0",
          "state": {
            "_model_module": "@jupyter-widgets/base",
            "_model_module_version": "1.2.0",
            "_model_name": "LayoutModel",
            "_view_count": null,
            "_view_module": "@jupyter-widgets/base",
            "_view_module_version": "1.2.0",
            "_view_name": "LayoutView",
            "align_content": null,
            "align_items": null,
            "align_self": null,
            "border": null,
            "bottom": null,
            "display": null,
            "flex": null,
            "flex_flow": null,
            "grid_area": null,
            "grid_auto_columns": null,
            "grid_auto_flow": null,
            "grid_auto_rows": null,
            "grid_column": null,
            "grid_gap": null,
            "grid_row": null,
            "grid_template_areas": null,
            "grid_template_columns": null,
            "grid_template_rows": null,
            "height": null,
            "justify_content": null,
            "justify_items": null,
            "left": null,
            "margin": null,
            "max_height": null,
            "max_width": null,
            "min_height": null,
            "min_width": null,
            "object_fit": null,
            "object_position": null,
            "order": null,
            "overflow": null,
            "overflow_x": null,
            "overflow_y": null,
            "padding": null,
            "right": null,
            "top": null,
            "visibility": null,
            "width": null
          }
        },
        "e5d52421e1f944d6ad4ef13a9b864b83": {
          "model_module": "@jupyter-widgets/controls",
          "model_name": "DescriptionStyleModel",
          "model_module_version": "1.5.0",
          "state": {
            "_model_module": "@jupyter-widgets/controls",
            "_model_module_version": "1.5.0",
            "_model_name": "DescriptionStyleModel",
            "_view_count": null,
            "_view_module": "@jupyter-widgets/base",
            "_view_module_version": "1.2.0",
            "_view_name": "StyleView",
            "description_width": ""
          }
        },
        "5e681e86036c45949a562b9dc69a8c45": {
          "model_module": "@jupyter-widgets/base",
          "model_name": "LayoutModel",
          "model_module_version": "1.2.0",
          "state": {
            "_model_module": "@jupyter-widgets/base",
            "_model_module_version": "1.2.0",
            "_model_name": "LayoutModel",
            "_view_count": null,
            "_view_module": "@jupyter-widgets/base",
            "_view_module_version": "1.2.0",
            "_view_name": "LayoutView",
            "align_content": null,
            "align_items": null,
            "align_self": null,
            "border": null,
            "bottom": null,
            "display": null,
            "flex": null,
            "flex_flow": null,
            "grid_area": null,
            "grid_auto_columns": null,
            "grid_auto_flow": null,
            "grid_auto_rows": null,
            "grid_column": null,
            "grid_gap": null,
            "grid_row": null,
            "grid_template_areas": null,
            "grid_template_columns": null,
            "grid_template_rows": null,
            "height": null,
            "justify_content": null,
            "justify_items": null,
            "left": null,
            "margin": null,
            "max_height": null,
            "max_width": null,
            "min_height": null,
            "min_width": null,
            "object_fit": null,
            "object_position": null,
            "order": null,
            "overflow": null,
            "overflow_x": null,
            "overflow_y": null,
            "padding": null,
            "right": null,
            "top": null,
            "visibility": null,
            "width": null
          }
        },
        "49e7447f253e456da07070293490f211": {
          "model_module": "@jupyter-widgets/controls",
          "model_name": "ProgressStyleModel",
          "model_module_version": "1.5.0",
          "state": {
            "_model_module": "@jupyter-widgets/controls",
            "_model_module_version": "1.5.0",
            "_model_name": "ProgressStyleModel",
            "_view_count": null,
            "_view_module": "@jupyter-widgets/base",
            "_view_module_version": "1.2.0",
            "_view_name": "StyleView",
            "bar_color": null,
            "description_width": ""
          }
        },
        "90f7ea9c1b7941d59df9f3cda8e9520d": {
          "model_module": "@jupyter-widgets/base",
          "model_name": "LayoutModel",
          "model_module_version": "1.2.0",
          "state": {
            "_model_module": "@jupyter-widgets/base",
            "_model_module_version": "1.2.0",
            "_model_name": "LayoutModel",
            "_view_count": null,
            "_view_module": "@jupyter-widgets/base",
            "_view_module_version": "1.2.0",
            "_view_name": "LayoutView",
            "align_content": null,
            "align_items": null,
            "align_self": null,
            "border": null,
            "bottom": null,
            "display": null,
            "flex": null,
            "flex_flow": null,
            "grid_area": null,
            "grid_auto_columns": null,
            "grid_auto_flow": null,
            "grid_auto_rows": null,
            "grid_column": null,
            "grid_gap": null,
            "grid_row": null,
            "grid_template_areas": null,
            "grid_template_columns": null,
            "grid_template_rows": null,
            "height": null,
            "justify_content": null,
            "justify_items": null,
            "left": null,
            "margin": null,
            "max_height": null,
            "max_width": null,
            "min_height": null,
            "min_width": null,
            "object_fit": null,
            "object_position": null,
            "order": null,
            "overflow": null,
            "overflow_x": null,
            "overflow_y": null,
            "padding": null,
            "right": null,
            "top": null,
            "visibility": null,
            "width": null
          }
        },
        "24c68e5b2ab2421d880d64133594a36d": {
          "model_module": "@jupyter-widgets/controls",
          "model_name": "DescriptionStyleModel",
          "model_module_version": "1.5.0",
          "state": {
            "_model_module": "@jupyter-widgets/controls",
            "_model_module_version": "1.5.0",
            "_model_name": "DescriptionStyleModel",
            "_view_count": null,
            "_view_module": "@jupyter-widgets/base",
            "_view_module_version": "1.2.0",
            "_view_name": "StyleView",
            "description_width": ""
          }
        },
        "2d708276166b43dba4bee4a506a91743": {
          "model_module": "@jupyter-widgets/controls",
          "model_name": "HBoxModel",
          "model_module_version": "1.5.0",
          "state": {
            "_dom_classes": [],
            "_model_module": "@jupyter-widgets/controls",
            "_model_module_version": "1.5.0",
            "_model_name": "HBoxModel",
            "_view_count": null,
            "_view_module": "@jupyter-widgets/controls",
            "_view_module_version": "1.5.0",
            "_view_name": "HBoxView",
            "box_style": "",
            "children": [
              "IPY_MODEL_232fa304449a4c2cb42b7d3942c0cf38",
              "IPY_MODEL_eb071443cf75407cb64cf27487be070e",
              "IPY_MODEL_2002d10641c0452aa7f368351cce914d"
            ],
            "layout": "IPY_MODEL_efbe2842962d4ab28842efcb283f050b"
          }
        },
        "232fa304449a4c2cb42b7d3942c0cf38": {
          "model_module": "@jupyter-widgets/controls",
          "model_name": "HTMLModel",
          "model_module_version": "1.5.0",
          "state": {
            "_dom_classes": [],
            "_model_module": "@jupyter-widgets/controls",
            "_model_module_version": "1.5.0",
            "_model_name": "HTMLModel",
            "_view_count": null,
            "_view_module": "@jupyter-widgets/controls",
            "_view_module_version": "1.5.0",
            "_view_name": "HTMLView",
            "description": "",
            "description_tooltip": null,
            "layout": "IPY_MODEL_5fc4790c4233406b8923fed772811edc",
            "placeholder": "​",
            "style": "IPY_MODEL_798151648ce64fb0849f48fcddff383b",
            "value": "merges.txt: 100%"
          }
        },
        "eb071443cf75407cb64cf27487be070e": {
          "model_module": "@jupyter-widgets/controls",
          "model_name": "FloatProgressModel",
          "model_module_version": "1.5.0",
          "state": {
            "_dom_classes": [],
            "_model_module": "@jupyter-widgets/controls",
            "_model_module_version": "1.5.0",
            "_model_name": "FloatProgressModel",
            "_view_count": null,
            "_view_module": "@jupyter-widgets/controls",
            "_view_module_version": "1.5.0",
            "_view_name": "ProgressView",
            "bar_style": "success",
            "description": "",
            "description_tooltip": null,
            "layout": "IPY_MODEL_000f717c2877495480d18b6b1ac24ba0",
            "max": 456318,
            "min": 0,
            "orientation": "horizontal",
            "style": "IPY_MODEL_d4c1adb90bb446d3b5e277314c1b2a33",
            "value": 456318
          }
        },
        "2002d10641c0452aa7f368351cce914d": {
          "model_module": "@jupyter-widgets/controls",
          "model_name": "HTMLModel",
          "model_module_version": "1.5.0",
          "state": {
            "_dom_classes": [],
            "_model_module": "@jupyter-widgets/controls",
            "_model_module_version": "1.5.0",
            "_model_name": "HTMLModel",
            "_view_count": null,
            "_view_module": "@jupyter-widgets/controls",
            "_view_module_version": "1.5.0",
            "_view_name": "HTMLView",
            "description": "",
            "description_tooltip": null,
            "layout": "IPY_MODEL_7cd0039998074d25a4311edcba7f7b7d",
            "placeholder": "​",
            "style": "IPY_MODEL_d8852fe0db49469c887b92a37083e0d9",
            "value": " 456k/456k [00:00&lt;00:00, 1.59MB/s]"
          }
        },
        "efbe2842962d4ab28842efcb283f050b": {
          "model_module": "@jupyter-widgets/base",
          "model_name": "LayoutModel",
          "model_module_version": "1.2.0",
          "state": {
            "_model_module": "@jupyter-widgets/base",
            "_model_module_version": "1.2.0",
            "_model_name": "LayoutModel",
            "_view_count": null,
            "_view_module": "@jupyter-widgets/base",
            "_view_module_version": "1.2.0",
            "_view_name": "LayoutView",
            "align_content": null,
            "align_items": null,
            "align_self": null,
            "border": null,
            "bottom": null,
            "display": null,
            "flex": null,
            "flex_flow": null,
            "grid_area": null,
            "grid_auto_columns": null,
            "grid_auto_flow": null,
            "grid_auto_rows": null,
            "grid_column": null,
            "grid_gap": null,
            "grid_row": null,
            "grid_template_areas": null,
            "grid_template_columns": null,
            "grid_template_rows": null,
            "height": null,
            "justify_content": null,
            "justify_items": null,
            "left": null,
            "margin": null,
            "max_height": null,
            "max_width": null,
            "min_height": null,
            "min_width": null,
            "object_fit": null,
            "object_position": null,
            "order": null,
            "overflow": null,
            "overflow_x": null,
            "overflow_y": null,
            "padding": null,
            "right": null,
            "top": null,
            "visibility": null,
            "width": null
          }
        },
        "5fc4790c4233406b8923fed772811edc": {
          "model_module": "@jupyter-widgets/base",
          "model_name": "LayoutModel",
          "model_module_version": "1.2.0",
          "state": {
            "_model_module": "@jupyter-widgets/base",
            "_model_module_version": "1.2.0",
            "_model_name": "LayoutModel",
            "_view_count": null,
            "_view_module": "@jupyter-widgets/base",
            "_view_module_version": "1.2.0",
            "_view_name": "LayoutView",
            "align_content": null,
            "align_items": null,
            "align_self": null,
            "border": null,
            "bottom": null,
            "display": null,
            "flex": null,
            "flex_flow": null,
            "grid_area": null,
            "grid_auto_columns": null,
            "grid_auto_flow": null,
            "grid_auto_rows": null,
            "grid_column": null,
            "grid_gap": null,
            "grid_row": null,
            "grid_template_areas": null,
            "grid_template_columns": null,
            "grid_template_rows": null,
            "height": null,
            "justify_content": null,
            "justify_items": null,
            "left": null,
            "margin": null,
            "max_height": null,
            "max_width": null,
            "min_height": null,
            "min_width": null,
            "object_fit": null,
            "object_position": null,
            "order": null,
            "overflow": null,
            "overflow_x": null,
            "overflow_y": null,
            "padding": null,
            "right": null,
            "top": null,
            "visibility": null,
            "width": null
          }
        },
        "798151648ce64fb0849f48fcddff383b": {
          "model_module": "@jupyter-widgets/controls",
          "model_name": "DescriptionStyleModel",
          "model_module_version": "1.5.0",
          "state": {
            "_model_module": "@jupyter-widgets/controls",
            "_model_module_version": "1.5.0",
            "_model_name": "DescriptionStyleModel",
            "_view_count": null,
            "_view_module": "@jupyter-widgets/base",
            "_view_module_version": "1.2.0",
            "_view_name": "StyleView",
            "description_width": ""
          }
        },
        "000f717c2877495480d18b6b1ac24ba0": {
          "model_module": "@jupyter-widgets/base",
          "model_name": "LayoutModel",
          "model_module_version": "1.2.0",
          "state": {
            "_model_module": "@jupyter-widgets/base",
            "_model_module_version": "1.2.0",
            "_model_name": "LayoutModel",
            "_view_count": null,
            "_view_module": "@jupyter-widgets/base",
            "_view_module_version": "1.2.0",
            "_view_name": "LayoutView",
            "align_content": null,
            "align_items": null,
            "align_self": null,
            "border": null,
            "bottom": null,
            "display": null,
            "flex": null,
            "flex_flow": null,
            "grid_area": null,
            "grid_auto_columns": null,
            "grid_auto_flow": null,
            "grid_auto_rows": null,
            "grid_column": null,
            "grid_gap": null,
            "grid_row": null,
            "grid_template_areas": null,
            "grid_template_columns": null,
            "grid_template_rows": null,
            "height": null,
            "justify_content": null,
            "justify_items": null,
            "left": null,
            "margin": null,
            "max_height": null,
            "max_width": null,
            "min_height": null,
            "min_width": null,
            "object_fit": null,
            "object_position": null,
            "order": null,
            "overflow": null,
            "overflow_x": null,
            "overflow_y": null,
            "padding": null,
            "right": null,
            "top": null,
            "visibility": null,
            "width": null
          }
        },
        "d4c1adb90bb446d3b5e277314c1b2a33": {
          "model_module": "@jupyter-widgets/controls",
          "model_name": "ProgressStyleModel",
          "model_module_version": "1.5.0",
          "state": {
            "_model_module": "@jupyter-widgets/controls",
            "_model_module_version": "1.5.0",
            "_model_name": "ProgressStyleModel",
            "_view_count": null,
            "_view_module": "@jupyter-widgets/base",
            "_view_module_version": "1.2.0",
            "_view_name": "StyleView",
            "bar_color": null,
            "description_width": ""
          }
        },
        "7cd0039998074d25a4311edcba7f7b7d": {
          "model_module": "@jupyter-widgets/base",
          "model_name": "LayoutModel",
          "model_module_version": "1.2.0",
          "state": {
            "_model_module": "@jupyter-widgets/base",
            "_model_module_version": "1.2.0",
            "_model_name": "LayoutModel",
            "_view_count": null,
            "_view_module": "@jupyter-widgets/base",
            "_view_module_version": "1.2.0",
            "_view_name": "LayoutView",
            "align_content": null,
            "align_items": null,
            "align_self": null,
            "border": null,
            "bottom": null,
            "display": null,
            "flex": null,
            "flex_flow": null,
            "grid_area": null,
            "grid_auto_columns": null,
            "grid_auto_flow": null,
            "grid_auto_rows": null,
            "grid_column": null,
            "grid_gap": null,
            "grid_row": null,
            "grid_template_areas": null,
            "grid_template_columns": null,
            "grid_template_rows": null,
            "height": null,
            "justify_content": null,
            "justify_items": null,
            "left": null,
            "margin": null,
            "max_height": null,
            "max_width": null,
            "min_height": null,
            "min_width": null,
            "object_fit": null,
            "object_position": null,
            "order": null,
            "overflow": null,
            "overflow_x": null,
            "overflow_y": null,
            "padding": null,
            "right": null,
            "top": null,
            "visibility": null,
            "width": null
          }
        },
        "d8852fe0db49469c887b92a37083e0d9": {
          "model_module": "@jupyter-widgets/controls",
          "model_name": "DescriptionStyleModel",
          "model_module_version": "1.5.0",
          "state": {
            "_model_module": "@jupyter-widgets/controls",
            "_model_module_version": "1.5.0",
            "_model_name": "DescriptionStyleModel",
            "_view_count": null,
            "_view_module": "@jupyter-widgets/base",
            "_view_module_version": "1.2.0",
            "_view_name": "StyleView",
            "description_width": ""
          }
        },
        "a39ca80b6c054e7b936bdf010addc412": {
          "model_module": "@jupyter-widgets/controls",
          "model_name": "HBoxModel",
          "model_module_version": "1.5.0",
          "state": {
            "_dom_classes": [],
            "_model_module": "@jupyter-widgets/controls",
            "_model_module_version": "1.5.0",
            "_model_name": "HBoxModel",
            "_view_count": null,
            "_view_module": "@jupyter-widgets/controls",
            "_view_module_version": "1.5.0",
            "_view_name": "HBoxView",
            "box_style": "",
            "children": [
              "IPY_MODEL_37024530a70f47b382d41ed68f545c71",
              "IPY_MODEL_7da6932bf1d84613a909bf1290d81fed",
              "IPY_MODEL_9ec2de93afc4478fb699a19b63391b04"
            ],
            "layout": "IPY_MODEL_ef10589823564df1b9e8166d64c81f15"
          }
        },
        "37024530a70f47b382d41ed68f545c71": {
          "model_module": "@jupyter-widgets/controls",
          "model_name": "HTMLModel",
          "model_module_version": "1.5.0",
          "state": {
            "_dom_classes": [],
            "_model_module": "@jupyter-widgets/controls",
            "_model_module_version": "1.5.0",
            "_model_name": "HTMLModel",
            "_view_count": null,
            "_view_module": "@jupyter-widgets/controls",
            "_view_module_version": "1.5.0",
            "_view_name": "HTMLView",
            "description": "",
            "description_tooltip": null,
            "layout": "IPY_MODEL_0a74b59e3a7d43c8a6f1ba944dc206e2",
            "placeholder": "​",
            "style": "IPY_MODEL_4e22e8bbd60b4ec596cd2ffa3c0e8e6e",
            "value": "config.json: 100%"
          }
        },
        "7da6932bf1d84613a909bf1290d81fed": {
          "model_module": "@jupyter-widgets/controls",
          "model_name": "FloatProgressModel",
          "model_module_version": "1.5.0",
          "state": {
            "_dom_classes": [],
            "_model_module": "@jupyter-widgets/controls",
            "_model_module_version": "1.5.0",
            "_model_name": "FloatProgressModel",
            "_view_count": null,
            "_view_module": "@jupyter-widgets/controls",
            "_view_module_version": "1.5.0",
            "_view_name": "ProgressView",
            "bar_style": "success",
            "description": "",
            "description_tooltip": null,
            "layout": "IPY_MODEL_6a3a9feeca9040b688a33174ff2fa96d",
            "max": 641,
            "min": 0,
            "orientation": "horizontal",
            "style": "IPY_MODEL_83164cd6c124469c8b9262e16f2efffd",
            "value": 641
          }
        },
        "9ec2de93afc4478fb699a19b63391b04": {
          "model_module": "@jupyter-widgets/controls",
          "model_name": "HTMLModel",
          "model_module_version": "1.5.0",
          "state": {
            "_dom_classes": [],
            "_model_module": "@jupyter-widgets/controls",
            "_model_module_version": "1.5.0",
            "_model_name": "HTMLModel",
            "_view_count": null,
            "_view_module": "@jupyter-widgets/controls",
            "_view_module_version": "1.5.0",
            "_view_name": "HTMLView",
            "description": "",
            "description_tooltip": null,
            "layout": "IPY_MODEL_26d4744b6638411e976fcdc7ba71654c",
            "placeholder": "​",
            "style": "IPY_MODEL_8cc2825f21db43e288c81b64a96cc998",
            "value": " 641/641 [00:00&lt;00:00, 45.8kB/s]"
          }
        },
        "ef10589823564df1b9e8166d64c81f15": {
          "model_module": "@jupyter-widgets/base",
          "model_name": "LayoutModel",
          "model_module_version": "1.2.0",
          "state": {
            "_model_module": "@jupyter-widgets/base",
            "_model_module_version": "1.2.0",
            "_model_name": "LayoutModel",
            "_view_count": null,
            "_view_module": "@jupyter-widgets/base",
            "_view_module_version": "1.2.0",
            "_view_name": "LayoutView",
            "align_content": null,
            "align_items": null,
            "align_self": null,
            "border": null,
            "bottom": null,
            "display": null,
            "flex": null,
            "flex_flow": null,
            "grid_area": null,
            "grid_auto_columns": null,
            "grid_auto_flow": null,
            "grid_auto_rows": null,
            "grid_column": null,
            "grid_gap": null,
            "grid_row": null,
            "grid_template_areas": null,
            "grid_template_columns": null,
            "grid_template_rows": null,
            "height": null,
            "justify_content": null,
            "justify_items": null,
            "left": null,
            "margin": null,
            "max_height": null,
            "max_width": null,
            "min_height": null,
            "min_width": null,
            "object_fit": null,
            "object_position": null,
            "order": null,
            "overflow": null,
            "overflow_x": null,
            "overflow_y": null,
            "padding": null,
            "right": null,
            "top": null,
            "visibility": null,
            "width": null
          }
        },
        "0a74b59e3a7d43c8a6f1ba944dc206e2": {
          "model_module": "@jupyter-widgets/base",
          "model_name": "LayoutModel",
          "model_module_version": "1.2.0",
          "state": {
            "_model_module": "@jupyter-widgets/base",
            "_model_module_version": "1.2.0",
            "_model_name": "LayoutModel",
            "_view_count": null,
            "_view_module": "@jupyter-widgets/base",
            "_view_module_version": "1.2.0",
            "_view_name": "LayoutView",
            "align_content": null,
            "align_items": null,
            "align_self": null,
            "border": null,
            "bottom": null,
            "display": null,
            "flex": null,
            "flex_flow": null,
            "grid_area": null,
            "grid_auto_columns": null,
            "grid_auto_flow": null,
            "grid_auto_rows": null,
            "grid_column": null,
            "grid_gap": null,
            "grid_row": null,
            "grid_template_areas": null,
            "grid_template_columns": null,
            "grid_template_rows": null,
            "height": null,
            "justify_content": null,
            "justify_items": null,
            "left": null,
            "margin": null,
            "max_height": null,
            "max_width": null,
            "min_height": null,
            "min_width": null,
            "object_fit": null,
            "object_position": null,
            "order": null,
            "overflow": null,
            "overflow_x": null,
            "overflow_y": null,
            "padding": null,
            "right": null,
            "top": null,
            "visibility": null,
            "width": null
          }
        },
        "4e22e8bbd60b4ec596cd2ffa3c0e8e6e": {
          "model_module": "@jupyter-widgets/controls",
          "model_name": "DescriptionStyleModel",
          "model_module_version": "1.5.0",
          "state": {
            "_model_module": "@jupyter-widgets/controls",
            "_model_module_version": "1.5.0",
            "_model_name": "DescriptionStyleModel",
            "_view_count": null,
            "_view_module": "@jupyter-widgets/base",
            "_view_module_version": "1.2.0",
            "_view_name": "StyleView",
            "description_width": ""
          }
        },
        "6a3a9feeca9040b688a33174ff2fa96d": {
          "model_module": "@jupyter-widgets/base",
          "model_name": "LayoutModel",
          "model_module_version": "1.2.0",
          "state": {
            "_model_module": "@jupyter-widgets/base",
            "_model_module_version": "1.2.0",
            "_model_name": "LayoutModel",
            "_view_count": null,
            "_view_module": "@jupyter-widgets/base",
            "_view_module_version": "1.2.0",
            "_view_name": "LayoutView",
            "align_content": null,
            "align_items": null,
            "align_self": null,
            "border": null,
            "bottom": null,
            "display": null,
            "flex": null,
            "flex_flow": null,
            "grid_area": null,
            "grid_auto_columns": null,
            "grid_auto_flow": null,
            "grid_auto_rows": null,
            "grid_column": null,
            "grid_gap": null,
            "grid_row": null,
            "grid_template_areas": null,
            "grid_template_columns": null,
            "grid_template_rows": null,
            "height": null,
            "justify_content": null,
            "justify_items": null,
            "left": null,
            "margin": null,
            "max_height": null,
            "max_width": null,
            "min_height": null,
            "min_width": null,
            "object_fit": null,
            "object_position": null,
            "order": null,
            "overflow": null,
            "overflow_x": null,
            "overflow_y": null,
            "padding": null,
            "right": null,
            "top": null,
            "visibility": null,
            "width": null
          }
        },
        "83164cd6c124469c8b9262e16f2efffd": {
          "model_module": "@jupyter-widgets/controls",
          "model_name": "ProgressStyleModel",
          "model_module_version": "1.5.0",
          "state": {
            "_model_module": "@jupyter-widgets/controls",
            "_model_module_version": "1.5.0",
            "_model_name": "ProgressStyleModel",
            "_view_count": null,
            "_view_module": "@jupyter-widgets/base",
            "_view_module_version": "1.2.0",
            "_view_name": "StyleView",
            "bar_color": null,
            "description_width": ""
          }
        },
        "26d4744b6638411e976fcdc7ba71654c": {
          "model_module": "@jupyter-widgets/base",
          "model_name": "LayoutModel",
          "model_module_version": "1.2.0",
          "state": {
            "_model_module": "@jupyter-widgets/base",
            "_model_module_version": "1.2.0",
            "_model_name": "LayoutModel",
            "_view_count": null,
            "_view_module": "@jupyter-widgets/base",
            "_view_module_version": "1.2.0",
            "_view_name": "LayoutView",
            "align_content": null,
            "align_items": null,
            "align_self": null,
            "border": null,
            "bottom": null,
            "display": null,
            "flex": null,
            "flex_flow": null,
            "grid_area": null,
            "grid_auto_columns": null,
            "grid_auto_flow": null,
            "grid_auto_rows": null,
            "grid_column": null,
            "grid_gap": null,
            "grid_row": null,
            "grid_template_areas": null,
            "grid_template_columns": null,
            "grid_template_rows": null,
            "height": null,
            "justify_content": null,
            "justify_items": null,
            "left": null,
            "margin": null,
            "max_height": null,
            "max_width": null,
            "min_height": null,
            "min_width": null,
            "object_fit": null,
            "object_position": null,
            "order": null,
            "overflow": null,
            "overflow_x": null,
            "overflow_y": null,
            "padding": null,
            "right": null,
            "top": null,
            "visibility": null,
            "width": null
          }
        },
        "8cc2825f21db43e288c81b64a96cc998": {
          "model_module": "@jupyter-widgets/controls",
          "model_name": "DescriptionStyleModel",
          "model_module_version": "1.5.0",
          "state": {
            "_model_module": "@jupyter-widgets/controls",
            "_model_module_version": "1.5.0",
            "_model_name": "DescriptionStyleModel",
            "_view_count": null,
            "_view_module": "@jupyter-widgets/base",
            "_view_module_version": "1.2.0",
            "_view_name": "StyleView",
            "description_width": ""
          }
        },
        "c0b40f6d96b6423db52821eab021dae3": {
          "model_module": "@jupyter-widgets/controls",
          "model_name": "HBoxModel",
          "model_module_version": "1.5.0",
          "state": {
            "_dom_classes": [],
            "_model_module": "@jupyter-widgets/controls",
            "_model_module_version": "1.5.0",
            "_model_name": "HBoxModel",
            "_view_count": null,
            "_view_module": "@jupyter-widgets/controls",
            "_view_module_version": "1.5.0",
            "_view_name": "HBoxView",
            "box_style": "",
            "children": [
              "IPY_MODEL_d0f72def56354b1c824e1e21d5d528d0",
              "IPY_MODEL_a220a1abed454967bfd9ba204ed01dc0",
              "IPY_MODEL_024d1f4457e74f138ff8260558ccd048"
            ],
            "layout": "IPY_MODEL_4a9abbb3ef2d4283814402f1a7618164"
          }
        },
        "d0f72def56354b1c824e1e21d5d528d0": {
          "model_module": "@jupyter-widgets/controls",
          "model_name": "HTMLModel",
          "model_module_version": "1.5.0",
          "state": {
            "_dom_classes": [],
            "_model_module": "@jupyter-widgets/controls",
            "_model_module_version": "1.5.0",
            "_model_name": "HTMLModel",
            "_view_count": null,
            "_view_module": "@jupyter-widgets/controls",
            "_view_module_version": "1.5.0",
            "_view_name": "HTMLView",
            "description": "",
            "description_tooltip": null,
            "layout": "IPY_MODEL_33ff5cd3bb634038898378824530d6c6",
            "placeholder": "​",
            "style": "IPY_MODEL_4ebc4862f5464870b9111bc7cb613280",
            "value": "model.safetensors: 100%"
          }
        },
        "a220a1abed454967bfd9ba204ed01dc0": {
          "model_module": "@jupyter-widgets/controls",
          "model_name": "FloatProgressModel",
          "model_module_version": "1.5.0",
          "state": {
            "_dom_classes": [],
            "_model_module": "@jupyter-widgets/controls",
            "_model_module_version": "1.5.0",
            "_model_name": "FloatProgressModel",
            "_view_count": null,
            "_view_module": "@jupyter-widgets/controls",
            "_view_module_version": "1.5.0",
            "_view_name": "ProgressView",
            "bar_style": "success",
            "description": "",
            "description_tooltip": null,
            "layout": "IPY_MODEL_e8edc009ca8143098aa0ae39d69d2cbb",
            "max": 351256598,
            "min": 0,
            "orientation": "horizontal",
            "style": "IPY_MODEL_9ad1acf8eabf48c5b1dcd1237a45f25f",
            "value": 351256598
          }
        },
        "024d1f4457e74f138ff8260558ccd048": {
          "model_module": "@jupyter-widgets/controls",
          "model_name": "HTMLModel",
          "model_module_version": "1.5.0",
          "state": {
            "_dom_classes": [],
            "_model_module": "@jupyter-widgets/controls",
            "_model_module_version": "1.5.0",
            "_model_name": "HTMLModel",
            "_view_count": null,
            "_view_module": "@jupyter-widgets/controls",
            "_view_module_version": "1.5.0",
            "_view_name": "HTMLView",
            "description": "",
            "description_tooltip": null,
            "layout": "IPY_MODEL_afcfe2834a874b6081502e5471210600",
            "placeholder": "​",
            "style": "IPY_MODEL_b3cbdf4d3bfa4320a515ee09f73c52af",
            "value": " 351M/351M [00:01&lt;00:00, 244MB/s]"
          }
        },
        "4a9abbb3ef2d4283814402f1a7618164": {
          "model_module": "@jupyter-widgets/base",
          "model_name": "LayoutModel",
          "model_module_version": "1.2.0",
          "state": {
            "_model_module": "@jupyter-widgets/base",
            "_model_module_version": "1.2.0",
            "_model_name": "LayoutModel",
            "_view_count": null,
            "_view_module": "@jupyter-widgets/base",
            "_view_module_version": "1.2.0",
            "_view_name": "LayoutView",
            "align_content": null,
            "align_items": null,
            "align_self": null,
            "border": null,
            "bottom": null,
            "display": null,
            "flex": null,
            "flex_flow": null,
            "grid_area": null,
            "grid_auto_columns": null,
            "grid_auto_flow": null,
            "grid_auto_rows": null,
            "grid_column": null,
            "grid_gap": null,
            "grid_row": null,
            "grid_template_areas": null,
            "grid_template_columns": null,
            "grid_template_rows": null,
            "height": null,
            "justify_content": null,
            "justify_items": null,
            "left": null,
            "margin": null,
            "max_height": null,
            "max_width": null,
            "min_height": null,
            "min_width": null,
            "object_fit": null,
            "object_position": null,
            "order": null,
            "overflow": null,
            "overflow_x": null,
            "overflow_y": null,
            "padding": null,
            "right": null,
            "top": null,
            "visibility": null,
            "width": null
          }
        },
        "33ff5cd3bb634038898378824530d6c6": {
          "model_module": "@jupyter-widgets/base",
          "model_name": "LayoutModel",
          "model_module_version": "1.2.0",
          "state": {
            "_model_module": "@jupyter-widgets/base",
            "_model_module_version": "1.2.0",
            "_model_name": "LayoutModel",
            "_view_count": null,
            "_view_module": "@jupyter-widgets/base",
            "_view_module_version": "1.2.0",
            "_view_name": "LayoutView",
            "align_content": null,
            "align_items": null,
            "align_self": null,
            "border": null,
            "bottom": null,
            "display": null,
            "flex": null,
            "flex_flow": null,
            "grid_area": null,
            "grid_auto_columns": null,
            "grid_auto_flow": null,
            "grid_auto_rows": null,
            "grid_column": null,
            "grid_gap": null,
            "grid_row": null,
            "grid_template_areas": null,
            "grid_template_columns": null,
            "grid_template_rows": null,
            "height": null,
            "justify_content": null,
            "justify_items": null,
            "left": null,
            "margin": null,
            "max_height": null,
            "max_width": null,
            "min_height": null,
            "min_width": null,
            "object_fit": null,
            "object_position": null,
            "order": null,
            "overflow": null,
            "overflow_x": null,
            "overflow_y": null,
            "padding": null,
            "right": null,
            "top": null,
            "visibility": null,
            "width": null
          }
        },
        "4ebc4862f5464870b9111bc7cb613280": {
          "model_module": "@jupyter-widgets/controls",
          "model_name": "DescriptionStyleModel",
          "model_module_version": "1.5.0",
          "state": {
            "_model_module": "@jupyter-widgets/controls",
            "_model_module_version": "1.5.0",
            "_model_name": "DescriptionStyleModel",
            "_view_count": null,
            "_view_module": "@jupyter-widgets/base",
            "_view_module_version": "1.2.0",
            "_view_name": "StyleView",
            "description_width": ""
          }
        },
        "e8edc009ca8143098aa0ae39d69d2cbb": {
          "model_module": "@jupyter-widgets/base",
          "model_name": "LayoutModel",
          "model_module_version": "1.2.0",
          "state": {
            "_model_module": "@jupyter-widgets/base",
            "_model_module_version": "1.2.0",
            "_model_name": "LayoutModel",
            "_view_count": null,
            "_view_module": "@jupyter-widgets/base",
            "_view_module_version": "1.2.0",
            "_view_name": "LayoutView",
            "align_content": null,
            "align_items": null,
            "align_self": null,
            "border": null,
            "bottom": null,
            "display": null,
            "flex": null,
            "flex_flow": null,
            "grid_area": null,
            "grid_auto_columns": null,
            "grid_auto_flow": null,
            "grid_auto_rows": null,
            "grid_column": null,
            "grid_gap": null,
            "grid_row": null,
            "grid_template_areas": null,
            "grid_template_columns": null,
            "grid_template_rows": null,
            "height": null,
            "justify_content": null,
            "justify_items": null,
            "left": null,
            "margin": null,
            "max_height": null,
            "max_width": null,
            "min_height": null,
            "min_width": null,
            "object_fit": null,
            "object_position": null,
            "order": null,
            "overflow": null,
            "overflow_x": null,
            "overflow_y": null,
            "padding": null,
            "right": null,
            "top": null,
            "visibility": null,
            "width": null
          }
        },
        "9ad1acf8eabf48c5b1dcd1237a45f25f": {
          "model_module": "@jupyter-widgets/controls",
          "model_name": "ProgressStyleModel",
          "model_module_version": "1.5.0",
          "state": {
            "_model_module": "@jupyter-widgets/controls",
            "_model_module_version": "1.5.0",
            "_model_name": "ProgressStyleModel",
            "_view_count": null,
            "_view_module": "@jupyter-widgets/base",
            "_view_module_version": "1.2.0",
            "_view_name": "StyleView",
            "bar_color": null,
            "description_width": ""
          }
        },
        "afcfe2834a874b6081502e5471210600": {
          "model_module": "@jupyter-widgets/base",
          "model_name": "LayoutModel",
          "model_module_version": "1.2.0",
          "state": {
            "_model_module": "@jupyter-widgets/base",
            "_model_module_version": "1.2.0",
            "_model_name": "LayoutModel",
            "_view_count": null,
            "_view_module": "@jupyter-widgets/base",
            "_view_module_version": "1.2.0",
            "_view_name": "LayoutView",
            "align_content": null,
            "align_items": null,
            "align_self": null,
            "border": null,
            "bottom": null,
            "display": null,
            "flex": null,
            "flex_flow": null,
            "grid_area": null,
            "grid_auto_columns": null,
            "grid_auto_flow": null,
            "grid_auto_rows": null,
            "grid_column": null,
            "grid_gap": null,
            "grid_row": null,
            "grid_template_areas": null,
            "grid_template_columns": null,
            "grid_template_rows": null,
            "height": null,
            "justify_content": null,
            "justify_items": null,
            "left": null,
            "margin": null,
            "max_height": null,
            "max_width": null,
            "min_height": null,
            "min_width": null,
            "object_fit": null,
            "object_position": null,
            "order": null,
            "overflow": null,
            "overflow_x": null,
            "overflow_y": null,
            "padding": null,
            "right": null,
            "top": null,
            "visibility": null,
            "width": null
          }
        },
        "b3cbdf4d3bfa4320a515ee09f73c52af": {
          "model_module": "@jupyter-widgets/controls",
          "model_name": "DescriptionStyleModel",
          "model_module_version": "1.5.0",
          "state": {
            "_model_module": "@jupyter-widgets/controls",
            "_model_module_version": "1.5.0",
            "_model_name": "DescriptionStyleModel",
            "_view_count": null,
            "_view_module": "@jupyter-widgets/base",
            "_view_module_version": "1.2.0",
            "_view_name": "StyleView",
            "description_width": ""
          }
        },
        "8414d5b284334acaa8ee14a981d14e54": {
          "model_module": "@jupyter-widgets/controls",
          "model_name": "HBoxModel",
          "model_module_version": "1.5.0",
          "state": {
            "_dom_classes": [],
            "_model_module": "@jupyter-widgets/controls",
            "_model_module_version": "1.5.0",
            "_model_name": "HBoxModel",
            "_view_count": null,
            "_view_module": "@jupyter-widgets/controls",
            "_view_module_version": "1.5.0",
            "_view_name": "HBoxView",
            "box_style": "",
            "children": [
              "IPY_MODEL_e4cfa3ec7fc54d3e9133b0420ea618e0",
              "IPY_MODEL_50d94596d9c04f7297e306bf2f7905f8",
              "IPY_MODEL_a91ba80de103411f8b98de4e1e2a188e"
            ],
            "layout": "IPY_MODEL_5444f80d538f47388ff98d6414be283e"
          }
        },
        "e4cfa3ec7fc54d3e9133b0420ea618e0": {
          "model_module": "@jupyter-widgets/controls",
          "model_name": "HTMLModel",
          "model_module_version": "1.5.0",
          "state": {
            "_dom_classes": [],
            "_model_module": "@jupyter-widgets/controls",
            "_model_module_version": "1.5.0",
            "_model_name": "HTMLModel",
            "_view_count": null,
            "_view_module": "@jupyter-widgets/controls",
            "_view_module_version": "1.5.0",
            "_view_name": "HTMLView",
            "description": "",
            "description_tooltip": null,
            "layout": "IPY_MODEL_9f244f36539443fbb1607abbaae6caf0",
            "placeholder": "​",
            "style": "IPY_MODEL_22f3eb094fda4c6ba9a6e034bba6d03f",
            "value": "generation_config.json: 100%"
          }
        },
        "50d94596d9c04f7297e306bf2f7905f8": {
          "model_module": "@jupyter-widgets/controls",
          "model_name": "FloatProgressModel",
          "model_module_version": "1.5.0",
          "state": {
            "_dom_classes": [],
            "_model_module": "@jupyter-widgets/controls",
            "_model_module_version": "1.5.0",
            "_model_name": "FloatProgressModel",
            "_view_count": null,
            "_view_module": "@jupyter-widgets/controls",
            "_view_module_version": "1.5.0",
            "_view_name": "ProgressView",
            "bar_style": "success",
            "description": "",
            "description_tooltip": null,
            "layout": "IPY_MODEL_070053f78dd64ab9967ebdcee14048f2",
            "max": 124,
            "min": 0,
            "orientation": "horizontal",
            "style": "IPY_MODEL_6e9580faa86049f98d9056b598fff726",
            "value": 124
          }
        },
        "a91ba80de103411f8b98de4e1e2a188e": {
          "model_module": "@jupyter-widgets/controls",
          "model_name": "HTMLModel",
          "model_module_version": "1.5.0",
          "state": {
            "_dom_classes": [],
            "_model_module": "@jupyter-widgets/controls",
            "_model_module_version": "1.5.0",
            "_model_name": "HTMLModel",
            "_view_count": null,
            "_view_module": "@jupyter-widgets/controls",
            "_view_module_version": "1.5.0",
            "_view_name": "HTMLView",
            "description": "",
            "description_tooltip": null,
            "layout": "IPY_MODEL_994bd447d69a4c309286d1089fab9a7b",
            "placeholder": "​",
            "style": "IPY_MODEL_2ab4de1fd5e141708251bef12b0c2cd7",
            "value": " 124/124 [00:00&lt;00:00, 7.82kB/s]"
          }
        },
        "5444f80d538f47388ff98d6414be283e": {
          "model_module": "@jupyter-widgets/base",
          "model_name": "LayoutModel",
          "model_module_version": "1.2.0",
          "state": {
            "_model_module": "@jupyter-widgets/base",
            "_model_module_version": "1.2.0",
            "_model_name": "LayoutModel",
            "_view_count": null,
            "_view_module": "@jupyter-widgets/base",
            "_view_module_version": "1.2.0",
            "_view_name": "LayoutView",
            "align_content": null,
            "align_items": null,
            "align_self": null,
            "border": null,
            "bottom": null,
            "display": null,
            "flex": null,
            "flex_flow": null,
            "grid_area": null,
            "grid_auto_columns": null,
            "grid_auto_flow": null,
            "grid_auto_rows": null,
            "grid_column": null,
            "grid_gap": null,
            "grid_row": null,
            "grid_template_areas": null,
            "grid_template_columns": null,
            "grid_template_rows": null,
            "height": null,
            "justify_content": null,
            "justify_items": null,
            "left": null,
            "margin": null,
            "max_height": null,
            "max_width": null,
            "min_height": null,
            "min_width": null,
            "object_fit": null,
            "object_position": null,
            "order": null,
            "overflow": null,
            "overflow_x": null,
            "overflow_y": null,
            "padding": null,
            "right": null,
            "top": null,
            "visibility": null,
            "width": null
          }
        },
        "9f244f36539443fbb1607abbaae6caf0": {
          "model_module": "@jupyter-widgets/base",
          "model_name": "LayoutModel",
          "model_module_version": "1.2.0",
          "state": {
            "_model_module": "@jupyter-widgets/base",
            "_model_module_version": "1.2.0",
            "_model_name": "LayoutModel",
            "_view_count": null,
            "_view_module": "@jupyter-widgets/base",
            "_view_module_version": "1.2.0",
            "_view_name": "LayoutView",
            "align_content": null,
            "align_items": null,
            "align_self": null,
            "border": null,
            "bottom": null,
            "display": null,
            "flex": null,
            "flex_flow": null,
            "grid_area": null,
            "grid_auto_columns": null,
            "grid_auto_flow": null,
            "grid_auto_rows": null,
            "grid_column": null,
            "grid_gap": null,
            "grid_row": null,
            "grid_template_areas": null,
            "grid_template_columns": null,
            "grid_template_rows": null,
            "height": null,
            "justify_content": null,
            "justify_items": null,
            "left": null,
            "margin": null,
            "max_height": null,
            "max_width": null,
            "min_height": null,
            "min_width": null,
            "object_fit": null,
            "object_position": null,
            "order": null,
            "overflow": null,
            "overflow_x": null,
            "overflow_y": null,
            "padding": null,
            "right": null,
            "top": null,
            "visibility": null,
            "width": null
          }
        },
        "22f3eb094fda4c6ba9a6e034bba6d03f": {
          "model_module": "@jupyter-widgets/controls",
          "model_name": "DescriptionStyleModel",
          "model_module_version": "1.5.0",
          "state": {
            "_model_module": "@jupyter-widgets/controls",
            "_model_module_version": "1.5.0",
            "_model_name": "DescriptionStyleModel",
            "_view_count": null,
            "_view_module": "@jupyter-widgets/base",
            "_view_module_version": "1.2.0",
            "_view_name": "StyleView",
            "description_width": ""
          }
        },
        "070053f78dd64ab9967ebdcee14048f2": {
          "model_module": "@jupyter-widgets/base",
          "model_name": "LayoutModel",
          "model_module_version": "1.2.0",
          "state": {
            "_model_module": "@jupyter-widgets/base",
            "_model_module_version": "1.2.0",
            "_model_name": "LayoutModel",
            "_view_count": null,
            "_view_module": "@jupyter-widgets/base",
            "_view_module_version": "1.2.0",
            "_view_name": "LayoutView",
            "align_content": null,
            "align_items": null,
            "align_self": null,
            "border": null,
            "bottom": null,
            "display": null,
            "flex": null,
            "flex_flow": null,
            "grid_area": null,
            "grid_auto_columns": null,
            "grid_auto_flow": null,
            "grid_auto_rows": null,
            "grid_column": null,
            "grid_gap": null,
            "grid_row": null,
            "grid_template_areas": null,
            "grid_template_columns": null,
            "grid_template_rows": null,
            "height": null,
            "justify_content": null,
            "justify_items": null,
            "left": null,
            "margin": null,
            "max_height": null,
            "max_width": null,
            "min_height": null,
            "min_width": null,
            "object_fit": null,
            "object_position": null,
            "order": null,
            "overflow": null,
            "overflow_x": null,
            "overflow_y": null,
            "padding": null,
            "right": null,
            "top": null,
            "visibility": null,
            "width": null
          }
        },
        "6e9580faa86049f98d9056b598fff726": {
          "model_module": "@jupyter-widgets/controls",
          "model_name": "ProgressStyleModel",
          "model_module_version": "1.5.0",
          "state": {
            "_model_module": "@jupyter-widgets/controls",
            "_model_module_version": "1.5.0",
            "_model_name": "ProgressStyleModel",
            "_view_count": null,
            "_view_module": "@jupyter-widgets/base",
            "_view_module_version": "1.2.0",
            "_view_name": "StyleView",
            "bar_color": null,
            "description_width": ""
          }
        },
        "994bd447d69a4c309286d1089fab9a7b": {
          "model_module": "@jupyter-widgets/base",
          "model_name": "LayoutModel",
          "model_module_version": "1.2.0",
          "state": {
            "_model_module": "@jupyter-widgets/base",
            "_model_module_version": "1.2.0",
            "_model_name": "LayoutModel",
            "_view_count": null,
            "_view_module": "@jupyter-widgets/base",
            "_view_module_version": "1.2.0",
            "_view_name": "LayoutView",
            "align_content": null,
            "align_items": null,
            "align_self": null,
            "border": null,
            "bottom": null,
            "display": null,
            "flex": null,
            "flex_flow": null,
            "grid_area": null,
            "grid_auto_columns": null,
            "grid_auto_flow": null,
            "grid_auto_rows": null,
            "grid_column": null,
            "grid_gap": null,
            "grid_row": null,
            "grid_template_areas": null,
            "grid_template_columns": null,
            "grid_template_rows": null,
            "height": null,
            "justify_content": null,
            "justify_items": null,
            "left": null,
            "margin": null,
            "max_height": null,
            "max_width": null,
            "min_height": null,
            "min_width": null,
            "object_fit": null,
            "object_position": null,
            "order": null,
            "overflow": null,
            "overflow_x": null,
            "overflow_y": null,
            "padding": null,
            "right": null,
            "top": null,
            "visibility": null,
            "width": null
          }
        },
        "2ab4de1fd5e141708251bef12b0c2cd7": {
          "model_module": "@jupyter-widgets/controls",
          "model_name": "DescriptionStyleModel",
          "model_module_version": "1.5.0",
          "state": {
            "_model_module": "@jupyter-widgets/controls",
            "_model_module_version": "1.5.0",
            "_model_name": "DescriptionStyleModel",
            "_view_count": null,
            "_view_module": "@jupyter-widgets/base",
            "_view_module_version": "1.2.0",
            "_view_name": "StyleView",
            "description_width": ""
          }
        }
      }
    }
  },
  "cells": [
    {
      "cell_type": "markdown",
      "source": [
        "Colab Link - https://colab.research.google.com/drive/1LSZjttnWx9LIuhPgXyNLQ_9JmGxVA6Xp?usp=sharing"
      ],
      "metadata": {
        "id": "lvd41D0Lx4ga"
      }
    },
    {
      "cell_type": "markdown",
      "source": [
        "## Installations and Imports"
      ],
      "metadata": {
        "id": "uEV4DNyNx2Tj"
      }
    },
    {
      "cell_type": "code",
      "execution_count": 1,
      "metadata": {
        "id": "pGaBwlX7xAsr"
      },
      "outputs": [],
      "source": [
        "! pip -q install transformers"
      ]
    },
    {
      "cell_type": "code",
      "source": [
        "!ls"
      ],
      "metadata": {
        "colab": {
          "base_uri": "https://localhost:8080/"
        },
        "id": "V1I8tMk8x1Ck",
        "outputId": "dbd29b14-0d62-4184-9232-0c3d6c657daa"
      },
      "execution_count": 3,
      "outputs": [
        {
          "output_type": "stream",
          "name": "stdout",
          "text": [
            "sample_data\n"
          ]
        }
      ]
    },
    {
      "cell_type": "code",
      "source": [
        "from transformers import AutoModelWithLMHead, AutoTokenizer\n",
        "import torch\n",
        "import os\n",
        "\n",
        "\n",
        "tokenizer = AutoTokenizer.from_pretrained(\"microsoft/DialoGPT-small\")\n",
        "model = AutoModelWithLMHead.from_pretrained(\"microsoft/DialoGPT-small\")"
      ],
      "metadata": {
        "colab": {
          "base_uri": "https://localhost:8080/",
          "height": 368,
          "referenced_widgets": [
            "eaec7dd8ba50481ba3b7a2adde500cb4",
            "dcb61c6b384c4dc584f51cdfd7da28eb",
            "92b629d119df4d57b113fa1354c90d1d",
            "16240636bf93482ab02a924fc51ca4f2",
            "20ce8a23d63841648a8d38bfd17fdfa9",
            "7998bc7e711d42bbae2531a350f119f6",
            "d62831d6e2c54886a567c748b2c5d624",
            "4c16f724d9194a78ae12583c70a25d4c",
            "b38ca3993a044cd696b5e595f7ffc94c",
            "ae65cbc5bd244cd5b9f838b8df5a87e1",
            "033153cfd0384f6e82d19e2103d051e9",
            "ee7cecb8f666488086da2e42bcf4b421",
            "87d76de38f524550900b4e915359da12",
            "2efc4341f5464bbca3b221d4ea09554d",
            "7a586c8849f041f4a3dc238e321c5036",
            "9f49a4ef7e3a46e78b4619b756ad9e6b",
            "7c106c5cb6b846ddaadad0a5c73efe2d",
            "e5d52421e1f944d6ad4ef13a9b864b83",
            "5e681e86036c45949a562b9dc69a8c45",
            "49e7447f253e456da07070293490f211",
            "90f7ea9c1b7941d59df9f3cda8e9520d",
            "24c68e5b2ab2421d880d64133594a36d",
            "2d708276166b43dba4bee4a506a91743",
            "232fa304449a4c2cb42b7d3942c0cf38",
            "eb071443cf75407cb64cf27487be070e",
            "2002d10641c0452aa7f368351cce914d",
            "efbe2842962d4ab28842efcb283f050b",
            "5fc4790c4233406b8923fed772811edc",
            "798151648ce64fb0849f48fcddff383b",
            "000f717c2877495480d18b6b1ac24ba0",
            "d4c1adb90bb446d3b5e277314c1b2a33",
            "7cd0039998074d25a4311edcba7f7b7d",
            "d8852fe0db49469c887b92a37083e0d9",
            "a39ca80b6c054e7b936bdf010addc412",
            "37024530a70f47b382d41ed68f545c71",
            "7da6932bf1d84613a909bf1290d81fed",
            "9ec2de93afc4478fb699a19b63391b04",
            "ef10589823564df1b9e8166d64c81f15",
            "0a74b59e3a7d43c8a6f1ba944dc206e2",
            "4e22e8bbd60b4ec596cd2ffa3c0e8e6e",
            "6a3a9feeca9040b688a33174ff2fa96d",
            "83164cd6c124469c8b9262e16f2efffd",
            "26d4744b6638411e976fcdc7ba71654c",
            "8cc2825f21db43e288c81b64a96cc998",
            "c0b40f6d96b6423db52821eab021dae3",
            "d0f72def56354b1c824e1e21d5d528d0",
            "a220a1abed454967bfd9ba204ed01dc0",
            "024d1f4457e74f138ff8260558ccd048",
            "4a9abbb3ef2d4283814402f1a7618164",
            "33ff5cd3bb634038898378824530d6c6",
            "4ebc4862f5464870b9111bc7cb613280",
            "e8edc009ca8143098aa0ae39d69d2cbb",
            "9ad1acf8eabf48c5b1dcd1237a45f25f",
            "afcfe2834a874b6081502e5471210600",
            "b3cbdf4d3bfa4320a515ee09f73c52af",
            "8414d5b284334acaa8ee14a981d14e54",
            "e4cfa3ec7fc54d3e9133b0420ea618e0",
            "50d94596d9c04f7297e306bf2f7905f8",
            "a91ba80de103411f8b98de4e1e2a188e",
            "5444f80d538f47388ff98d6414be283e",
            "9f244f36539443fbb1607abbaae6caf0",
            "22f3eb094fda4c6ba9a6e034bba6d03f",
            "070053f78dd64ab9967ebdcee14048f2",
            "6e9580faa86049f98d9056b598fff726",
            "994bd447d69a4c309286d1089fab9a7b",
            "2ab4de1fd5e141708251bef12b0c2cd7"
          ]
        },
        "id": "32ItctMHyBWZ",
        "outputId": "7a969c03-f7c1-4567-b1f8-30ee7babc180"
      },
      "execution_count": 2,
      "outputs": [
        {
          "output_type": "stream",
          "name": "stderr",
          "text": [
            "/usr/local/lib/python3.10/dist-packages/huggingface_hub/utils/_token.py:88: UserWarning: \n",
            "The secret `HF_TOKEN` does not exist in your Colab secrets.\n",
            "To authenticate with the Hugging Face Hub, create a token in your settings tab (https://huggingface.co/settings/tokens), set it as secret in your Google Colab and restart your session.\n",
            "You will be able to reuse this secret in all of your notebooks.\n",
            "Please note that authentication is recommended but still optional to access public models or datasets.\n",
            "  warnings.warn(\n"
          ]
        },
        {
          "output_type": "display_data",
          "data": {
            "text/plain": [
              "tokenizer_config.json:   0%|          | 0.00/614 [00:00<?, ?B/s]"
            ],
            "application/vnd.jupyter.widget-view+json": {
              "version_major": 2,
              "version_minor": 0,
              "model_id": "eaec7dd8ba50481ba3b7a2adde500cb4"
            }
          },
          "metadata": {}
        },
        {
          "output_type": "display_data",
          "data": {
            "text/plain": [
              "vocab.json:   0%|          | 0.00/1.04M [00:00<?, ?B/s]"
            ],
            "application/vnd.jupyter.widget-view+json": {
              "version_major": 2,
              "version_minor": 0,
              "model_id": "ee7cecb8f666488086da2e42bcf4b421"
            }
          },
          "metadata": {}
        },
        {
          "output_type": "display_data",
          "data": {
            "text/plain": [
              "merges.txt:   0%|          | 0.00/456k [00:00<?, ?B/s]"
            ],
            "application/vnd.jupyter.widget-view+json": {
              "version_major": 2,
              "version_minor": 0,
              "model_id": "2d708276166b43dba4bee4a506a91743"
            }
          },
          "metadata": {}
        },
        {
          "output_type": "stream",
          "name": "stderr",
          "text": [
            "/usr/local/lib/python3.10/dist-packages/transformers/models/auto/modeling_auto.py:1595: FutureWarning: The class `AutoModelWithLMHead` is deprecated and will be removed in a future version. Please use `AutoModelForCausalLM` for causal language models, `AutoModelForMaskedLM` for masked language models and `AutoModelForSeq2SeqLM` for encoder-decoder models.\n",
            "  warnings.warn(\n"
          ]
        },
        {
          "output_type": "display_data",
          "data": {
            "text/plain": [
              "config.json:   0%|          | 0.00/641 [00:00<?, ?B/s]"
            ],
            "application/vnd.jupyter.widget-view+json": {
              "version_major": 2,
              "version_minor": 0,
              "model_id": "a39ca80b6c054e7b936bdf010addc412"
            }
          },
          "metadata": {}
        },
        {
          "output_type": "display_data",
          "data": {
            "text/plain": [
              "model.safetensors:   0%|          | 0.00/351M [00:00<?, ?B/s]"
            ],
            "application/vnd.jupyter.widget-view+json": {
              "version_major": 2,
              "version_minor": 0,
              "model_id": "c0b40f6d96b6423db52821eab021dae3"
            }
          },
          "metadata": {}
        },
        {
          "output_type": "display_data",
          "data": {
            "text/plain": [
              "generation_config.json:   0%|          | 0.00/124 [00:00<?, ?B/s]"
            ],
            "application/vnd.jupyter.widget-view+json": {
              "version_major": 2,
              "version_minor": 0,
              "model_id": "8414d5b284334acaa8ee14a981d14e54"
            }
          },
          "metadata": {}
        }
      ]
    },
    {
      "cell_type": "code",
      "source": [
        "\"\"\"\n",
        "Fine-tuning the library models for language modeling on a text file (GPT, GPT-2, BERT, RoBERTa).\n",
        "GPT and GPT-2 are fine-tuned using a causal language modeling (CLM) loss while BERT and RoBERTa are fine-tuned\n",
        "using a masked language modeling (MLM) loss.\n",
        "\"\"\"\n",
        "\n",
        "import glob\n",
        "import logging\n",
        "import os\n",
        "import pickle\n",
        "import random\n",
        "import re\n",
        "import shutil\n",
        "from typing import Dict, List, Tuple\n",
        "import json\n",
        "\n",
        "import pandas as pd\n",
        "import numpy as np\n",
        "import torch\n",
        "\n",
        "from sklearn.model_selection import train_test_split\n",
        "\n",
        "from torch.nn.utils.rnn import pad_sequence\n",
        "from torch.utils.data import DataLoader, Dataset, RandomSampler, SequentialSampler\n",
        "from torch.utils.data.distributed import DistributedSampler\n",
        "from tqdm.notebook import tqdm, trange\n",
        "\n",
        "from pathlib import Path\n",
        "\n",
        "from transformers import (\n",
        "    MODEL_WITH_LM_HEAD_MAPPING,\n",
        "    WEIGHTS_NAME,\n",
        "    AdamW,\n",
        "    AutoConfig,\n",
        "    AutoModelWithLMHead,\n",
        "    AutoTokenizer,\n",
        "    PreTrainedModel,\n",
        "    PreTrainedTokenizer,\n",
        "    get_linear_schedule_with_warmup,\n",
        ")\n",
        "\n",
        "\n",
        "try:\n",
        "    from torch.utils.tensorboard import SummaryWriter\n",
        "except ImportError:\n",
        "    from tensorboardX import SummaryWriter\n",
        "\n",
        "# Configs\n",
        "logger = logging.getLogger(__name__)\n",
        "\n",
        "MODEL_CONFIG_CLASSES = list(MODEL_WITH_LM_HEAD_MAPPING.keys())\n",
        "MODEL_TYPES = tuple(conf.model_type for conf in MODEL_CONFIG_CLASSES)"
      ],
      "metadata": {
        "id": "5WBLlpKcyjlo"
      },
      "execution_count": 4,
      "outputs": []
    },
    {
      "cell_type": "code",
      "source": [],
      "metadata": {
        "id": "yxS59RCZcig_"
      },
      "execution_count": null,
      "outputs": []
    },
    {
      "cell_type": "markdown",
      "source": [
        "## Arguments"
      ],
      "metadata": {
        "id": "iMkCUMdJcmSj"
      }
    },
    {
      "cell_type": "code",
      "source": [
        "# Args to allow for easy convertion of python script to notebook\n",
        "class Args():\n",
        "    def __init__(self):\n",
        "        self.output_dir = 'output-small-save'\n",
        "        self.model_type = 'gpt2'\n",
        "        self.model_name_or_path = 'microsoft/DialoGPT-small'\n",
        "        self.config_name = 'microsoft/DialoGPT-small'\n",
        "        self.tokenizer_name = 'microsoft/DialoGPT-small'\n",
        "        self.cache_dir = 'cached'\n",
        "        self.block_size = 512\n",
        "        self.do_train = True\n",
        "        self.do_eval = True\n",
        "        self.evaluate_during_training = False\n",
        "        self.per_gpu_train_batch_size = 4\n",
        "        self.per_gpu_eval_batch_size = 4\n",
        "        self.gradient_accumulation_steps = 1\n",
        "        self.learning_rate = 5e-5\n",
        "        self.weight_decay = 0.0\n",
        "        self.adam_epsilon = 1e-8\n",
        "        self.max_grad_norm = 1.0\n",
        "        self.num_train_epochs = 3\n",
        "        self.max_steps = -1\n",
        "        self.warmup_steps = 0\n",
        "        self.logging_steps = 1000\n",
        "        self.save_steps = 3500\n",
        "        self.save_total_limit = None\n",
        "        self.eval_all_checkpoints = False\n",
        "        self.no_cuda = False\n",
        "        self.overwrite_output_dir = True\n",
        "        self.overwrite_cache = True\n",
        "        self.should_continue = False\n",
        "        self.seed = 42\n",
        "        self.local_rank = -1\n",
        "        self.fp16 = False\n",
        "        self.fp16_opt_level = 'O1'\n",
        "\n",
        "args = Args()"
      ],
      "metadata": {
        "id": "AW95FdLmy056"
      },
      "execution_count": 5,
      "outputs": []
    },
    {
      "cell_type": "markdown",
      "source": [
        "## Preprocessing Data"
      ],
      "metadata": {
        "id": "v80hFYuvy_Nc"
      }
    },
    {
      "cell_type": "code",
      "source": [
        "# f_train = open(\"train_data.json\")\n",
        "# train_data = json.load(f_train)\n",
        "# f_train.close()\n",
        "# print((train_data[:5]))\n",
        "\n",
        "\n",
        "# f_validate = open(\"validate_data.json\")\n",
        "# validate_data = json.load(f_validate)\n",
        "# f_validate.close()\n",
        "# # print(len(validate_data))"
      ],
      "metadata": {
        "id": "Immn-UE6y65Z",
        "colab": {
          "base_uri": "https://localhost:8080/"
        },
        "outputId": "df65f2e5-7dae-4565-d1a1-bdbd913bef2f"
      },
      "execution_count": null,
      "outputs": [
        {
          "output_type": "stream",
          "name": "stdout",
          "text": [
            "[['Hello doctor, I get a cough for the last few days, which is heavy during night times. No raise in temperature but feeling tired with no travel history. No contact with any Covid-19 persons. It has been four to five days and has drunk a lot of Benadryl and took Paracetamol too. Doctors have shut the OP so do not know what to do? Please help.', 'Hello, I understand your concern. I just have a few more questions.Does your cough has phlegm? Any other symptoms like difficulty breathing? Any other medical condition such as asthma, hypertension? Are you a smoker? Alcoholic beverage drinker?', 'Thank you doctor, I have phlegm but not a lot. A tiny amount comes out most of the time. I have no difficulty in breathing. No medical conditions and not a smoker nor a drinker.', 'Hi, I would recommend you take n-acetylcysteine 200 mg powder dissolved in water three times a day. You may also nebulize using PNSS (saline nebulizer) three times a day. This will help the phlegm to come out. I would also recommend you take vitamin C 500 mg and zinc to boost your immune system. If symptoms persist, worsen or new onset of symptoms has been noted, further consult is advised.'], ['Hello doctor, I am suffering from coughing, throat infection from last week. At that time fever did not persist and also did not felt any chest pain. Two days later, I consulted with a doctor. He prescribed Cavidur 625, Montek LC, Ambrolite syrup and Betaline gargle solution. Since then throat infection improved and frequent cough also coming out. Coughing also improved remarkably though not completely. From yesterday onwards fever is occuring (maximum 100-degree Celcius). I have not come in touch with any foreign returned person nor went outside. In our state, there is no incidence of Covid-19. Please suggest what to do?', 'Hello, I can understand your concern.In my opinion, you should get done a chest x-ray and CBC (complete blood count). If both these are normal then no need to worry much. I hope this helps.', 'Thank you doctor, After doing all these I can upload all for further query.', 'Hi, yes, upload in this query only. I will see and revert to you.', 'Thank you doctor, As per your guidelines, I have made one test. Due to city shutdown, I could not able to make an x-ray of chest. Fever is coming every 12 hours. But cough does not persist currently. The only problem is a fever. I am uploading the blood examination report. Please advice.', 'Hi, I can understand your concern. I have gone through the report you have attached. (attachment removed to protect patient identity).Your total count is on the higher side of normal along with low hemoglobin. So start Azithromycin 500 mg 1-0-0, Tablet Dolo 650 1-0-1. Once your fever and cough subside, start an Iron tablet for low hemoglobin.I hope this helps.', 'Thank you doctor, How many tablets of Azithromycin to be taken? Is it in the morning? I want to make you know that I have already taken Azithromycin five days before. Should she start it? And also can I start an Iron tablet today itself?', 'Hi, Yes, you can take iron tablet from today onwards. And no need for Azithromycin now as you have already taken it. Drink plenty of fluids orally and keep yourself hydrated. Do warm water gargles and steam inhalation four to five times a day.'], ['Hello doctor,I am a 23-year-old man. I have anxiety and depression but no immunodeficiency disorders or chronic diseases. First, I wanna know if my immune system is weakened and how likely am I to die of Coronavirus.Second, I have itchiness in my throat and shortness of breath. I always have it because of anxiety but now it is more persistent than before. I also feel a very subtle feeling of pain, burning sensation and itchiness in my chest. I did not go out during the past ten days and have not been in contact with someone with positive Covid. And I quit smoking past week. Down to one or zero cigarettes from 20 a day. Why am I feeling itchiness and pain and burning sensation? How likely am I to have Covid-19? And how likely am I to die from it?', 'Hello. Anxiety can manifest itself in physical or psychological symptoms or both. The irritation sensation you are experiencing is a part of your anxiety. Also please do not believe the hype about covid. It has a low mortality rate, of 2-3 percent, that too mortality is very high in people above 60-70 years with other co-morbidities. You do not have any such disorders and you have not even been in contact with anyone, so do not worry.Please continue to take your medicines for anxiety if you are taking them, if not, please consider visiting a psychiatrist and get started on some low dose SSRI type of medicines. Also, if needed a low dose Benzodiazepines can be added temporarily. Also, please do some deep breathing exercises, or progressive muscle relaxation. You can also take some honey with water to reduce the itching in the throat and also try doing some gargles with lukewarm salt water.'], ['Hello doctor,Last night I was getting chills, feeling more cold than usual and lightheaded and a lot of burping. Maybe like every 30 minutes or less or so feel more chills running down my body and chest feeling bit weird like I am starting having trouble breathing then goes back to normal and repeats, with weird feeling like chills down my left and right lungs or left and right upper chest. Also, my heart was pumping fast. Also, some minor coughs were there since seven days ago, still here. I have white mucus and have not gotten yellow yet.I took medicines yesterday but today I got severe cold and flu medicine with a pain reliever, the chills did not go away. Then today, I called the doctor on the phone and told him what happen last night and the same thing happened this morning too. I had minor coughs, feeling lightheaded, feel like maybe cannot breathe or something, and a lot of burping. I told him the burping issue was going on for at least two years, but somehow this time I am feeling lightheaded. He just gives Pepcid, a try maybe GERD. I ate that today still feeling chills now and still burping a lot.Right now, still some chills on arms, with breathing issue or something makes my chest feel weird and arm sometimes. So, should I be worried? I do not think I have a fever now but do not feel hot on the forehead? Was it GERD or flu, it is Coronavirus or something else? I hope it is not Coronavirus.I am 21 years old and weigh around 110-115 kg.', 'Hello,please answer the following:Any travel history in the last one month? Any use of airports? Any fever, have you checked the temperature? Any cough? Any mucus or phlegm? How is your sleep? Is there any malaise or body aches or weakness?', 'Thank you doctor, I travel to school, nearby grocery stores in the bus. No airport exposure. I have not checked the temperature. I do not feel hot or anything. I have minor coughs and sore throat. Yes, I have mucus which seems white or clear for now.During sleep, I do not have much aches. Last night I have not got much sleep, probably because I was thinking about stuff being worried, but got some sleep though.', 'Hi, most probably with the history it does not appear like a severe problem or Coronavirus infection. Is sore throat severe and does the pain last the whole day? Do you smoke or drink?Can you try taking Sudafed, Tylenol, and Zyrtec and try getting sleep for a few days? I am sure that will make you feel better.Avoid exposure to smoke dust and cold winds. Keep the AC to a minimum or use ceiling fan instead. Drink plenty of water and warm fluids. Avoid eating out, partying. Avoid unnecessary travel.You need not quarantine yourself in the strictest manner but some amount of restrictions in interacting and meeting with the community is advised.Lastly, where are you currently? Your place of residence and country? Is it a Corona endemic country? Did you talk to or interact with any known or suspected flu patient?Can you please take a picture of the back of the throat with open mouth showing details of the tonsils and pharyngeal wall and send it to me?', 'Thank you doctor, I woke up this morning, I had trouble sleeping being worried, but I got some sleep then nearby phone ringing woke me up.So far, seems no one got any severe coughs or pain so far. I only hear minor coughs the past week or so. Thanks for those medicine recommendations for sleep. I fall asleep quicker, usually, it takes me around one hour to fall asleep on most days.I will try to avoid smoking as much as possible. Yes, I will be staying inside since many places are on lockdown. And school is online. I recently turned on the air purifier to clean up some air for allergies possible viruses but makes me cold. I might not need AC unless really hot.I will be staying home for the next month at least. My chills right now are feeling a bit better, but a little sick only because maybe I did not get enough sleep.I stay in San Francisco CA, United States, and there are close to 40 confirmed cases around here. No severe reports near my district, and have not heard anyone in serious condition.So, last week I have a sore throat and tonsil pain while swallowing for a few days, then one day drank a lot of honey and water and some tea, then it got better. Not sure if it got smaller, but the pain was less now though. Between my tonsils in the middle (behind the tongue) looks like my throat, got some red stuff, maybe looks like inflamed or rashes. Any recommendations? Any foods or drinks that can help?', 'Hi, you have got it right. Follow all the precautions. You will be alright soon. Try getting a good sleep tonight.I heard about the cases in SF. My brother was supposed to fly there from India for work but his meeting got canceled in the wake of the virus.Yes, your camera has not done a decent job this time around. It has not focussed on our area of interest. (attachment removed to protect patient identity). But yours has picked up the two big bumps in the back of the throat (enlarged tonsils).The tonsils could be enlarged due to the current infection and sore throat problem you are having. Once the problem is resolved they should get back to their normal size, which I guess, in you, must be slightly big. The pharyngeal wall between the tonsils could be having some granular bumps which are quite common during an infection.Now you do not worry, for most such infections are due to viruses (not Corona). They usually get better with time and supportive treatment. Traditional Indian forms of medicine advise honey and hot water. Tea makes a good addition I guess. Sudafed and Zyrtec appropriate for your weight will help additionally. Tylenol every time you got pain will help you tide over this period wonderfully.Now watch for some warning symptoms fever, increased pain, thick mucus, thick postnasal drip, severe malaise, swelling in the neck, etc. In such cases promptly revert to me. You may need a Z pack then.', 'Thank you doctor, As of now 12:40 PM I am breathing harder than usual since 30 minutes ago. I only ate some breakfast and drank water.Here is my story: Before Feb 28th - no issues at all, besides always burping a lot, sometimes bloating, no coughs, tonsil was enlarged for a while, no lightheadedness, no breathing problems, not sick.Friday February 28th - I woke up feeling unwell, drank water went back to bed, came back out super lightheaded about to faint, lied on bed for an hour, came out stomach feeling weird, even more lightheaded about to faint, can barely even eat a little noodles and two small pieces of spam, vomited it, then four more times which as water or acid. Hours later was better.Saturday February 29th - diarrheaSunday March 1st - diarrheaMonday March 2 - diarrheaTuesday March 3 - diarrheaWednesday March 4 - No stoolThursday March 3 - No more diarrheaFriday March 4th - Monday March 9th - no issuesMonday March 9th - feeling better, no problems, enlarged tonsil, no coughs really.Sunday march 15 - no problems besides burping, minor coughs, some sore throatAfternoon I ate chicken, burping a lot, stomach uncomfortable, felt like breathing problems, chills on hands, chest and left and right side, felt like could not breathe. 20 minutes later, still chills breathing a bit better, lightheaded kind of feel like fainting, then went to bed for 15 minutes (the breathing problem and weird chest feeling comes back randomly), ate tums, then later I drank cough and flu medicine.On Monday march 16 - woke up around 11:30 AM, feeling breathing problems, chills around body, lightheaded again, chest feeling weird, burping a lot, and I described my story to doctor he said it sounds like you ate something bad, does sound like GERD, of course we do not know for sure unless lab tests maybe on stool. He asked have you tried stronger antacids like Pepcid or Zantac?I said no. Then doctor asked me to try Pepcid and tell me how it goes.Tuesday and Wednesday March 16/17 - feeling better, no lightheadedness, no more chills, minor coughs, sore throat, burping a lot, no breathing problems so far. Pepcid no problems so far besides making me burp almost all day.Wednesday night still coughing a lot and drank severe cold and flu medicine.Thursday march 21 I woke up fine, then once ate Pepcid and drank some water, heart rate was going really fast, started to make worried, called doctor office they said can you count your beats per minute, then I counted, my phone was showing my heart rating going to 120 bpm, when I counted to them was not 120 bpm, then they told me to call back if it gets worse. Then shortly after, I drank some water and ate a little bit of breakfast. My heart rate started to drop slowly and was getting better after that.Friday march 20- 10 AM I woke up with some chest pains (chest area above the stomach), then some coughing and feeling a little sick, little lightheaded, heart beating fast, breathing harder, felt of shortness of breath. Drank some water and breathe harder, a little bit of mucus.15-20 minutes later no more chest pains, still breathing harder.11 AM - still breathing a little bit harder than usual, coughing would make me breathe even harder. Better now, but still breathing a little harder than usual.11:30 AM moving makes me breathe harder, sat in bed.11:58 AM - feeling a bit better12:10 - feeling like breathing a harder than usual.After an hour later, feeling better now which is strange. Not sure if its heart problems, acid reflux, chest issues, or esophagus.', 'Hello, always Protonix is better than Zantac. Try using Protonix (Pantoprazole). Do not lie down immediately after consuming meals. Do not drink a lot of water after a meal. Avoid spicy and oily foods.', \"Thank you doctor, I went to the store to look for Zantac they did not have it, so I talked to the pharmacy they said sounds like could be some weird chest tightening and the doctor said since Pepcid and Zantac are the same. He said to try Ranitidine.Right now I tried Pepcid again like now, for the first five to ten minutes I think it means me feel more nervous or anxiety or something, I tried to calm myself by putting fingers on teeth. Then I think now it did not cause my heart to beat super fast this time which was strange. Even water makes my heart beat a little faster. Should I stick with Pepcid? Finish the entire bottle? I think it has 20-30 pieces.I used to lie down after a meal a few years ago like I get hungry before I go to bed then I started eating snacks and lying down. Sometimes I starve myself. Sometimes I wake up with acid feeling in my mouth.I don't know why I woke up this morning with chest pain, like the middle area right above the stomach and felt like I had breathing problems, breathing harder than usual, drank water and barely could eat breakfast (lasted for at least 30 minutes+). I then waited a bit after 10 minutes, drank hot water and ate breakfast, I started to breathe better again.Could it be shortness or breath? May be blood pressure? Esophagus issue? Chest issue? Heart issue? I am having weird breathing. Should I be worried?\", 'Hi, you need to take Pantoprazole or any other proton pump inhibitor. Avoid heavy meals. The issue appears like a heartburn problem due to acidity only. It does not appear sinister.', 'Thank you doctor, I was trying to finish the bowl of food in one hour. I was eating veggies and rice, halfway through felt something like acid may be some pain in chest and throat. Feeling lightheaded so ate some meat to then coughed after.', 'Hi, do not worry about it. Drink plenty of water but not immediately after a meal. Eat well cooked meats.', 'Thank you doctor,I really appreciate your help so much. I appreciate your time and effort to help me and give advice. Only thing I am worried is just the chest pains, breathing issues and esophagus and throat stuff. I will try to wait two to three hours after eating or drinking before bed now. I hope to get less chest issues when I wake up.', 'Hi, do not worry so much. You will be absolutely alright. Give it some time. If you are not getting better we can do laryngoscopy and check if there is anything wrong with the larynx. Do you eat healthy food and do exercises?', \"Yeah if it doesn't get better Laryngoscopy would be perfect. Okay, I'll give it some time Thank you!I try to eat vegetables and fruits. I don't eat much junk food that much. I used to eat more junk years ago, but now mostly vegetables, fruits, meat (pork, chicken, beef, fish) usually not fried, and tried to eat whole wheat bread with fried chicken patty from the super market (for school lunch) since its cheap and its chicken (stopped now after acid problems), don't really eat french fries, pizza or drink soda etc...Exercise, haven't been exercising these few months. I have been telling myself that, but then i haven't really been doing it. Used to a lot years ago, now barely.Since high school, when i exercise running when i try to get air feels like throat is tight or chest is tight and air is trying to squeeze its way through. After this point High school until college feels like i'm not breathing enough air. When i was younger (Elementary/middle school) felt like i gotten a lot more air then now through my throat and air doesn't squeezes through.One doctor just used stethoscope for heart and lungs, told me to breathe hasn't said much about it. Then another doctor said, sounds you are not breathing that much, feels like not getting another air (in high school, like 4-6 years ago maybe), they didn't do much about it.So, when i try to breath regularly, seems like not much air comes out through mouth even before acid reflux,.That's why recent breathing problems kinda worry me, but anyways yeah like that.\", 'I guess you are in the right track. With regards to food diet and exercise.Restart doing your exercise. Keep yourself active. Try having more than three meals a day but keep the quantity of each meal less than the usual. That way you eat more frequently but without putting weight or adding unnecessary calories.'], ['Hi, I am Chaitanya, 27 years old. I use to swim daily in morning. Does COVID-19 spreads through water ? What precautions should I take to avoid infection?', 'Hello and welcome to Ask A Doctor service.I have reviewed your query and here is my advice.First few cases were suspected to have spread from food. However human to human spread is mainly from air droplets.I would suggest you to refrain from swimming for sometime. Although the virus will get killed in swimming pool if it doesnot find host for more than few minutes.Other precautions include to avoid social gatherings, wash hands frequently with soap and water, cover face with mask, stay home during sickness, avoid travel.Hope it helps. Let me know if I can assist you further.Dr Vaishalee']]\n"
          ]
        }
      ]
    },
    {
      "cell_type": "code",
      "source": [
        "import os\n",
        "\n",
        "def check_file_permissions(file_path):\n",
        "    if os.access(file_path, os.R_OK):\n",
        "        print(\"File is readable\")\n",
        "    else:\n",
        "        print(\"File is not readable\")\n",
        "\n",
        "# Specify the file path\n",
        "file_path = '/content/All5debate_docs.jsonl'\n",
        "\n",
        "# Check permissions\n",
        "check_file_permissions(file_path)\n"
      ],
      "metadata": {
        "colab": {
          "base_uri": "https://localhost:8080/"
        },
        "id": "UqjG9KsurWvy",
        "outputId": "347b4e0f-7163-4077-8c1f-bfb8f872bb63"
      },
      "execution_count": 6,
      "outputs": [
        {
          "output_type": "stream",
          "name": "stdout",
          "text": [
            "File is readable\n"
          ]
        }
      ]
    },
    {
      "cell_type": "code",
      "source": [
        "# train_contexted = []\n",
        "# train_data = train_data\n",
        "\n",
        "# for i in range(len(train_data)):\n",
        "#   row = []\n",
        "#   row.append(train_data[i][1])\n",
        "#   row.append(train_data[i][0])\n",
        "#   train_contexted.append(row)"
      ],
      "metadata": {
        "id": "Iix6_B1TzDfC"
      },
      "execution_count": null,
      "outputs": []
    },
    {
      "cell_type": "code",
      "source": [
        "# validate_contexted = []\n",
        "\n",
        "# for i in range(len(validate_data)):\n",
        "#   row = []\n",
        "#   row.append(validate_data[i][1])\n",
        "#   row.append(validate_data[i][0])\n",
        "#   validate_contexted.append(row)"
      ],
      "metadata": {
        "id": "v0SJLpXlzG_u"
      },
      "execution_count": null,
      "outputs": []
    },
    {
      "cell_type": "code",
      "source": [
        "# columns = ['response', 'context']\n",
        "# columns = columns + ['context/'+str(i) for i in range(0)]\n",
        "# columns"
      ],
      "metadata": {
        "colab": {
          "base_uri": "https://localhost:8080/"
        },
        "id": "pV_Csj8kzJ5N",
        "outputId": "f6f4d9a3-d0ec-4fbf-9503-468b62401208"
      },
      "execution_count": null,
      "outputs": [
        {
          "output_type": "execute_result",
          "data": {
            "text/plain": [
              "['response', 'context']"
            ]
          },
          "metadata": {},
          "execution_count": 7
        }
      ]
    },
    {
      "cell_type": "code",
      "source": [
        "# len(train_contexted)\n",
        "# trn_df = pd.DataFrame.from_records(train_contexted, columns=columns)\n",
        "# trn_df.head(5)"
      ],
      "metadata": {
        "colab": {
          "base_uri": "https://localhost:8080/",
          "height": 206
        },
        "id": "cZrrJeX2zMUg",
        "outputId": "7aa6cd7b-c249-4b1f-d77a-604ea3097f7d"
      },
      "execution_count": null,
      "outputs": [
        {
          "output_type": "execute_result",
          "data": {
            "text/plain": [
              "                                            response  \\\n",
              "0  Hello, I understand your concern. I just have ...   \n",
              "1  Hello, I can understand your concern.In my opi...   \n",
              "2  Hello. Anxiety can manifest itself in physical...   \n",
              "3  Hello,please answer the following:Any travel h...   \n",
              "4  Hello and welcome to Ask A Doctor service.I ha...   \n",
              "\n",
              "                                             context  \n",
              "0  Hello doctor, I get a cough for the last few d...  \n",
              "1  Hello doctor, I am suffering from coughing, th...  \n",
              "2  Hello doctor,I am a 23-year-old man. I have an...  \n",
              "3  Hello doctor,Last night I was getting chills, ...  \n",
              "4  Hi, I am Chaitanya, 27 years old. I use to swi...  "
            ],
            "text/html": [
              "\n",
              "  <div id=\"df-c143936f-9720-4cb6-8b7a-95cc413251f0\" class=\"colab-df-container\">\n",
              "    <div>\n",
              "<style scoped>\n",
              "    .dataframe tbody tr th:only-of-type {\n",
              "        vertical-align: middle;\n",
              "    }\n",
              "\n",
              "    .dataframe tbody tr th {\n",
              "        vertical-align: top;\n",
              "    }\n",
              "\n",
              "    .dataframe thead th {\n",
              "        text-align: right;\n",
              "    }\n",
              "</style>\n",
              "<table border=\"1\" class=\"dataframe\">\n",
              "  <thead>\n",
              "    <tr style=\"text-align: right;\">\n",
              "      <th></th>\n",
              "      <th>response</th>\n",
              "      <th>context</th>\n",
              "    </tr>\n",
              "  </thead>\n",
              "  <tbody>\n",
              "    <tr>\n",
              "      <th>0</th>\n",
              "      <td>Hello, I understand your concern. I just have ...</td>\n",
              "      <td>Hello doctor, I get a cough for the last few d...</td>\n",
              "    </tr>\n",
              "    <tr>\n",
              "      <th>1</th>\n",
              "      <td>Hello, I can understand your concern.In my opi...</td>\n",
              "      <td>Hello doctor, I am suffering from coughing, th...</td>\n",
              "    </tr>\n",
              "    <tr>\n",
              "      <th>2</th>\n",
              "      <td>Hello. Anxiety can manifest itself in physical...</td>\n",
              "      <td>Hello doctor,I am a 23-year-old man. I have an...</td>\n",
              "    </tr>\n",
              "    <tr>\n",
              "      <th>3</th>\n",
              "      <td>Hello,please answer the following:Any travel h...</td>\n",
              "      <td>Hello doctor,Last night I was getting chills, ...</td>\n",
              "    </tr>\n",
              "    <tr>\n",
              "      <th>4</th>\n",
              "      <td>Hello and welcome to Ask A Doctor service.I ha...</td>\n",
              "      <td>Hi, I am Chaitanya, 27 years old. I use to swi...</td>\n",
              "    </tr>\n",
              "  </tbody>\n",
              "</table>\n",
              "</div>\n",
              "    <div class=\"colab-df-buttons\">\n",
              "\n",
              "  <div class=\"colab-df-container\">\n",
              "    <button class=\"colab-df-convert\" onclick=\"convertToInteractive('df-c143936f-9720-4cb6-8b7a-95cc413251f0')\"\n",
              "            title=\"Convert this dataframe to an interactive table.\"\n",
              "            style=\"display:none;\">\n",
              "\n",
              "  <svg xmlns=\"http://www.w3.org/2000/svg\" height=\"24px\" viewBox=\"0 -960 960 960\">\n",
              "    <path d=\"M120-120v-720h720v720H120Zm60-500h600v-160H180v160Zm220 220h160v-160H400v160Zm0 220h160v-160H400v160ZM180-400h160v-160H180v160Zm440 0h160v-160H620v160ZM180-180h160v-160H180v160Zm440 0h160v-160H620v160Z\"/>\n",
              "  </svg>\n",
              "    </button>\n",
              "\n",
              "  <style>\n",
              "    .colab-df-container {\n",
              "      display:flex;\n",
              "      gap: 12px;\n",
              "    }\n",
              "\n",
              "    .colab-df-convert {\n",
              "      background-color: #E8F0FE;\n",
              "      border: none;\n",
              "      border-radius: 50%;\n",
              "      cursor: pointer;\n",
              "      display: none;\n",
              "      fill: #1967D2;\n",
              "      height: 32px;\n",
              "      padding: 0 0 0 0;\n",
              "      width: 32px;\n",
              "    }\n",
              "\n",
              "    .colab-df-convert:hover {\n",
              "      background-color: #E2EBFA;\n",
              "      box-shadow: 0px 1px 2px rgba(60, 64, 67, 0.3), 0px 1px 3px 1px rgba(60, 64, 67, 0.15);\n",
              "      fill: #174EA6;\n",
              "    }\n",
              "\n",
              "    .colab-df-buttons div {\n",
              "      margin-bottom: 4px;\n",
              "    }\n",
              "\n",
              "    [theme=dark] .colab-df-convert {\n",
              "      background-color: #3B4455;\n",
              "      fill: #D2E3FC;\n",
              "    }\n",
              "\n",
              "    [theme=dark] .colab-df-convert:hover {\n",
              "      background-color: #434B5C;\n",
              "      box-shadow: 0px 1px 3px 1px rgba(0, 0, 0, 0.15);\n",
              "      filter: drop-shadow(0px 1px 2px rgba(0, 0, 0, 0.3));\n",
              "      fill: #FFFFFF;\n",
              "    }\n",
              "  </style>\n",
              "\n",
              "    <script>\n",
              "      const buttonEl =\n",
              "        document.querySelector('#df-c143936f-9720-4cb6-8b7a-95cc413251f0 button.colab-df-convert');\n",
              "      buttonEl.style.display =\n",
              "        google.colab.kernel.accessAllowed ? 'block' : 'none';\n",
              "\n",
              "      async function convertToInteractive(key) {\n",
              "        const element = document.querySelector('#df-c143936f-9720-4cb6-8b7a-95cc413251f0');\n",
              "        const dataTable =\n",
              "          await google.colab.kernel.invokeFunction('convertToInteractive',\n",
              "                                                    [key], {});\n",
              "        if (!dataTable) return;\n",
              "\n",
              "        const docLinkHtml = 'Like what you see? Visit the ' +\n",
              "          '<a target=\"_blank\" href=https://colab.research.google.com/notebooks/data_table.ipynb>data table notebook</a>'\n",
              "          + ' to learn more about interactive tables.';\n",
              "        element.innerHTML = '';\n",
              "        dataTable['output_type'] = 'display_data';\n",
              "        await google.colab.output.renderOutput(dataTable, element);\n",
              "        const docLink = document.createElement('div');\n",
              "        docLink.innerHTML = docLinkHtml;\n",
              "        element.appendChild(docLink);\n",
              "      }\n",
              "    </script>\n",
              "  </div>\n",
              "\n",
              "\n",
              "<div id=\"df-0ded0d55-be73-468f-9a2a-48c31a183c9b\">\n",
              "  <button class=\"colab-df-quickchart\" onclick=\"quickchart('df-0ded0d55-be73-468f-9a2a-48c31a183c9b')\"\n",
              "            title=\"Suggest charts\"\n",
              "            style=\"display:none;\">\n",
              "\n",
              "<svg xmlns=\"http://www.w3.org/2000/svg\" height=\"24px\"viewBox=\"0 0 24 24\"\n",
              "     width=\"24px\">\n",
              "    <g>\n",
              "        <path d=\"M19 3H5c-1.1 0-2 .9-2 2v14c0 1.1.9 2 2 2h14c1.1 0 2-.9 2-2V5c0-1.1-.9-2-2-2zM9 17H7v-7h2v7zm4 0h-2V7h2v10zm4 0h-2v-4h2v4z\"/>\n",
              "    </g>\n",
              "</svg>\n",
              "  </button>\n",
              "\n",
              "<style>\n",
              "  .colab-df-quickchart {\n",
              "      --bg-color: #E8F0FE;\n",
              "      --fill-color: #1967D2;\n",
              "      --hover-bg-color: #E2EBFA;\n",
              "      --hover-fill-color: #174EA6;\n",
              "      --disabled-fill-color: #AAA;\n",
              "      --disabled-bg-color: #DDD;\n",
              "  }\n",
              "\n",
              "  [theme=dark] .colab-df-quickchart {\n",
              "      --bg-color: #3B4455;\n",
              "      --fill-color: #D2E3FC;\n",
              "      --hover-bg-color: #434B5C;\n",
              "      --hover-fill-color: #FFFFFF;\n",
              "      --disabled-bg-color: #3B4455;\n",
              "      --disabled-fill-color: #666;\n",
              "  }\n",
              "\n",
              "  .colab-df-quickchart {\n",
              "    background-color: var(--bg-color);\n",
              "    border: none;\n",
              "    border-radius: 50%;\n",
              "    cursor: pointer;\n",
              "    display: none;\n",
              "    fill: var(--fill-color);\n",
              "    height: 32px;\n",
              "    padding: 0;\n",
              "    width: 32px;\n",
              "  }\n",
              "\n",
              "  .colab-df-quickchart:hover {\n",
              "    background-color: var(--hover-bg-color);\n",
              "    box-shadow: 0 1px 2px rgba(60, 64, 67, 0.3), 0 1px 3px 1px rgba(60, 64, 67, 0.15);\n",
              "    fill: var(--button-hover-fill-color);\n",
              "  }\n",
              "\n",
              "  .colab-df-quickchart-complete:disabled,\n",
              "  .colab-df-quickchart-complete:disabled:hover {\n",
              "    background-color: var(--disabled-bg-color);\n",
              "    fill: var(--disabled-fill-color);\n",
              "    box-shadow: none;\n",
              "  }\n",
              "\n",
              "  .colab-df-spinner {\n",
              "    border: 2px solid var(--fill-color);\n",
              "    border-color: transparent;\n",
              "    border-bottom-color: var(--fill-color);\n",
              "    animation:\n",
              "      spin 1s steps(1) infinite;\n",
              "  }\n",
              "\n",
              "  @keyframes spin {\n",
              "    0% {\n",
              "      border-color: transparent;\n",
              "      border-bottom-color: var(--fill-color);\n",
              "      border-left-color: var(--fill-color);\n",
              "    }\n",
              "    20% {\n",
              "      border-color: transparent;\n",
              "      border-left-color: var(--fill-color);\n",
              "      border-top-color: var(--fill-color);\n",
              "    }\n",
              "    30% {\n",
              "      border-color: transparent;\n",
              "      border-left-color: var(--fill-color);\n",
              "      border-top-color: var(--fill-color);\n",
              "      border-right-color: var(--fill-color);\n",
              "    }\n",
              "    40% {\n",
              "      border-color: transparent;\n",
              "      border-right-color: var(--fill-color);\n",
              "      border-top-color: var(--fill-color);\n",
              "    }\n",
              "    60% {\n",
              "      border-color: transparent;\n",
              "      border-right-color: var(--fill-color);\n",
              "    }\n",
              "    80% {\n",
              "      border-color: transparent;\n",
              "      border-right-color: var(--fill-color);\n",
              "      border-bottom-color: var(--fill-color);\n",
              "    }\n",
              "    90% {\n",
              "      border-color: transparent;\n",
              "      border-bottom-color: var(--fill-color);\n",
              "    }\n",
              "  }\n",
              "</style>\n",
              "\n",
              "  <script>\n",
              "    async function quickchart(key) {\n",
              "      const quickchartButtonEl =\n",
              "        document.querySelector('#' + key + ' button');\n",
              "      quickchartButtonEl.disabled = true;  // To prevent multiple clicks.\n",
              "      quickchartButtonEl.classList.add('colab-df-spinner');\n",
              "      try {\n",
              "        const charts = await google.colab.kernel.invokeFunction(\n",
              "            'suggestCharts', [key], {});\n",
              "      } catch (error) {\n",
              "        console.error('Error during call to suggestCharts:', error);\n",
              "      }\n",
              "      quickchartButtonEl.classList.remove('colab-df-spinner');\n",
              "      quickchartButtonEl.classList.add('colab-df-quickchart-complete');\n",
              "    }\n",
              "    (() => {\n",
              "      let quickchartButtonEl =\n",
              "        document.querySelector('#df-0ded0d55-be73-468f-9a2a-48c31a183c9b button');\n",
              "      quickchartButtonEl.style.display =\n",
              "        google.colab.kernel.accessAllowed ? 'block' : 'none';\n",
              "    })();\n",
              "  </script>\n",
              "</div>\n",
              "    </div>\n",
              "  </div>\n"
            ],
            "application/vnd.google.colaboratory.intrinsic+json": {
              "type": "dataframe",
              "variable_name": "trn_df",
              "summary": "{\n  \"name\": \"trn_df\",\n  \"rows\": 483,\n  \"fields\": [\n    {\n      \"column\": \"response\",\n      \"properties\": {\n        \"dtype\": \"string\",\n        \"num_unique_values\": 478,\n        \"samples\": [\n          \"Cough and cold   Hello and welcome to HealthTap,It is a good idea to get tested.   You can visit your nearest Urgent care. Make sure to call them before coming, after getting tested self quarantine for total 2 weeks from the onset of symptoms. Please wear mask and perform frequent hand washing. Avoid Ibuprofen/other NSAIDs, use acetaminophen/ Tylenol only. Look for signs of worsening cough & breathing difficulties.  Would you like to video or text chat with me?\",\n          \"Hello, As you explain the situation, unfortunately, there is no home treatment for pneumonia. I strongly recommend you to go to the hospital as an emergency which is free mostly. Hope I have answered your query. Let me know if I can assist you further. Regards,Dr. Jnikolla, Pulmonologist\",\n          \"Respected user , HiWarm welcome to Healthcaremagic.comI have gone through your concern in depth .*  Levofloxacin is best effective molecule for pneumonia and many intestine    bugs .*  Metronidazole  may be kept reserved on waiting for certain test reports      or clinically physician may not need  to  add to the drug cart according     to the evaluation and clinical experience .Hope this clears your doubt .Regards .\"\n        ],\n        \"semantic_type\": \"\",\n        \"description\": \"\"\n      }\n    },\n    {\n      \"column\": \"context\",\n      \"properties\": {\n        \"dtype\": \"string\",\n        \"num_unique_values\": 474,\n        \"samples\": [\n          \"Was in Cape Town 2020/03/12 - 2020/03/15 Close proximity to sevral overseas tourists 2020/03/20 throat sore and voice gone Back (upper middle area) and shoulders hurt Shivering, dry cough, headache and lethargic Should I go for Covid19 testing?\",\n          \"I am experiencing nasal congestion, sneezing (unaffected by: recent exposure to allergens, exposure to secondhand smoke), sore throat, itchy eyes, ear pressure, nasal drainage, post nasal drip, eye irritation, runny nose, and watery eyes. I am not experie.\",\n          \"Is vomiting and diarrhea a symptom of covid-19?\"\n        ],\n        \"semantic_type\": \"\",\n        \"description\": \"\"\n      }\n    }\n  ]\n}"
            }
          },
          "metadata": {},
          "execution_count": 11
        }
      ]
    },
    {
      "cell_type": "code",
      "source": [
        "# len(validate_contexted)\n",
        "# val_df = pd.DataFrame.from_records(validate_contexted, columns=columns)\n",
        "# val_df.head(5)"
      ],
      "metadata": {
        "colab": {
          "base_uri": "https://localhost:8080/",
          "height": 206
        },
        "id": "dvJa3_tDzOoM",
        "outputId": "c5709b55-959f-4c07-fdb4-430d796c75cd"
      },
      "execution_count": null,
      "outputs": [
        {
          "output_type": "execute_result",
          "data": {
            "text/plain": [
              "                                            response  \\\n",
              "0  Corona-virus. At 33 you may not need testing. ...   \n",
              "1  Less likely. Recommended to stay 6 feet apart....   \n",
              "2  Test   Please stay at home, rest, drink fluids...   \n",
              "3  Death. At your age the risk of death is the fo...   \n",
              "4  Unknown but low   Based on current data it is ...   \n",
              "\n",
              "                                             context  \n",
              "0  I have a constant cough and my chest has now b...  \n",
              "1  If someone has carona virus and iam passing by...  \n",
              "2  I am concerned that I’m showing symptoms of co...  \n",
              "3  What are my chances of becoming seriously ill ...  \n",
              "4  Nervous about coronavirus. I am 26 years old a...  "
            ],
            "text/html": [
              "\n",
              "  <div id=\"df-c443c893-763d-4acb-a368-ab036239f51e\" class=\"colab-df-container\">\n",
              "    <div>\n",
              "<style scoped>\n",
              "    .dataframe tbody tr th:only-of-type {\n",
              "        vertical-align: middle;\n",
              "    }\n",
              "\n",
              "    .dataframe tbody tr th {\n",
              "        vertical-align: top;\n",
              "    }\n",
              "\n",
              "    .dataframe thead th {\n",
              "        text-align: right;\n",
              "    }\n",
              "</style>\n",
              "<table border=\"1\" class=\"dataframe\">\n",
              "  <thead>\n",
              "    <tr style=\"text-align: right;\">\n",
              "      <th></th>\n",
              "      <th>response</th>\n",
              "      <th>context</th>\n",
              "    </tr>\n",
              "  </thead>\n",
              "  <tbody>\n",
              "    <tr>\n",
              "      <th>0</th>\n",
              "      <td>Corona-virus. At 33 you may not need testing. ...</td>\n",
              "      <td>I have a constant cough and my chest has now b...</td>\n",
              "    </tr>\n",
              "    <tr>\n",
              "      <th>1</th>\n",
              "      <td>Less likely. Recommended to stay 6 feet apart....</td>\n",
              "      <td>If someone has carona virus and iam passing by...</td>\n",
              "    </tr>\n",
              "    <tr>\n",
              "      <th>2</th>\n",
              "      <td>Test   Please stay at home, rest, drink fluids...</td>\n",
              "      <td>I am concerned that I’m showing symptoms of co...</td>\n",
              "    </tr>\n",
              "    <tr>\n",
              "      <th>3</th>\n",
              "      <td>Death. At your age the risk of death is the fo...</td>\n",
              "      <td>What are my chances of becoming seriously ill ...</td>\n",
              "    </tr>\n",
              "    <tr>\n",
              "      <th>4</th>\n",
              "      <td>Unknown but low   Based on current data it is ...</td>\n",
              "      <td>Nervous about coronavirus. I am 26 years old a...</td>\n",
              "    </tr>\n",
              "  </tbody>\n",
              "</table>\n",
              "</div>\n",
              "    <div class=\"colab-df-buttons\">\n",
              "\n",
              "  <div class=\"colab-df-container\">\n",
              "    <button class=\"colab-df-convert\" onclick=\"convertToInteractive('df-c443c893-763d-4acb-a368-ab036239f51e')\"\n",
              "            title=\"Convert this dataframe to an interactive table.\"\n",
              "            style=\"display:none;\">\n",
              "\n",
              "  <svg xmlns=\"http://www.w3.org/2000/svg\" height=\"24px\" viewBox=\"0 -960 960 960\">\n",
              "    <path d=\"M120-120v-720h720v720H120Zm60-500h600v-160H180v160Zm220 220h160v-160H400v160Zm0 220h160v-160H400v160ZM180-400h160v-160H180v160Zm440 0h160v-160H620v160ZM180-180h160v-160H180v160Zm440 0h160v-160H620v160Z\"/>\n",
              "  </svg>\n",
              "    </button>\n",
              "\n",
              "  <style>\n",
              "    .colab-df-container {\n",
              "      display:flex;\n",
              "      gap: 12px;\n",
              "    }\n",
              "\n",
              "    .colab-df-convert {\n",
              "      background-color: #E8F0FE;\n",
              "      border: none;\n",
              "      border-radius: 50%;\n",
              "      cursor: pointer;\n",
              "      display: none;\n",
              "      fill: #1967D2;\n",
              "      height: 32px;\n",
              "      padding: 0 0 0 0;\n",
              "      width: 32px;\n",
              "    }\n",
              "\n",
              "    .colab-df-convert:hover {\n",
              "      background-color: #E2EBFA;\n",
              "      box-shadow: 0px 1px 2px rgba(60, 64, 67, 0.3), 0px 1px 3px 1px rgba(60, 64, 67, 0.15);\n",
              "      fill: #174EA6;\n",
              "    }\n",
              "\n",
              "    .colab-df-buttons div {\n",
              "      margin-bottom: 4px;\n",
              "    }\n",
              "\n",
              "    [theme=dark] .colab-df-convert {\n",
              "      background-color: #3B4455;\n",
              "      fill: #D2E3FC;\n",
              "    }\n",
              "\n",
              "    [theme=dark] .colab-df-convert:hover {\n",
              "      background-color: #434B5C;\n",
              "      box-shadow: 0px 1px 3px 1px rgba(0, 0, 0, 0.15);\n",
              "      filter: drop-shadow(0px 1px 2px rgba(0, 0, 0, 0.3));\n",
              "      fill: #FFFFFF;\n",
              "    }\n",
              "  </style>\n",
              "\n",
              "    <script>\n",
              "      const buttonEl =\n",
              "        document.querySelector('#df-c443c893-763d-4acb-a368-ab036239f51e button.colab-df-convert');\n",
              "      buttonEl.style.display =\n",
              "        google.colab.kernel.accessAllowed ? 'block' : 'none';\n",
              "\n",
              "      async function convertToInteractive(key) {\n",
              "        const element = document.querySelector('#df-c443c893-763d-4acb-a368-ab036239f51e');\n",
              "        const dataTable =\n",
              "          await google.colab.kernel.invokeFunction('convertToInteractive',\n",
              "                                                    [key], {});\n",
              "        if (!dataTable) return;\n",
              "\n",
              "        const docLinkHtml = 'Like what you see? Visit the ' +\n",
              "          '<a target=\"_blank\" href=https://colab.research.google.com/notebooks/data_table.ipynb>data table notebook</a>'\n",
              "          + ' to learn more about interactive tables.';\n",
              "        element.innerHTML = '';\n",
              "        dataTable['output_type'] = 'display_data';\n",
              "        await google.colab.output.renderOutput(dataTable, element);\n",
              "        const docLink = document.createElement('div');\n",
              "        docLink.innerHTML = docLinkHtml;\n",
              "        element.appendChild(docLink);\n",
              "      }\n",
              "    </script>\n",
              "  </div>\n",
              "\n",
              "\n",
              "<div id=\"df-acb68d56-e18f-4a1c-9840-efefa1f61d60\">\n",
              "  <button class=\"colab-df-quickchart\" onclick=\"quickchart('df-acb68d56-e18f-4a1c-9840-efefa1f61d60')\"\n",
              "            title=\"Suggest charts\"\n",
              "            style=\"display:none;\">\n",
              "\n",
              "<svg xmlns=\"http://www.w3.org/2000/svg\" height=\"24px\"viewBox=\"0 0 24 24\"\n",
              "     width=\"24px\">\n",
              "    <g>\n",
              "        <path d=\"M19 3H5c-1.1 0-2 .9-2 2v14c0 1.1.9 2 2 2h14c1.1 0 2-.9 2-2V5c0-1.1-.9-2-2-2zM9 17H7v-7h2v7zm4 0h-2V7h2v10zm4 0h-2v-4h2v4z\"/>\n",
              "    </g>\n",
              "</svg>\n",
              "  </button>\n",
              "\n",
              "<style>\n",
              "  .colab-df-quickchart {\n",
              "      --bg-color: #E8F0FE;\n",
              "      --fill-color: #1967D2;\n",
              "      --hover-bg-color: #E2EBFA;\n",
              "      --hover-fill-color: #174EA6;\n",
              "      --disabled-fill-color: #AAA;\n",
              "      --disabled-bg-color: #DDD;\n",
              "  }\n",
              "\n",
              "  [theme=dark] .colab-df-quickchart {\n",
              "      --bg-color: #3B4455;\n",
              "      --fill-color: #D2E3FC;\n",
              "      --hover-bg-color: #434B5C;\n",
              "      --hover-fill-color: #FFFFFF;\n",
              "      --disabled-bg-color: #3B4455;\n",
              "      --disabled-fill-color: #666;\n",
              "  }\n",
              "\n",
              "  .colab-df-quickchart {\n",
              "    background-color: var(--bg-color);\n",
              "    border: none;\n",
              "    border-radius: 50%;\n",
              "    cursor: pointer;\n",
              "    display: none;\n",
              "    fill: var(--fill-color);\n",
              "    height: 32px;\n",
              "    padding: 0;\n",
              "    width: 32px;\n",
              "  }\n",
              "\n",
              "  .colab-df-quickchart:hover {\n",
              "    background-color: var(--hover-bg-color);\n",
              "    box-shadow: 0 1px 2px rgba(60, 64, 67, 0.3), 0 1px 3px 1px rgba(60, 64, 67, 0.15);\n",
              "    fill: var(--button-hover-fill-color);\n",
              "  }\n",
              "\n",
              "  .colab-df-quickchart-complete:disabled,\n",
              "  .colab-df-quickchart-complete:disabled:hover {\n",
              "    background-color: var(--disabled-bg-color);\n",
              "    fill: var(--disabled-fill-color);\n",
              "    box-shadow: none;\n",
              "  }\n",
              "\n",
              "  .colab-df-spinner {\n",
              "    border: 2px solid var(--fill-color);\n",
              "    border-color: transparent;\n",
              "    border-bottom-color: var(--fill-color);\n",
              "    animation:\n",
              "      spin 1s steps(1) infinite;\n",
              "  }\n",
              "\n",
              "  @keyframes spin {\n",
              "    0% {\n",
              "      border-color: transparent;\n",
              "      border-bottom-color: var(--fill-color);\n",
              "      border-left-color: var(--fill-color);\n",
              "    }\n",
              "    20% {\n",
              "      border-color: transparent;\n",
              "      border-left-color: var(--fill-color);\n",
              "      border-top-color: var(--fill-color);\n",
              "    }\n",
              "    30% {\n",
              "      border-color: transparent;\n",
              "      border-left-color: var(--fill-color);\n",
              "      border-top-color: var(--fill-color);\n",
              "      border-right-color: var(--fill-color);\n",
              "    }\n",
              "    40% {\n",
              "      border-color: transparent;\n",
              "      border-right-color: var(--fill-color);\n",
              "      border-top-color: var(--fill-color);\n",
              "    }\n",
              "    60% {\n",
              "      border-color: transparent;\n",
              "      border-right-color: var(--fill-color);\n",
              "    }\n",
              "    80% {\n",
              "      border-color: transparent;\n",
              "      border-right-color: var(--fill-color);\n",
              "      border-bottom-color: var(--fill-color);\n",
              "    }\n",
              "    90% {\n",
              "      border-color: transparent;\n",
              "      border-bottom-color: var(--fill-color);\n",
              "    }\n",
              "  }\n",
              "</style>\n",
              "\n",
              "  <script>\n",
              "    async function quickchart(key) {\n",
              "      const quickchartButtonEl =\n",
              "        document.querySelector('#' + key + ' button');\n",
              "      quickchartButtonEl.disabled = true;  // To prevent multiple clicks.\n",
              "      quickchartButtonEl.classList.add('colab-df-spinner');\n",
              "      try {\n",
              "        const charts = await google.colab.kernel.invokeFunction(\n",
              "            'suggestCharts', [key], {});\n",
              "      } catch (error) {\n",
              "        console.error('Error during call to suggestCharts:', error);\n",
              "      }\n",
              "      quickchartButtonEl.classList.remove('colab-df-spinner');\n",
              "      quickchartButtonEl.classList.add('colab-df-quickchart-complete');\n",
              "    }\n",
              "    (() => {\n",
              "      let quickchartButtonEl =\n",
              "        document.querySelector('#df-acb68d56-e18f-4a1c-9840-efefa1f61d60 button');\n",
              "      quickchartButtonEl.style.display =\n",
              "        google.colab.kernel.accessAllowed ? 'block' : 'none';\n",
              "    })();\n",
              "  </script>\n",
              "</div>\n",
              "    </div>\n",
              "  </div>\n"
            ],
            "application/vnd.google.colaboratory.intrinsic+json": {
              "type": "dataframe",
              "variable_name": "val_df",
              "summary": "{\n  \"name\": \"val_df\",\n  \"rows\": 60,\n  \"fields\": [\n    {\n      \"column\": \"response\",\n      \"properties\": {\n        \"dtype\": \"string\",\n        \"num_unique_values\": 58,\n        \"samples\": [\n          \"Corona-virus. At 33 you may not need testing. You should isolate yourself.  Follow the following guideline: https://www.healthtap.com/blog/post/covid19-coronavirus-self-quarantine-guide  At this time I know you could contact someone through Healthtap, but the testing can be recommended, but no tests to do it. Let your local provider or health provider know. If you would have worsening SOB go to ER. .\",\n          \"Yes. Everyone with flu like symptoms should be tested for Covid19. Test is becoming more widely available in the United States as the pandemic worsens.\",\n          \"Probably not. Fever and cough, headache, body aches are much more common. Please follow your symptoms, treat appropriately. Honey in hot tea, gargle with salt water, suck hard candy. Secrets/cepachol losenges should decrease symptoms. Good luck.\"\n        ],\n        \"semantic_type\": \"\",\n        \"description\": \"\"\n      }\n    },\n    {\n      \"column\": \"context\",\n      \"properties\": {\n        \"dtype\": \"string\",\n        \"num_unique_values\": 60,\n        \"samples\": [\n          \"I have a constant cough and my chest has now become tight. I also have a tickle in my throat. I would like to be tested for Coronavirus please.\",\n          \"Sick for past week. Doctor prescribed meds. Not feeling better. Symptoms are shortness of breath, difficulty breathing, barking cough, mild headache, body ache. Should I consider getting tested for Covid 19.\",\n          \"Having slight itching at throat but no cough. Is it any thing related to covid?\"\n        ],\n        \"semantic_type\": \"\",\n        \"description\": \"\"\n      }\n    }\n  ]\n}"
            }
          },
          "metadata": {},
          "execution_count": 12
        }
      ]
    },
    {
      "cell_type": "markdown",
      "source": [
        "The max sequence length is 1024."
      ],
      "metadata": {
        "id": "vThj5tPO1fBP"
      }
    },
    {
      "cell_type": "code",
      "source": [
        "import pandas as pd\n",
        "import json\n",
        "from sklearn.model_selection import train_test_split\n",
        "\n",
        "MAX_SEQUENCE_LENGTH = 1023  # Maximum sequence length allowed\n",
        "\n",
        "def load_jsonl(file_path):\n",
        "    with open(file_path, 'r') as file:\n",
        "        data = [json.loads(line.strip()) for line in file if line.strip()]\n",
        "    return data\n",
        "\n",
        "def split_data(data, test_size=0.2, random_state=None):\n",
        "    train, val = train_test_split(data, test_size=test_size, random_state=random_state)\n",
        "    return train, val\n",
        "\n",
        "# Load data from the JSON Lines file\n",
        "data = load_jsonl(\"/content/All5debate_docs.jsonl\")\n",
        "\n",
        "# Reformat data for DataFrame with sequence length check\n",
        "formatted_data = []\n",
        "for obj in data:\n",
        "    response = obj['prompt'][:MAX_SEQUENCE_LENGTH]  # Truncate if longer than 1023 tokens\n",
        "    context = obj['completion'][:MAX_SEQUENCE_LENGTH]  # Truncate if longer than 1023 tokens\n",
        "    formatted_data.append({'response': response, 'context': context})\n",
        "\n",
        "# Split data into training and validation sets\n",
        "train_data, val_data = split_data(formatted_data, test_size=0.2, random_state=42)\n",
        "\n",
        "# Create DataFrames for training and validation\n",
        "trn_df = pd.DataFrame(train_data)\n",
        "val_df = pd.DataFrame(val_data)\n",
        "\n",
        "# Display the first few rows of training and validation DataFrames\n",
        "print(\"Training DataFrame:\")\n",
        "print(trn_df.head())\n",
        "print(\"\\nValidation DataFrame:\")\n",
        "print(val_df.head())\n",
        "\n",
        "# Print the lengths of training and validation DataFrames\n",
        "print(\"\\nLength of Training DataFrame:\", len(trn_df))\n",
        "print(\"Length of Validation DataFrame:\", len(val_df))\n"
      ],
      "metadata": {
        "colab": {
          "base_uri": "https://localhost:8080/"
        },
        "id": "OdeltXHBz5LD",
        "outputId": "66f67dd5-30ac-4f74-d610-2ed48c18caf2"
      },
      "execution_count": 17,
      "outputs": [
        {
          "output_type": "stream",
          "name": "stdout",
          "text": [
            "Training DataFrame:\n",
            "                                            response  \\\n",
            "0  Zelensky has discussed the country's reforms a...   \n",
            "1  The problems of energy and climate change have...   \n",
            "2  wars have not been kind to American presidents...   \n",
            "3  The Indigenous People of Biafra appeal to the ...   \n",
            "4  many European policymakers worry that the U.S....   \n",
            "\n",
            "                                             context  \n",
            "0  Ukrainian President Volodymyr Zelensky has dis...  \n",
            "1  The problems of energy and climate change have...  \n",
            "2  Ever since World War II, wars have not been ki...  \n",
            "3  The Indigenous People of Biafra (IPOB) under t...  \n",
            "4  IS THE UNITED STATES NEGLECTING EUROPE? The au...  \n",
            "\n",
            "Validation DataFrame:\n",
            "                                            response  \\\n",
            "0  at the moment China can look relatively stable...   \n",
            "1  China’s military modernization has increased t...   \n",
            "2  until recently, macroeconomists have viewed ch...   \n",
            "3  Do “good” decisions balance out “bad” decision...   \n",
            "4  economic stress is associated with conciliator...   \n",
            "\n",
            "                                             context  \n",
            "0  Politics in the West is so dramatic at the mom...  \n",
            "1  Over the past 20 years, China’s military moder...  \n",
            "2  Since the 1970s, and at least until recently, ...  \n",
            "3  An even broader question arising from the expe...  \n",
            "4  Do economic downturns generate pressure for di...  \n",
            "\n",
            "Length of Training DataFrame: 905\n",
            "Length of Validation DataFrame: 227\n"
          ]
        }
      ]
    },
    {
      "cell_type": "markdown",
      "source": [
        "## Dataset Loader"
      ],
      "metadata": {
        "id": "SBZ7c9TB93_k"
      }
    },
    {
      "cell_type": "code",
      "source": [
        "def construct_conv(row, tokenizer, eos = True):\n",
        "    flatten = lambda l: [item for sublist in l for item in sublist]\n",
        "    conv = list(reversed([tokenizer.encode(x) + [tokenizer.eos_token_id] for x in row]))\n",
        "    conv = flatten(conv)\n",
        "    return conv\n",
        "\n",
        "class ConversationDataset(Dataset):\n",
        "    def __init__(self, tokenizer: PreTrainedTokenizer, args, df, block_size=512):\n",
        "\n",
        "        block_size = block_size - (tokenizer.model_max_length - tokenizer.max_len_single_sentence)\n",
        "\n",
        "        directory = args.cache_dir\n",
        "        cached_features_file = os.path.join(\n",
        "            directory, args.model_type + \"_cached_lm_\" + str(block_size)\n",
        "        )\n",
        "\n",
        "        if os.path.exists(cached_features_file) and not args.overwrite_cache:\n",
        "            logger.info(\"Loading features from cached file %s\", cached_features_file)\n",
        "            with open(cached_features_file, \"rb\") as handle:\n",
        "                self.examples = pickle.load(handle)\n",
        "        else:\n",
        "            logger.info(\"Creating features from dataset file at %s\", directory)\n",
        "\n",
        "            self.examples = []\n",
        "            for _, row in df.iterrows():\n",
        "                conv = construct_conv(row, tokenizer)\n",
        "                self.examples.append(conv)\n",
        "\n",
        "            logger.info(\"Saving features into cached file %s\", cached_features_file)\n",
        "            with open(cached_features_file, \"wb\") as handle:\n",
        "                pickle.dump(self.examples, handle, protocol=pickle.HIGHEST_PROTOCOL)\n",
        "\n",
        "    def __len__(self):\n",
        "        return len(self.examples)\n",
        "\n",
        "    def __getitem__(self, item):\n",
        "        return torch.tensor(self.examples[item], dtype=torch.long)"
      ],
      "metadata": {
        "id": "JBITart1zSGa"
      },
      "execution_count": 18,
      "outputs": []
    },
    {
      "cell_type": "markdown",
      "source": [
        "## Caching and storing of Data/Checkpoints"
      ],
      "metadata": {
        "id": "P3tI7aFmdaWe"
      }
    },
    {
      "cell_type": "code",
      "source": [
        "# Cacheing and storing of data/checkpoints\n",
        "\n",
        "def load_and_cache_examples(args, tokenizer, df_trn, df_val, evaluate=False):\n",
        "    return ConversationDataset(tokenizer, args, df_val if evaluate else df_trn)\n",
        "\n",
        "\n",
        "def set_seed(args):\n",
        "    random.seed(args.seed)\n",
        "    np.random.seed(args.seed)\n",
        "    torch.manual_seed(args.seed)\n",
        "    if args.n_gpu > 0:\n",
        "        torch.cuda.manual_seed_all(args.seed)\n",
        "\n",
        "\n",
        "def _sorted_checkpoints(args, checkpoint_prefix=\"checkpoint\", use_mtime=False) -> List[str]:\n",
        "    ordering_and_checkpoint_path = []\n",
        "\n",
        "    glob_checkpoints = glob.glob(os.path.join(args.output_dir, \"{}-*\".format(checkpoint_prefix)))\n",
        "\n",
        "    for path in glob_checkpoints:\n",
        "        if use_mtime:\n",
        "            ordering_and_checkpoint_path.append((os.path.getmtime(path), path))\n",
        "        else:\n",
        "            regex_match = re.match(\".*{}-([0-9]+)\".format(checkpoint_prefix), path)\n",
        "            if regex_match and regex_match.groups():\n",
        "                ordering_and_checkpoint_path.append((int(regex_match.groups()[0]), path))\n",
        "\n",
        "    checkpoints_sorted = sorted(ordering_and_checkpoint_path)\n",
        "    checkpoints_sorted = [checkpoint[1] for checkpoint in checkpoints_sorted]\n",
        "    return checkpoints_sorted\n",
        "\n",
        "\n",
        "def _rotate_checkpoints(args, checkpoint_prefix=\"checkpoint\", use_mtime=False) -> None:\n",
        "    if not args.save_total_limit:\n",
        "        return\n",
        "    if args.save_total_limit <= 0:\n",
        "        return\n",
        "\n",
        "    # Check if we should delete older checkpoint(s)\n",
        "    checkpoints_sorted = _sorted_checkpoints(args, checkpoint_prefix, use_mtime)\n",
        "    if len(checkpoints_sorted) <= args.save_total_limit:\n",
        "        return\n",
        "\n",
        "    number_of_checkpoints_to_delete = max(0, len(checkpoints_sorted) - args.save_total_limit)\n",
        "    checkpoints_to_be_deleted = checkpoints_sorted[:number_of_checkpoints_to_delete]\n",
        "    for checkpoint in checkpoints_to_be_deleted:\n",
        "        logger.info(\"Deleting older checkpoint [{}] due to args.save_total_limit\".format(checkpoint))\n",
        "        shutil.rmtree(checkpoint)"
      ],
      "metadata": {
        "id": "YiYPsYL098w7"
      },
      "execution_count": 19,
      "outputs": []
    },
    {
      "cell_type": "code",
      "source": [
        "trn_df"
      ],
      "metadata": {
        "colab": {
          "base_uri": "https://localhost:8080/",
          "height": 424
        },
        "id": "uIpJBOMt-HDf",
        "outputId": "c9ec3079-18f9-4503-fac1-df3eb5b2b42c"
      },
      "execution_count": 10,
      "outputs": [
        {
          "output_type": "execute_result",
          "data": {
            "text/plain": [
              "                                              response  \\\n",
              "0    Zelensky has discussed the country's reforms a...   \n",
              "1    The problems of energy and climate change have...   \n",
              "2    wars have not been kind to American presidents...   \n",
              "3    The Indigenous People of Biafra appeal to the ...   \n",
              "4    many European policymakers worry that the U.S....   \n",
              "..                                                 ...   \n",
              "900  China’s projects are related to guaranteeing f...   \n",
              "901  influential voices are calling for what amount...   \n",
              "902  it’s worth considering whether some important ...   \n",
              "903  Thought of Canada being the region where the s...   \n",
              "904  The above statistical results contribute to th...   \n",
              "\n",
              "                                               context  \n",
              "0    Ukrainian President Volodymyr Zelensky has dis...  \n",
              "1    The problems of energy and climate change have...  \n",
              "2    Ever since World War II, wars have not been ki...  \n",
              "3    The Indigenous People of Biafra (IPOB) under t...  \n",
              "4    IS THE UNITED STATES NEGLECTING EUROPE? The au...  \n",
              "..                                                 ...  \n",
              "900  Many of China’s projects are related to guaran...  \n",
              "901  There can be no disputing that the murder of K...  \n",
              "902  The conventional truth that US-Israeli relatio...  \n",
              "903  Thought of Canada being the region where the s...  \n",
              "904  The above statistical results contribute to th...  \n",
              "\n",
              "[905 rows x 2 columns]"
            ],
            "text/html": [
              "\n",
              "  <div id=\"df-57752f0d-0ccb-4a91-aa6d-467d5ff2c549\" class=\"colab-df-container\">\n",
              "    <div>\n",
              "<style scoped>\n",
              "    .dataframe tbody tr th:only-of-type {\n",
              "        vertical-align: middle;\n",
              "    }\n",
              "\n",
              "    .dataframe tbody tr th {\n",
              "        vertical-align: top;\n",
              "    }\n",
              "\n",
              "    .dataframe thead th {\n",
              "        text-align: right;\n",
              "    }\n",
              "</style>\n",
              "<table border=\"1\" class=\"dataframe\">\n",
              "  <thead>\n",
              "    <tr style=\"text-align: right;\">\n",
              "      <th></th>\n",
              "      <th>response</th>\n",
              "      <th>context</th>\n",
              "    </tr>\n",
              "  </thead>\n",
              "  <tbody>\n",
              "    <tr>\n",
              "      <th>0</th>\n",
              "      <td>Zelensky has discussed the country's reforms a...</td>\n",
              "      <td>Ukrainian President Volodymyr Zelensky has dis...</td>\n",
              "    </tr>\n",
              "    <tr>\n",
              "      <th>1</th>\n",
              "      <td>The problems of energy and climate change have...</td>\n",
              "      <td>The problems of energy and climate change have...</td>\n",
              "    </tr>\n",
              "    <tr>\n",
              "      <th>2</th>\n",
              "      <td>wars have not been kind to American presidents...</td>\n",
              "      <td>Ever since World War II, wars have not been ki...</td>\n",
              "    </tr>\n",
              "    <tr>\n",
              "      <th>3</th>\n",
              "      <td>The Indigenous People of Biafra appeal to the ...</td>\n",
              "      <td>The Indigenous People of Biafra (IPOB) under t...</td>\n",
              "    </tr>\n",
              "    <tr>\n",
              "      <th>4</th>\n",
              "      <td>many European policymakers worry that the U.S....</td>\n",
              "      <td>IS THE UNITED STATES NEGLECTING EUROPE? The au...</td>\n",
              "    </tr>\n",
              "    <tr>\n",
              "      <th>...</th>\n",
              "      <td>...</td>\n",
              "      <td>...</td>\n",
              "    </tr>\n",
              "    <tr>\n",
              "      <th>900</th>\n",
              "      <td>China’s projects are related to guaranteeing f...</td>\n",
              "      <td>Many of China’s projects are related to guaran...</td>\n",
              "    </tr>\n",
              "    <tr>\n",
              "      <th>901</th>\n",
              "      <td>influential voices are calling for what amount...</td>\n",
              "      <td>There can be no disputing that the murder of K...</td>\n",
              "    </tr>\n",
              "    <tr>\n",
              "      <th>902</th>\n",
              "      <td>it’s worth considering whether some important ...</td>\n",
              "      <td>The conventional truth that US-Israeli relatio...</td>\n",
              "    </tr>\n",
              "    <tr>\n",
              "      <th>903</th>\n",
              "      <td>Thought of Canada being the region where the s...</td>\n",
              "      <td>Thought of Canada being the region where the s...</td>\n",
              "    </tr>\n",
              "    <tr>\n",
              "      <th>904</th>\n",
              "      <td>The above statistical results contribute to th...</td>\n",
              "      <td>The above statistical results contribute to th...</td>\n",
              "    </tr>\n",
              "  </tbody>\n",
              "</table>\n",
              "<p>905 rows × 2 columns</p>\n",
              "</div>\n",
              "    <div class=\"colab-df-buttons\">\n",
              "\n",
              "  <div class=\"colab-df-container\">\n",
              "    <button class=\"colab-df-convert\" onclick=\"convertToInteractive('df-57752f0d-0ccb-4a91-aa6d-467d5ff2c549')\"\n",
              "            title=\"Convert this dataframe to an interactive table.\"\n",
              "            style=\"display:none;\">\n",
              "\n",
              "  <svg xmlns=\"http://www.w3.org/2000/svg\" height=\"24px\" viewBox=\"0 -960 960 960\">\n",
              "    <path d=\"M120-120v-720h720v720H120Zm60-500h600v-160H180v160Zm220 220h160v-160H400v160Zm0 220h160v-160H400v160ZM180-400h160v-160H180v160Zm440 0h160v-160H620v160ZM180-180h160v-160H180v160Zm440 0h160v-160H620v160Z\"/>\n",
              "  </svg>\n",
              "    </button>\n",
              "\n",
              "  <style>\n",
              "    .colab-df-container {\n",
              "      display:flex;\n",
              "      gap: 12px;\n",
              "    }\n",
              "\n",
              "    .colab-df-convert {\n",
              "      background-color: #E8F0FE;\n",
              "      border: none;\n",
              "      border-radius: 50%;\n",
              "      cursor: pointer;\n",
              "      display: none;\n",
              "      fill: #1967D2;\n",
              "      height: 32px;\n",
              "      padding: 0 0 0 0;\n",
              "      width: 32px;\n",
              "    }\n",
              "\n",
              "    .colab-df-convert:hover {\n",
              "      background-color: #E2EBFA;\n",
              "      box-shadow: 0px 1px 2px rgba(60, 64, 67, 0.3), 0px 1px 3px 1px rgba(60, 64, 67, 0.15);\n",
              "      fill: #174EA6;\n",
              "    }\n",
              "\n",
              "    .colab-df-buttons div {\n",
              "      margin-bottom: 4px;\n",
              "    }\n",
              "\n",
              "    [theme=dark] .colab-df-convert {\n",
              "      background-color: #3B4455;\n",
              "      fill: #D2E3FC;\n",
              "    }\n",
              "\n",
              "    [theme=dark] .colab-df-convert:hover {\n",
              "      background-color: #434B5C;\n",
              "      box-shadow: 0px 1px 3px 1px rgba(0, 0, 0, 0.15);\n",
              "      filter: drop-shadow(0px 1px 2px rgba(0, 0, 0, 0.3));\n",
              "      fill: #FFFFFF;\n",
              "    }\n",
              "  </style>\n",
              "\n",
              "    <script>\n",
              "      const buttonEl =\n",
              "        document.querySelector('#df-57752f0d-0ccb-4a91-aa6d-467d5ff2c549 button.colab-df-convert');\n",
              "      buttonEl.style.display =\n",
              "        google.colab.kernel.accessAllowed ? 'block' : 'none';\n",
              "\n",
              "      async function convertToInteractive(key) {\n",
              "        const element = document.querySelector('#df-57752f0d-0ccb-4a91-aa6d-467d5ff2c549');\n",
              "        const dataTable =\n",
              "          await google.colab.kernel.invokeFunction('convertToInteractive',\n",
              "                                                    [key], {});\n",
              "        if (!dataTable) return;\n",
              "\n",
              "        const docLinkHtml = 'Like what you see? Visit the ' +\n",
              "          '<a target=\"_blank\" href=https://colab.research.google.com/notebooks/data_table.ipynb>data table notebook</a>'\n",
              "          + ' to learn more about interactive tables.';\n",
              "        element.innerHTML = '';\n",
              "        dataTable['output_type'] = 'display_data';\n",
              "        await google.colab.output.renderOutput(dataTable, element);\n",
              "        const docLink = document.createElement('div');\n",
              "        docLink.innerHTML = docLinkHtml;\n",
              "        element.appendChild(docLink);\n",
              "      }\n",
              "    </script>\n",
              "  </div>\n",
              "\n",
              "\n",
              "<div id=\"df-f08495dd-0dec-4a20-8a3d-1785be376ea6\">\n",
              "  <button class=\"colab-df-quickchart\" onclick=\"quickchart('df-f08495dd-0dec-4a20-8a3d-1785be376ea6')\"\n",
              "            title=\"Suggest charts\"\n",
              "            style=\"display:none;\">\n",
              "\n",
              "<svg xmlns=\"http://www.w3.org/2000/svg\" height=\"24px\"viewBox=\"0 0 24 24\"\n",
              "     width=\"24px\">\n",
              "    <g>\n",
              "        <path d=\"M19 3H5c-1.1 0-2 .9-2 2v14c0 1.1.9 2 2 2h14c1.1 0 2-.9 2-2V5c0-1.1-.9-2-2-2zM9 17H7v-7h2v7zm4 0h-2V7h2v10zm4 0h-2v-4h2v4z\"/>\n",
              "    </g>\n",
              "</svg>\n",
              "  </button>\n",
              "\n",
              "<style>\n",
              "  .colab-df-quickchart {\n",
              "      --bg-color: #E8F0FE;\n",
              "      --fill-color: #1967D2;\n",
              "      --hover-bg-color: #E2EBFA;\n",
              "      --hover-fill-color: #174EA6;\n",
              "      --disabled-fill-color: #AAA;\n",
              "      --disabled-bg-color: #DDD;\n",
              "  }\n",
              "\n",
              "  [theme=dark] .colab-df-quickchart {\n",
              "      --bg-color: #3B4455;\n",
              "      --fill-color: #D2E3FC;\n",
              "      --hover-bg-color: #434B5C;\n",
              "      --hover-fill-color: #FFFFFF;\n",
              "      --disabled-bg-color: #3B4455;\n",
              "      --disabled-fill-color: #666;\n",
              "  }\n",
              "\n",
              "  .colab-df-quickchart {\n",
              "    background-color: var(--bg-color);\n",
              "    border: none;\n",
              "    border-radius: 50%;\n",
              "    cursor: pointer;\n",
              "    display: none;\n",
              "    fill: var(--fill-color);\n",
              "    height: 32px;\n",
              "    padding: 0;\n",
              "    width: 32px;\n",
              "  }\n",
              "\n",
              "  .colab-df-quickchart:hover {\n",
              "    background-color: var(--hover-bg-color);\n",
              "    box-shadow: 0 1px 2px rgba(60, 64, 67, 0.3), 0 1px 3px 1px rgba(60, 64, 67, 0.15);\n",
              "    fill: var(--button-hover-fill-color);\n",
              "  }\n",
              "\n",
              "  .colab-df-quickchart-complete:disabled,\n",
              "  .colab-df-quickchart-complete:disabled:hover {\n",
              "    background-color: var(--disabled-bg-color);\n",
              "    fill: var(--disabled-fill-color);\n",
              "    box-shadow: none;\n",
              "  }\n",
              "\n",
              "  .colab-df-spinner {\n",
              "    border: 2px solid var(--fill-color);\n",
              "    border-color: transparent;\n",
              "    border-bottom-color: var(--fill-color);\n",
              "    animation:\n",
              "      spin 1s steps(1) infinite;\n",
              "  }\n",
              "\n",
              "  @keyframes spin {\n",
              "    0% {\n",
              "      border-color: transparent;\n",
              "      border-bottom-color: var(--fill-color);\n",
              "      border-left-color: var(--fill-color);\n",
              "    }\n",
              "    20% {\n",
              "      border-color: transparent;\n",
              "      border-left-color: var(--fill-color);\n",
              "      border-top-color: var(--fill-color);\n",
              "    }\n",
              "    30% {\n",
              "      border-color: transparent;\n",
              "      border-left-color: var(--fill-color);\n",
              "      border-top-color: var(--fill-color);\n",
              "      border-right-color: var(--fill-color);\n",
              "    }\n",
              "    40% {\n",
              "      border-color: transparent;\n",
              "      border-right-color: var(--fill-color);\n",
              "      border-top-color: var(--fill-color);\n",
              "    }\n",
              "    60% {\n",
              "      border-color: transparent;\n",
              "      border-right-color: var(--fill-color);\n",
              "    }\n",
              "    80% {\n",
              "      border-color: transparent;\n",
              "      border-right-color: var(--fill-color);\n",
              "      border-bottom-color: var(--fill-color);\n",
              "    }\n",
              "    90% {\n",
              "      border-color: transparent;\n",
              "      border-bottom-color: var(--fill-color);\n",
              "    }\n",
              "  }\n",
              "</style>\n",
              "\n",
              "  <script>\n",
              "    async function quickchart(key) {\n",
              "      const quickchartButtonEl =\n",
              "        document.querySelector('#' + key + ' button');\n",
              "      quickchartButtonEl.disabled = true;  // To prevent multiple clicks.\n",
              "      quickchartButtonEl.classList.add('colab-df-spinner');\n",
              "      try {\n",
              "        const charts = await google.colab.kernel.invokeFunction(\n",
              "            'suggestCharts', [key], {});\n",
              "      } catch (error) {\n",
              "        console.error('Error during call to suggestCharts:', error);\n",
              "      }\n",
              "      quickchartButtonEl.classList.remove('colab-df-spinner');\n",
              "      quickchartButtonEl.classList.add('colab-df-quickchart-complete');\n",
              "    }\n",
              "    (() => {\n",
              "      let quickchartButtonEl =\n",
              "        document.querySelector('#df-f08495dd-0dec-4a20-8a3d-1785be376ea6 button');\n",
              "      quickchartButtonEl.style.display =\n",
              "        google.colab.kernel.accessAllowed ? 'block' : 'none';\n",
              "    })();\n",
              "  </script>\n",
              "</div>\n",
              "    </div>\n",
              "  </div>\n"
            ],
            "application/vnd.google.colaboratory.intrinsic+json": {
              "type": "dataframe",
              "variable_name": "trn_df",
              "summary": "{\n  \"name\": \"trn_df\",\n  \"rows\": 905,\n  \"fields\": [\n    {\n      \"column\": \"response\",\n      \"properties\": {\n        \"dtype\": \"string\",\n        \"num_unique_values\": 904,\n        \"samples\": [\n          \"situation may have gotten worse in the build up to and aftermath of the 2019 general elections. twenty years after the restoration of civilian rule in Nigeria, we are experiencing worsening human security conditions in this resource-rich regio When a country or state, irrespective of the political system in operation, fails to protect the rights, livelihoods and security of its citizens, then we have a crisis. most pressing challenge for the new federal administration was the ecological, human rights and livelihood crises in the oil-bearing Niger Delta region of the country. members of communities in the Niger Delta region have borne the negative impacts of petroleum extraction. The oil companies operating in the area have historically operated most recklessly, spilled more crude oil into the natural environment and flared more associated gas here than in any part of the world, resulting in the destruction and degradation of fishing and farming livelihoods and the increase in diseases and deaths\",\n          \"Trump is more likely than not to earn a second term in the White House, according to Goldman Sachs economists analyzing data ahead of the 2020 election Incumbent presidents generally have a built-in advantage and a strong economy under Trump has added to his edge Goldman is predicting the election as a \\u201cclose call\\u201d narrowly in the president\\u2019s favor Tax Cuts Jobs Act and increased government spending have pushed economic growth to nearly 3% in 2018 income, payrolls and GDP are some of the biggest factors in predicting election outcomes all got a boost under Trump election models rely mainly on economic variables to predict the popular vote While Trump\\u2019s approval rating is only hovering over 40% the number isn\\u2019t that low Trump could still win the reelection with a general unfavorable opinion Goldman\\u2019s view seems to be in line with Wall Street\\u2019s more than 70% of market insiders expect Trump to win reelection in 2020\",\n          \"The United States should find ways to signal to regional partners that it remains committed to their security It is important to maintain a robust conventional military presence in the Middle East to deter Iran from aggressively pursuing destabilizing activities violating the nuclear agreement, and threatening freedom of navigation a conventional presence will reassure partners that the United States remains committed to security Providing the Arab states greater confidence in American commitments will be useful for dissuading them from lashing out more aggressively at Iran It could also reduce the likelihood that the Arab states would pursue their own domestic enrichment capability A major influx of U.S. assets could undermine both Iran\\u2019s confidence in the agreement and American intentions But any significant withdrawal of assets would shake the confidence of both the Arab states and Israel. The guiding principle should be to maintain an American force posture that is essentially the same The United States could consider increased arms sales to the Gulf states.\"\n        ],\n        \"semantic_type\": \"\",\n        \"description\": \"\"\n      }\n    },\n    {\n      \"column\": \"context\",\n      \"properties\": {\n        \"dtype\": \"string\",\n        \"num_unique_values\": 905,\n        \"samples\": [\n          \"\\u201cThe situation may have gotten worse in the build up to and aftermath of the 2019 general elections. It would seem that twenty years after the restoration of civilian rule in Nigeria, we are experiencing worsening human security conditions in this resource-rich region\\u201d, he noted. According to him, \\u201cWhen a country or state, irrespective of the political system in operation, fails to protect the rights, livelihoods and security of its citizens, then we have a crisis. What do we do to address the crises that comfort us today as a country and in the sites of petroleum extraction in the Niger Delta region in particular\\u201d, he questioned. Dr. Osuoka noted that, twenty years ago, as Nigeria was transiting from military dictatorship to civilian rule, the most pressing challenge for the new federal administration was the ecological, human rights and livelihood crises in the oil-bearing Niger Delta region of the country. The members of communities in the Niger Delta region have borne the negative impacts of petroleum extraction. The oil companies operating in the area have historically operated most recklessly, pointing out that the oil companies had spilled more crude oil into the natural environment and flared more associated gas here than in any part of the world, resulting in the destruction and degradation of fishing and farming livelihoods and the increase in diseases and deaths. Osuoka also pointed out that the 1990s witnessed the escalation of conflicts between the Nigerian state and petroleum-bearing communities.\",\n          \"Climate change is impacting the sustainability of food systems globally and is presenting challenges and opportunities for farmer livelihoods, markets, and food security (Wheeler and von Braun, 2013). Increased global temperatures and carbon dioxide levels over the past six decades, coupled with greater weather variability and more extreme weather conditions such as droughts and floods, are impacting crop yields and shifting the geographical ranges of crop cultivation (Ewert et al., 2005). Lobell et al. (2011) modeled weather data with historical yields of the four largest commodity crops over the past forty years and found that global maize and wheat production declined by 3.8% and 5.5% respectively, while increased temperatures in higher latitudes enhanced yields of some crops. At the same time, while agriculture is vulnerable to climate dynamics, it is also a major driver of global environmental change, contributing to more than 25% of global greenhouse gas emissions (Edenhofer et al., 2014). There are multiple ways to examine climate effects on food systems, and these vary based on scientific discipline and approach. Studies in the biophysical sciences have focused on how and why climate variables impact crops and the ecological and agroecosystem management factors that increase or decrease resilience (C\\u00f4t\\u00e9 and Darling, 2010; Porter and Semenov, 2005; Easterling et al., 2000; Altieri et al., 2015). Research in the social sciences has focused on assessing producer responses to climate change, including perceptions and knowledge of climate change, impacts of climate change on farmer livelihoods and food security, traditional and local ecological knowledge, adaptation and mitigation strategies, and variables that promote cultural resilience to change (Nabhan, 2010; Thomas et al., 2007). A much smaller body of work in the socio-ecological literature links the biophysical components of agroecosystems with social components and assesses dynamic feedbacks (Ahmed et al., 2014a; Bergamini et al., 2013; Kellogg et al., 2010; McKey et al., 2010). To date, studies from the biophysical sciences examining climate effects on agroecosystems have largely focused on crop yields (Porter and Semenov, 2005). Crop yields are crucial to understand because of their direct and indirect effects on food supply, crop prices, and farmer livelihoods (Hertel et al., 2010). In addition to yields, quality is also an important factor to understand for its\\u2019 impact on consumer-buying decisions and human nutrition and health, but it is less frequently acknowledged. Crop quality as presented here refers to phytonutrient and secondary defense metabolite profiles (i.e. bioactive food components or phytochemicals) and associated health attributes and sensory properties as well as food safety. Quality parameters include the presence and concentrations of phytonutrients and secondary metabolites, bioactivity, as well as organoleptic properties such as color, visual appeal, aroma, taste, and texture (Mattos et al., 2014; Ahmed et al., 2015) as well as shelf life. Concentrations of toxins and presence of specific microorganisms may further be used to measure food safety aspects of food quality. Human consumers have the ability to perceive shifts in crop quality and these perceptions can influence their buying decisions and affect the demand, price, and other economic dimensions of agricultural products.\",\n          \"The United States should find ways to signal to its regional partners that it remains committed to their security. It is still important to maintain a robust conventional military presence in the Middle East after an agreement to deter Iran from aggressively pursuing its destabilizing activities in the region, violating the nuclear agreement, and threatening freedom of navigation and the flow of energy resources. Despite the regional focus on the unconventional Iranian threat, a conventional presence will also reassure partners that the United States remains committed to their security. Providing the Arab states greater confidence in American commitments will be a useful tool for dissuading them from lashing out more aggressively at Iran in ways that may exacerbate the sectarian divide. It could also reduce the likelihood that the Arab states would pursue their own domestic enrichment capability in response to Iran. In pursuing this approach, the United States will have to maintain a careful balance. A major influx of U.S. assets to the region could be provocative, undermine both Iran\\u2019s confidence in the agreement and American intentions, and reduce the likelihood of increased cooperation over time. But any significant withdrawal of assets would shake the confidence of both the Arab states and Israel. The guiding principle should be to maintain an American force posture that is essentially the same or slightly enhanced. The United States could consider forward stationing a limited number of more advanced manned and unmanned aircraft and missile defense assets in the region, but should not go too far beyond that. If the agreement takes hold and over time Iran\\u2019s behavior moderates, there is the potential for a \\u201cpeace dividend\\u201d in the long term. The United States could also consider increased arms sales to the Gulf states. Ideally, these should focus on defensive capabilities such as minesweepers and ballistic missile defense that could address the Iranian mining and missile threat. It should also include the types of capabilities that would make its Arab partners more capable at countering the unconventional Iranian challenge, such as tactical tools like night vision goggles and weapons optics, and more strategic capabilities like advanced unmanned aerial vehicles and the networking architecture to enhance air and maritime domain awareness.\"\n        ],\n        \"semantic_type\": \"\",\n        \"description\": \"\"\n      }\n    }\n  ]\n}"
            }
          },
          "metadata": {},
          "execution_count": 10
        }
      ]
    },
    {
      "cell_type": "markdown",
      "source": [
        "## Defining Training and Evaluating functions"
      ],
      "metadata": {
        "id": "OSkpEEQdAFMB"
      }
    },
    {
      "cell_type": "markdown",
      "source": [
        "### Function to train the Model"
      ],
      "metadata": {
        "id": "CkABfH0fgtGY"
      }
    },
    {
      "cell_type": "code",
      "source": [
        "def train(args, train_dataset, model: PreTrainedModel, tokenizer: PreTrainedTokenizer) -> Tuple[int, float]:\n",
        "    \"\"\" Train the model \"\"\"\n",
        "    if args.local_rank in [-1, 0]:\n",
        "        tb_writer = SummaryWriter()\n",
        "\n",
        "    args.train_batch_size = args.per_gpu_train_batch_size * max(1, args.n_gpu)\n",
        "\n",
        "    def collate(examples: List[torch.Tensor]):\n",
        "        if tokenizer._pad_token is None:\n",
        "            return pad_sequence(examples, batch_first=True)\n",
        "        return pad_sequence(examples, batch_first=True, padding_value=tokenizer.pad_token_id)\n",
        "\n",
        "    train_sampler = RandomSampler(train_dataset) if args.local_rank == -1 else DistributedSampler(train_dataset)\n",
        "    train_dataloader = DataLoader(\n",
        "        train_dataset, sampler=train_sampler, batch_size=args.train_batch_size, collate_fn=collate, drop_last = True\n",
        "    )\n",
        "\n",
        "    if args.max_steps > 0:\n",
        "        t_total = args.max_steps\n",
        "        args.num_train_epochs = args.max_steps // (len(train_dataloader) // args.gradient_accumulation_steps) + 1\n",
        "    else:\n",
        "        t_total = len(train_dataloader) // args.gradient_accumulation_steps * args.num_train_epochs\n",
        "\n",
        "    model = model.module if hasattr(model, \"module\") else model  # Take care of distributed/parallel training\n",
        "    model.resize_token_embeddings(len(tokenizer))\n",
        "    # add_special_tokens_(model, tokenizer)\n",
        "\n",
        "\n",
        "    # Prepare optimizer and schedule (linear warmup and decay)\n",
        "    no_decay = [\"bias\", \"LayerNorm.weight\"]\n",
        "    optimizer_grouped_parameters = [\n",
        "        {\n",
        "            \"params\": [p for n, p in model.named_parameters() if not any(nd in n for nd in no_decay)],\n",
        "            \"weight_decay\": args.weight_decay,\n",
        "        },\n",
        "        {\"params\": [p for n, p in model.named_parameters() if any(nd in n for nd in no_decay)], \"weight_decay\": 0.0},\n",
        "    ]\n",
        "    optimizer = AdamW(optimizer_grouped_parameters, lr=args.learning_rate, eps=args.adam_epsilon)\n",
        "    scheduler = get_linear_schedule_with_warmup(\n",
        "        optimizer, num_warmup_steps=args.warmup_steps, num_training_steps=t_total\n",
        "    )\n",
        "\n",
        "    # Check if saved optimizer or scheduler states exist\n",
        "    if (\n",
        "        args.model_name_or_path\n",
        "        and os.path.isfile(os.path.join(args.model_name_or_path, \"optimizer.pt\"))\n",
        "        and os.path.isfile(os.path.join(args.model_name_or_path, \"scheduler.pt\"))\n",
        "    ):\n",
        "        # Load in optimizer and scheduler states\n",
        "        optimizer.load_state_dict(torch.load(os.path.join(args.model_name_or_path, \"optimizer.pt\")))\n",
        "        scheduler.load_state_dict(torch.load(os.path.join(args.model_name_or_path, \"scheduler.pt\")))\n",
        "\n",
        "    if args.fp16:\n",
        "        try:\n",
        "            from apex import amp\n",
        "        except ImportError:\n",
        "            raise ImportError(\"Please install apex from https://www.github.com/nvidia/apex to use fp16 training.\")\n",
        "        model, optimizer = amp.initialize(model, optimizer, opt_level=args.fp16_opt_level)\n",
        "\n",
        "    # multi-gpu training (should be after apex fp16 initialization)\n",
        "    if args.n_gpu > 1:\n",
        "        model = torch.nn.DataParallel(model)\n",
        "\n",
        "    # Distributed training (should be after apex fp16 initialization)\n",
        "    if args.local_rank != -1:\n",
        "        model = torch.nn.parallel.DistributedDataParallel(\n",
        "            model, device_ids=[args.local_rank], output_device=args.local_rank, find_unused_parameters=True\n",
        "        )\n",
        "\n",
        "    # Train!\n",
        "    logger.info(\"***** Running training *****\")\n",
        "    logger.info(\"  Num examples = %d\", len(train_dataset))\n",
        "    logger.info(\"  Num Epochs = %d\", args.num_train_epochs)\n",
        "    logger.info(\"  Instantaneous batch size per GPU = %d\", args.per_gpu_train_batch_size)\n",
        "    logger.info(\n",
        "        \"  Total train batch size (w. parallel, distributed & accumulation) = %d\",\n",
        "        args.train_batch_size\n",
        "        * args.gradient_accumulation_steps\n",
        "        * (torch.distributed.get_world_size() if args.local_rank != -1 else 1),\n",
        "    )\n",
        "    logger.info(\"  Gradient Accumulation steps = %d\", args.gradient_accumulation_steps)\n",
        "    logger.info(\"  Total optimization steps = %d\", t_total)\n",
        "\n",
        "    global_step = 0\n",
        "    epochs_trained = 0\n",
        "    steps_trained_in_current_epoch = 0\n",
        "    # Check if continuing training from a checkpoint\n",
        "    if args.model_name_or_path and os.path.exists(args.model_name_or_path):\n",
        "        try:\n",
        "            # set global_step to gobal_step of last saved checkpoint from model path\n",
        "            checkpoint_suffix = args.model_name_or_path.split(\"-\")[-1].split(\"/\")[0]\n",
        "            global_step = int(checkpoint_suffix)\n",
        "            epochs_trained = global_step // (len(train_dataloader) // args.gradient_accumulation_steps)\n",
        "            steps_trained_in_current_epoch = global_step % (len(train_dataloader) // args.gradient_accumulation_steps)\n",
        "\n",
        "            logger.info(\"  Continuing training from checkpoint, will skip to saved global_step\")\n",
        "            logger.info(\"  Continuing training from epoch %d\", epochs_trained)\n",
        "            logger.info(\"  Continuing training from global step %d\", global_step)\n",
        "            logger.info(\"  Will skip the first %d steps in the first epoch\", steps_trained_in_current_epoch)\n",
        "        except ValueError:\n",
        "            logger.info(\"  Starting fine-tuning.\")\n",
        "\n",
        "    tr_loss, logging_loss = 0.0, 0.0\n",
        "\n",
        "    model.zero_grad()\n",
        "    train_iterator = trange(\n",
        "        epochs_trained, int(args.num_train_epochs), desc=\"Epoch\", disable=args.local_rank not in [-1, 0]\n",
        "    )\n",
        "    set_seed(args)  # Added here for reproducibility\n",
        "    for _ in train_iterator:\n",
        "        epoch_iterator = tqdm(train_dataloader, desc=\"Iteration\", disable=args.local_rank not in [-1, 0])\n",
        "        for step, batch in enumerate(epoch_iterator):\n",
        "            # Skip past any already trained steps if resuming training\n",
        "            if steps_trained_in_current_epoch > 0:\n",
        "                steps_trained_in_current_epoch -= 1\n",
        "                continue\n",
        "\n",
        "            inputs, labels = (batch, batch)\n",
        "            if inputs.shape[1] > 1024: continue\n",
        "            inputs = inputs.to(args.device)\n",
        "            labels = labels.to(args.device)\n",
        "            model.train()\n",
        "            outputs = model(inputs, labels=labels)\n",
        "            loss = outputs[0]  # model outputs are always tuple in transformers (see doc)\n",
        "\n",
        "            if args.n_gpu > 1:\n",
        "                loss = loss.mean()  # mean() to average on multi-gpu parallel training\n",
        "            if args.gradient_accumulation_steps > 1:\n",
        "                loss = loss / args.gradient_accumulation_steps\n",
        "\n",
        "            if args.fp16:\n",
        "                with amp.scale_loss(loss, optimizer) as scaled_loss:\n",
        "                    scaled_loss.backward()\n",
        "            else:\n",
        "                loss.backward()\n",
        "\n",
        "            tr_loss += loss.item()\n",
        "            if (step + 1) % args.gradient_accumulation_steps == 0:\n",
        "                if args.fp16:\n",
        "                    torch.nn.utils.clip_grad_norm_(amp.master_params(optimizer), args.max_grad_norm)\n",
        "                else:\n",
        "                    torch.nn.utils.clip_grad_norm_(model.parameters(), args.max_grad_norm)\n",
        "                optimizer.step()\n",
        "                scheduler.step()  # Update learning rate schedule\n",
        "                model.zero_grad()\n",
        "                global_step += 1\n",
        "\n",
        "                if args.local_rank in [-1, 0] and args.logging_steps > 0 and global_step % args.logging_steps == 0:\n",
        "                    # Log metrics\n",
        "                    if (\n",
        "                        args.local_rank == -1 and args.evaluate_during_training\n",
        "                    ):  # Only evaluate when single GPU otherwise metrics may not average well\n",
        "                        results = evaluate(args, model, tokenizer)\n",
        "                        for key, value in results.items():\n",
        "                            tb_writer.add_scalar(\"eval_{}\".format(key), value, global_step)\n",
        "                    tb_writer.add_scalar(\"lr\", scheduler.get_lr()[0], global_step)\n",
        "                    tb_writer.add_scalar(\"loss\", (tr_loss - logging_loss) / args.logging_steps, global_step)\n",
        "                    logging_loss = tr_loss\n",
        "\n",
        "                if args.local_rank in [-1, 0] and args.save_steps > 0 and global_step % args.save_steps == 0:\n",
        "                    checkpoint_prefix = \"checkpoint\"\n",
        "                    # Save model checkpoint\n",
        "                    output_dir = os.path.join(args.output_dir, \"{}-{}\".format(checkpoint_prefix, global_step))\n",
        "                    os.makedirs(output_dir, exist_ok=True)\n",
        "                    model_to_save = (\n",
        "                        model.module if hasattr(model, \"module\") else model\n",
        "                    )  # Take care of distributed/parallel training\n",
        "                    model_to_save.save_pretrained(output_dir)\n",
        "                    tokenizer.save_pretrained(output_dir)\n",
        "\n",
        "                    torch.save(args, os.path.join(output_dir, \"training_args.bin\"))\n",
        "                    logger.info(\"Saving model checkpoint to %s\", output_dir)\n",
        "\n",
        "                    _rotate_checkpoints(args, checkpoint_prefix)\n",
        "\n",
        "                    torch.save(optimizer.state_dict(), os.path.join(output_dir, \"optimizer.pt\"))\n",
        "                    torch.save(scheduler.state_dict(), os.path.join(output_dir, \"scheduler.pt\"))\n",
        "                    logger.info(\"Saving optimizer and scheduler states to %s\", output_dir)\n",
        "\n",
        "            if args.max_steps > 0 and global_step > args.max_steps:\n",
        "                epoch_iterator.close()\n",
        "                break\n",
        "        if args.max_steps > 0 and global_step > args.max_steps:\n",
        "            train_iterator.close()\n",
        "            break\n",
        "\n",
        "    if args.local_rank in [-1, 0]:\n",
        "        tb_writer.close()\n",
        "    return global_step, tr_loss / global_step\n",
        "\n"
      ],
      "metadata": {
        "id": "Prf0_k74-JzB"
      },
      "execution_count": 20,
      "outputs": []
    },
    {
      "cell_type": "markdown",
      "source": [
        "### Function to evaluate the Model"
      ],
      "metadata": {
        "id": "IOWB_vxSgoYs"
      }
    },
    {
      "cell_type": "code",
      "source": [
        "# Function to evaluate the model\n",
        "\n",
        "def evaluate(args, model: PreTrainedModel, tokenizer: PreTrainedTokenizer, df_trn, df_val, prefix=\"\") -> Dict:\n",
        "    # Loop to handle MNLI double evaluation (matched, mis-matched)\n",
        "    eval_output_dir = args.output_dir\n",
        "\n",
        "    eval_dataset = load_and_cache_examples(args, tokenizer, df_trn, df_val, evaluate=True)\n",
        "    os.makedirs(eval_output_dir, exist_ok=True)\n",
        "    args.eval_batch_size = args.per_gpu_eval_batch_size * max(1, args.n_gpu)\n",
        "    # Note that DistributedSampler samples randomly\n",
        "\n",
        "    def collate(examples: List[torch.Tensor]):\n",
        "        if tokenizer._pad_token is None:\n",
        "            return pad_sequence(examples, batch_first=True)\n",
        "        return pad_sequence(examples, batch_first=True, padding_value=tokenizer.pad_token_id)\n",
        "\n",
        "    eval_sampler = SequentialSampler(eval_dataset)\n",
        "    eval_dataloader = DataLoader(\n",
        "        eval_dataset, sampler=eval_sampler, batch_size=args.eval_batch_size, collate_fn=collate, drop_last = True\n",
        "    )\n",
        "\n",
        "    # multi-gpu evaluate\n",
        "    if args.n_gpu > 1:\n",
        "        model = torch.nn.DataParallel(model)\n",
        "\n",
        "    # Eval!\n",
        "    logger.info(\"***** Running evaluation {} *****\".format(prefix))\n",
        "    logger.info(\"  Num examples = %d\", len(eval_dataset))\n",
        "    logger.info(\"  Batch size = %d\", args.eval_batch_size)\n",
        "    eval_loss = 0.0\n",
        "    nb_eval_steps = 0\n",
        "    model.eval()\n",
        "\n",
        "    for batch in tqdm(eval_dataloader, desc=\"Evaluating\"):\n",
        "        inputs, labels = (batch, batch)\n",
        "        inputs = inputs.to(args.device)\n",
        "        labels = labels.to(args.device)\n",
        "\n",
        "        with torch.no_grad():\n",
        "            outputs = model(inputs, labels=labels)\n",
        "            lm_loss = outputs[0]\n",
        "            eval_loss += lm_loss.mean().item()\n",
        "        nb_eval_steps += 1\n",
        "\n",
        "    eval_loss = eval_loss / nb_eval_steps\n",
        "    perplexity = torch.exp(torch.tensor(eval_loss))\n",
        "\n",
        "    result = {\"perplexity\": perplexity}\n",
        "\n",
        "    output_eval_file = os.path.join(eval_output_dir, prefix, \"eval_results.txt\")\n",
        "    with open(output_eval_file, \"w\") as writer:\n",
        "        logger.info(\"***** Eval results {} *****\".format(prefix))\n",
        "        for key in sorted(result.keys()):\n",
        "            logger.info(\"  %s = %s\", key, str(result[key]))\n",
        "            writer.write(\"%s = %s\\n\" % (key, str(result[key])))\n",
        "\n",
        "    return result"
      ],
      "metadata": {
        "id": "oA4Cgy4NeBKm"
      },
      "execution_count": 21,
      "outputs": []
    },
    {
      "cell_type": "markdown",
      "source": [
        "## Running the Main Script"
      ],
      "metadata": {
        "id": "LvPmdxAGeH1g"
      }
    },
    {
      "cell_type": "code",
      "source": [
        "def main(df_trn, df_val):\n",
        "    args = Args()\n",
        "\n",
        "    if args.should_continue:\n",
        "        sorted_checkpoints = _sorted_checkpoints(args)\n",
        "        if len(sorted_checkpoints) == 0:\n",
        "            raise ValueError(\"Used --should_continue but no checkpoint was found in --output_dir.\")\n",
        "        else:\n",
        "            args.model_name_or_path = sorted_checkpoints[-1]\n",
        "\n",
        "    if (\n",
        "        os.path.exists(args.output_dir)\n",
        "        and os.listdir(args.output_dir)\n",
        "        and args.do_train\n",
        "        and not args.overwrite_output_dir\n",
        "        and not args.should_continue\n",
        "    ):\n",
        "        raise ValueError(\n",
        "            \"Output directory ({}) already exists and is not empty. Use --overwrite_output_dir to overcome.\".format(\n",
        "                args.output_dir\n",
        "            )\n",
        "        )\n",
        "\n",
        "    # Setup CUDA, GPU & distributed training\n",
        "    device = torch.device(\"cuda\")\n",
        "    args.n_gpu = torch.cuda.device_count()\n",
        "    args.device = device\n",
        "\n",
        "    # Setup logging\n",
        "    logging.basicConfig(\n",
        "        format=\"%(asctime)s - %(levelname)s - %(name)s -   %(message)s\",\n",
        "        datefmt=\"%m/%d/%Y %H:%M:%S\",\n",
        "        level=logging.INFO if args.local_rank in [-1, 0] else logging.WARN,\n",
        "    )\n",
        "    logger.warning(\n",
        "        \"Process rank: %s, device: %s, n_gpu: %s, distributed training: %s, 16-bits training: %s\",\n",
        "        args.local_rank,\n",
        "        device,\n",
        "        args.n_gpu,\n",
        "        bool(args.local_rank != -1),\n",
        "        args.fp16,\n",
        "    )\n",
        "\n",
        "    # Set seed\n",
        "    set_seed(args)\n",
        "\n",
        "    config = AutoConfig.from_pretrained(args.config_name, cache_dir=args.cache_dir)\n",
        "    tokenizer = AutoTokenizer.from_pretrained(args.tokenizer_name, cache_dir=args.cache_dir)\n",
        "    model = AutoModelWithLMHead.from_pretrained(\n",
        "        args.model_name_or_path,\n",
        "        from_tf=False,\n",
        "        config=config,\n",
        "        cache_dir=args.cache_dir,\n",
        "    )\n",
        "    model.to(args.device)\n",
        "\n",
        "    logger.info(\"Training/evaluation parameters %s\", args)\n",
        "\n",
        "    # Training\n",
        "    if args.do_train:\n",
        "        train_dataset = load_and_cache_examples(args, tokenizer, df_trn, df_val, evaluate=False)\n",
        "\n",
        "        global_step, tr_loss = train(args, train_dataset, model, tokenizer)\n",
        "        logger.info(\" global_step = %s, average loss = %s\", global_step, tr_loss)\n",
        "\n",
        "    # Saving best-practices: if you use save_pretrained for the model and tokenizer, you can reload them using from_pretrained()\n",
        "    if args.do_train:\n",
        "        # Create output directory if needed\n",
        "        os.makedirs(args.output_dir, exist_ok=True)\n",
        "\n",
        "        logger.info(\"Saving model checkpoint to %s\", args.output_dir)\n",
        "        # Save a trained model, configuration and tokenizer using `save_pretrained()`.\n",
        "        # They can then be reloaded using `from_pretrained()`\n",
        "        model_to_save = (\n",
        "            model.module if hasattr(model, \"module\") else model\n",
        "        )  # Take care of distributed/parallel training\n",
        "        model_to_save.save_pretrained(args.output_dir)\n",
        "        tokenizer.save_pretrained(args.output_dir)\n",
        "\n",
        "        # Good practice: save your training arguments together with the trained model\n",
        "        torch.save(args, os.path.join(args.output_dir, \"training_args.bin\"))\n",
        "\n",
        "        # Load a trained model and vocabulary that you have fine-tuned\n",
        "        model = AutoModelWithLMHead.from_pretrained(args.output_dir)\n",
        "        tokenizer = AutoTokenizer.from_pretrained(args.output_dir)\n",
        "        model.to(args.device)\n",
        "\n",
        "    # Evaluation\n",
        "    results = {}\n",
        "    if args.do_eval and args.local_rank in [-1, 0]:\n",
        "        checkpoints = [args.output_dir]\n",
        "        if args.eval_all_checkpoints:\n",
        "            checkpoints = list(\n",
        "                os.path.dirname(c) for c in sorted(glob.glob(args.output_dir + \"/**/\" + WEIGHTS_NAME, recursive=True))\n",
        "            )\n",
        "            logging.getLogger(\"transformers.modeling_utils\").setLevel(logging.WARN)  # Reduce logging\n",
        "        logger.info(\"Evaluate the following checkpoints: %s\", checkpoints)\n",
        "        for checkpoint in checkpoints:\n",
        "            global_step = checkpoint.split(\"-\")[-1] if len(checkpoints) > 1 else \"\"\n",
        "            prefix = checkpoint.split(\"/\")[-1] if checkpoint.find(\"checkpoint\") != -1 else \"\"\n",
        "\n",
        "            model = AutoModelWithLMHead.from_pretrained(checkpoint)\n",
        "            model.to(args.device)\n",
        "            result = evaluate(args, model, tokenizer, df_trn, df_val, prefix=prefix)\n",
        "            result = dict((k + \"_{}\".format(global_step), v) for k, v in result.items())\n",
        "            results.update(result)\n",
        "\n",
        "    return results"
      ],
      "metadata": {
        "id": "d_wwHnFe_IgH"
      },
      "execution_count": 22,
      "outputs": []
    },
    {
      "cell_type": "code",
      "source": [
        "main(trn_df, val_df)"
      ],
      "metadata": {
        "colab": {
          "base_uri": "https://localhost:8080/",
          "height": 1000
        },
        "id": "1HDoI0em_X4q",
        "outputId": "4cce142e-6f3f-4d0e-d771-d69abb4e267c"
      },
      "execution_count": 23,
      "outputs": [
        {
          "output_type": "stream",
          "name": "stderr",
          "text": [
            "WARNING:__main__:Process rank: -1, device: cuda, n_gpu: 1, distributed training: False, 16-bits training: False\n",
            "/usr/local/lib/python3.10/dist-packages/transformers/models/auto/modeling_auto.py:1595: FutureWarning: The class `AutoModelWithLMHead` is deprecated and will be removed in a future version. Please use `AutoModelForCausalLM` for causal language models, `AutoModelForMaskedLM` for masked language models and `AutoModelForSeq2SeqLM` for encoder-decoder models.\n",
            "  warnings.warn(\n"
          ]
        },
        {
          "output_type": "error",
          "ename": "OutOfMemoryError",
          "evalue": "CUDA out of memory. Tried to allocate 148.00 MiB. GPU 0 has a total capacity of 14.75 GiB of which 75.06 MiB is free. Process 2214 has 14.67 GiB memory in use. Of the allocated memory 14.22 GiB is allocated by PyTorch, and 332.65 MiB is reserved by PyTorch but unallocated. If reserved but unallocated memory is large try setting PYTORCH_CUDA_ALLOC_CONF=expandable_segments:True to avoid fragmentation.  See documentation for Memory Management  (https://pytorch.org/docs/stable/notes/cuda.html#environment-variables)",
          "traceback": [
            "\u001b[0;31m---------------------------------------------------------------------------\u001b[0m",
            "\u001b[0;31mOutOfMemoryError\u001b[0m                          Traceback (most recent call last)",
            "\u001b[0;32m<ipython-input-23-523c0d2a27d3>\u001b[0m in \u001b[0;36m<cell line: 1>\u001b[0;34m()\u001b[0m\n\u001b[0;32m----> 1\u001b[0;31m \u001b[0mmain\u001b[0m\u001b[0;34m(\u001b[0m\u001b[0mtrn_df\u001b[0m\u001b[0;34m,\u001b[0m \u001b[0mval_df\u001b[0m\u001b[0;34m)\u001b[0m\u001b[0;34m\u001b[0m\u001b[0;34m\u001b[0m\u001b[0m\n\u001b[0m",
            "\u001b[0;32m<ipython-input-22-1f17c050b9e5>\u001b[0m in \u001b[0;36mmain\u001b[0;34m(df_trn, df_val)\u001b[0m\n\u001b[1;32m     53\u001b[0m         \u001b[0mcache_dir\u001b[0m\u001b[0;34m=\u001b[0m\u001b[0margs\u001b[0m\u001b[0;34m.\u001b[0m\u001b[0mcache_dir\u001b[0m\u001b[0;34m,\u001b[0m\u001b[0;34m\u001b[0m\u001b[0;34m\u001b[0m\u001b[0m\n\u001b[1;32m     54\u001b[0m     )\n\u001b[0;32m---> 55\u001b[0;31m     \u001b[0mmodel\u001b[0m\u001b[0;34m.\u001b[0m\u001b[0mto\u001b[0m\u001b[0;34m(\u001b[0m\u001b[0margs\u001b[0m\u001b[0;34m.\u001b[0m\u001b[0mdevice\u001b[0m\u001b[0;34m)\u001b[0m\u001b[0;34m\u001b[0m\u001b[0;34m\u001b[0m\u001b[0m\n\u001b[0m\u001b[1;32m     56\u001b[0m \u001b[0;34m\u001b[0m\u001b[0m\n\u001b[1;32m     57\u001b[0m     \u001b[0mlogger\u001b[0m\u001b[0;34m.\u001b[0m\u001b[0minfo\u001b[0m\u001b[0;34m(\u001b[0m\u001b[0;34m\"Training/evaluation parameters %s\"\u001b[0m\u001b[0;34m,\u001b[0m \u001b[0margs\u001b[0m\u001b[0;34m)\u001b[0m\u001b[0;34m\u001b[0m\u001b[0;34m\u001b[0m\u001b[0m\n",
            "\u001b[0;32m/usr/local/lib/python3.10/dist-packages/transformers/modeling_utils.py\u001b[0m in \u001b[0;36mto\u001b[0;34m(self, *args, **kwargs)\u001b[0m\n\u001b[1;32m   2554\u001b[0m                     \u001b[0;34m\" `dtype` by passing the correct `torch_dtype` argument.\"\u001b[0m\u001b[0;34m\u001b[0m\u001b[0;34m\u001b[0m\u001b[0m\n\u001b[1;32m   2555\u001b[0m                 )\n\u001b[0;32m-> 2556\u001b[0;31m         \u001b[0;32mreturn\u001b[0m \u001b[0msuper\u001b[0m\u001b[0;34m(\u001b[0m\u001b[0;34m)\u001b[0m\u001b[0;34m.\u001b[0m\u001b[0mto\u001b[0m\u001b[0;34m(\u001b[0m\u001b[0;34m*\u001b[0m\u001b[0margs\u001b[0m\u001b[0;34m,\u001b[0m \u001b[0;34m**\u001b[0m\u001b[0mkwargs\u001b[0m\u001b[0;34m)\u001b[0m\u001b[0;34m\u001b[0m\u001b[0;34m\u001b[0m\u001b[0m\n\u001b[0m\u001b[1;32m   2557\u001b[0m \u001b[0;34m\u001b[0m\u001b[0m\n\u001b[1;32m   2558\u001b[0m     \u001b[0;32mdef\u001b[0m \u001b[0mhalf\u001b[0m\u001b[0;34m(\u001b[0m\u001b[0mself\u001b[0m\u001b[0;34m,\u001b[0m \u001b[0;34m*\u001b[0m\u001b[0margs\u001b[0m\u001b[0;34m)\u001b[0m\u001b[0;34m:\u001b[0m\u001b[0;34m\u001b[0m\u001b[0;34m\u001b[0m\u001b[0m\n",
            "\u001b[0;32m/usr/local/lib/python3.10/dist-packages/torch/nn/modules/module.py\u001b[0m in \u001b[0;36mto\u001b[0;34m(self, *args, **kwargs)\u001b[0m\n\u001b[1;32m   1150\u001b[0m             \u001b[0;32mreturn\u001b[0m \u001b[0mt\u001b[0m\u001b[0;34m.\u001b[0m\u001b[0mto\u001b[0m\u001b[0;34m(\u001b[0m\u001b[0mdevice\u001b[0m\u001b[0;34m,\u001b[0m \u001b[0mdtype\u001b[0m \u001b[0;32mif\u001b[0m \u001b[0mt\u001b[0m\u001b[0;34m.\u001b[0m\u001b[0mis_floating_point\u001b[0m\u001b[0;34m(\u001b[0m\u001b[0;34m)\u001b[0m \u001b[0;32mor\u001b[0m \u001b[0mt\u001b[0m\u001b[0;34m.\u001b[0m\u001b[0mis_complex\u001b[0m\u001b[0;34m(\u001b[0m\u001b[0;34m)\u001b[0m \u001b[0;32melse\u001b[0m \u001b[0;32mNone\u001b[0m\u001b[0;34m,\u001b[0m \u001b[0mnon_blocking\u001b[0m\u001b[0;34m)\u001b[0m\u001b[0;34m\u001b[0m\u001b[0;34m\u001b[0m\u001b[0m\n\u001b[1;32m   1151\u001b[0m \u001b[0;34m\u001b[0m\u001b[0m\n\u001b[0;32m-> 1152\u001b[0;31m         \u001b[0;32mreturn\u001b[0m \u001b[0mself\u001b[0m\u001b[0;34m.\u001b[0m\u001b[0m_apply\u001b[0m\u001b[0;34m(\u001b[0m\u001b[0mconvert\u001b[0m\u001b[0;34m)\u001b[0m\u001b[0;34m\u001b[0m\u001b[0;34m\u001b[0m\u001b[0m\n\u001b[0m\u001b[1;32m   1153\u001b[0m \u001b[0;34m\u001b[0m\u001b[0m\n\u001b[1;32m   1154\u001b[0m     def register_full_backward_pre_hook(\n",
            "\u001b[0;32m/usr/local/lib/python3.10/dist-packages/torch/nn/modules/module.py\u001b[0m in \u001b[0;36m_apply\u001b[0;34m(self, fn, recurse)\u001b[0m\n\u001b[1;32m    800\u001b[0m         \u001b[0;32mif\u001b[0m \u001b[0mrecurse\u001b[0m\u001b[0;34m:\u001b[0m\u001b[0;34m\u001b[0m\u001b[0;34m\u001b[0m\u001b[0m\n\u001b[1;32m    801\u001b[0m             \u001b[0;32mfor\u001b[0m \u001b[0mmodule\u001b[0m \u001b[0;32min\u001b[0m \u001b[0mself\u001b[0m\u001b[0;34m.\u001b[0m\u001b[0mchildren\u001b[0m\u001b[0;34m(\u001b[0m\u001b[0;34m)\u001b[0m\u001b[0;34m:\u001b[0m\u001b[0;34m\u001b[0m\u001b[0;34m\u001b[0m\u001b[0m\n\u001b[0;32m--> 802\u001b[0;31m                 \u001b[0mmodule\u001b[0m\u001b[0;34m.\u001b[0m\u001b[0m_apply\u001b[0m\u001b[0;34m(\u001b[0m\u001b[0mfn\u001b[0m\u001b[0;34m)\u001b[0m\u001b[0;34m\u001b[0m\u001b[0;34m\u001b[0m\u001b[0m\n\u001b[0m\u001b[1;32m    803\u001b[0m \u001b[0;34m\u001b[0m\u001b[0m\n\u001b[1;32m    804\u001b[0m         \u001b[0;32mdef\u001b[0m \u001b[0mcompute_should_use_set_data\u001b[0m\u001b[0;34m(\u001b[0m\u001b[0mtensor\u001b[0m\u001b[0;34m,\u001b[0m \u001b[0mtensor_applied\u001b[0m\u001b[0;34m)\u001b[0m\u001b[0;34m:\u001b[0m\u001b[0;34m\u001b[0m\u001b[0;34m\u001b[0m\u001b[0m\n",
            "\u001b[0;32m/usr/local/lib/python3.10/dist-packages/torch/nn/modules/module.py\u001b[0m in \u001b[0;36m_apply\u001b[0;34m(self, fn, recurse)\u001b[0m\n\u001b[1;32m    800\u001b[0m         \u001b[0;32mif\u001b[0m \u001b[0mrecurse\u001b[0m\u001b[0;34m:\u001b[0m\u001b[0;34m\u001b[0m\u001b[0;34m\u001b[0m\u001b[0m\n\u001b[1;32m    801\u001b[0m             \u001b[0;32mfor\u001b[0m \u001b[0mmodule\u001b[0m \u001b[0;32min\u001b[0m \u001b[0mself\u001b[0m\u001b[0;34m.\u001b[0m\u001b[0mchildren\u001b[0m\u001b[0;34m(\u001b[0m\u001b[0;34m)\u001b[0m\u001b[0;34m:\u001b[0m\u001b[0;34m\u001b[0m\u001b[0;34m\u001b[0m\u001b[0m\n\u001b[0;32m--> 802\u001b[0;31m                 \u001b[0mmodule\u001b[0m\u001b[0;34m.\u001b[0m\u001b[0m_apply\u001b[0m\u001b[0;34m(\u001b[0m\u001b[0mfn\u001b[0m\u001b[0;34m)\u001b[0m\u001b[0;34m\u001b[0m\u001b[0;34m\u001b[0m\u001b[0m\n\u001b[0m\u001b[1;32m    803\u001b[0m \u001b[0;34m\u001b[0m\u001b[0m\n\u001b[1;32m    804\u001b[0m         \u001b[0;32mdef\u001b[0m \u001b[0mcompute_should_use_set_data\u001b[0m\u001b[0;34m(\u001b[0m\u001b[0mtensor\u001b[0m\u001b[0;34m,\u001b[0m \u001b[0mtensor_applied\u001b[0m\u001b[0;34m)\u001b[0m\u001b[0;34m:\u001b[0m\u001b[0;34m\u001b[0m\u001b[0;34m\u001b[0m\u001b[0m\n",
            "\u001b[0;32m/usr/local/lib/python3.10/dist-packages/torch/nn/modules/module.py\u001b[0m in \u001b[0;36m_apply\u001b[0;34m(self, fn, recurse)\u001b[0m\n\u001b[1;32m    823\u001b[0m             \u001b[0;31m# `with torch.no_grad():`\u001b[0m\u001b[0;34m\u001b[0m\u001b[0;34m\u001b[0m\u001b[0m\n\u001b[1;32m    824\u001b[0m             \u001b[0;32mwith\u001b[0m \u001b[0mtorch\u001b[0m\u001b[0;34m.\u001b[0m\u001b[0mno_grad\u001b[0m\u001b[0;34m(\u001b[0m\u001b[0;34m)\u001b[0m\u001b[0;34m:\u001b[0m\u001b[0;34m\u001b[0m\u001b[0;34m\u001b[0m\u001b[0m\n\u001b[0;32m--> 825\u001b[0;31m                 \u001b[0mparam_applied\u001b[0m \u001b[0;34m=\u001b[0m \u001b[0mfn\u001b[0m\u001b[0;34m(\u001b[0m\u001b[0mparam\u001b[0m\u001b[0;34m)\u001b[0m\u001b[0;34m\u001b[0m\u001b[0;34m\u001b[0m\u001b[0m\n\u001b[0m\u001b[1;32m    826\u001b[0m             \u001b[0mshould_use_set_data\u001b[0m \u001b[0;34m=\u001b[0m \u001b[0mcompute_should_use_set_data\u001b[0m\u001b[0;34m(\u001b[0m\u001b[0mparam\u001b[0m\u001b[0;34m,\u001b[0m \u001b[0mparam_applied\u001b[0m\u001b[0;34m)\u001b[0m\u001b[0;34m\u001b[0m\u001b[0;34m\u001b[0m\u001b[0m\n\u001b[1;32m    827\u001b[0m             \u001b[0;32mif\u001b[0m \u001b[0mshould_use_set_data\u001b[0m\u001b[0;34m:\u001b[0m\u001b[0;34m\u001b[0m\u001b[0;34m\u001b[0m\u001b[0m\n",
            "\u001b[0;32m/usr/local/lib/python3.10/dist-packages/torch/nn/modules/module.py\u001b[0m in \u001b[0;36mconvert\u001b[0;34m(t)\u001b[0m\n\u001b[1;32m   1148\u001b[0m                 return t.to(device, dtype if t.is_floating_point() or t.is_complex() else None,\n\u001b[1;32m   1149\u001b[0m                             non_blocking, memory_format=convert_to_format)\n\u001b[0;32m-> 1150\u001b[0;31m             \u001b[0;32mreturn\u001b[0m \u001b[0mt\u001b[0m\u001b[0;34m.\u001b[0m\u001b[0mto\u001b[0m\u001b[0;34m(\u001b[0m\u001b[0mdevice\u001b[0m\u001b[0;34m,\u001b[0m \u001b[0mdtype\u001b[0m \u001b[0;32mif\u001b[0m \u001b[0mt\u001b[0m\u001b[0;34m.\u001b[0m\u001b[0mis_floating_point\u001b[0m\u001b[0;34m(\u001b[0m\u001b[0;34m)\u001b[0m \u001b[0;32mor\u001b[0m \u001b[0mt\u001b[0m\u001b[0;34m.\u001b[0m\u001b[0mis_complex\u001b[0m\u001b[0;34m(\u001b[0m\u001b[0;34m)\u001b[0m \u001b[0;32melse\u001b[0m \u001b[0;32mNone\u001b[0m\u001b[0;34m,\u001b[0m \u001b[0mnon_blocking\u001b[0m\u001b[0;34m)\u001b[0m\u001b[0;34m\u001b[0m\u001b[0;34m\u001b[0m\u001b[0m\n\u001b[0m\u001b[1;32m   1151\u001b[0m \u001b[0;34m\u001b[0m\u001b[0m\n\u001b[1;32m   1152\u001b[0m         \u001b[0;32mreturn\u001b[0m \u001b[0mself\u001b[0m\u001b[0;34m.\u001b[0m\u001b[0m_apply\u001b[0m\u001b[0;34m(\u001b[0m\u001b[0mconvert\u001b[0m\u001b[0;34m)\u001b[0m\u001b[0;34m\u001b[0m\u001b[0;34m\u001b[0m\u001b[0m\n",
            "\u001b[0;31mOutOfMemoryError\u001b[0m: CUDA out of memory. Tried to allocate 148.00 MiB. GPU 0 has a total capacity of 14.75 GiB of which 75.06 MiB is free. Process 2214 has 14.67 GiB memory in use. Of the allocated memory 14.22 GiB is allocated by PyTorch, and 332.65 MiB is reserved by PyTorch but unallocated. If reserved but unallocated memory is large try setting PYTORCH_CUDA_ALLOC_CONF=expandable_segments:True to avoid fragmentation.  See documentation for Memory Management  (https://pytorch.org/docs/stable/notes/cuda.html#environment-variables)"
          ]
        }
      ]
    },
    {
      "cell_type": "markdown",
      "source": [
        "## Generate Test Results"
      ],
      "metadata": {
        "id": "0wV7YedtAN_d"
      }
    },
    {
      "cell_type": "code",
      "source": [
        "f_test = open(\"test_data.json\")\n",
        "test_data = json.load(f_test)\n",
        "f_test.close()\n",
        "\n",
        "test_query = []\n",
        "test_response = []\n",
        "\n",
        "for i in range(len(test_data)):\n",
        "  test_response.append(test_data[i][1])\n",
        "  test_query.append(test_data[i][0])\n",
        "\n",
        "print(len(test_response))\n",
        "print(len(test_query))"
      ],
      "metadata": {
        "colab": {
          "base_uri": "https://localhost:8080/"
        },
        "id": "Ta4HgRlM_apB",
        "outputId": "5292116d-a941-40fd-8c7b-458e44b344b4"
      },
      "execution_count": null,
      "outputs": [
        {
          "output_type": "stream",
          "name": "stdout",
          "text": [
            "61\n",
            "61\n"
          ]
        }
      ]
    },
    {
      "cell_type": "code",
      "source": [
        "test_chatbot = []\n",
        "\n",
        "for i in range(len(test_query)):\n",
        "  tokenizer = AutoTokenizer.from_pretrained('microsoft/DialoGPT-small')\n",
        "  model = AutoModelWithLMHead.from_pretrained('output-small-save')\n",
        "  # append the new user input tokens to the chat history\n",
        "  bot_input_ids = tokenizer.encode(test_query[i] + tokenizer.eos_token, return_tensors='pt')\n",
        "  print(\"Patient: {} \\n\".format(test_query[i]))\n",
        "  print(\"Reference:  {} \\n\".format(test_response[i]))\n",
        "\n",
        "\n",
        "  # generated a response while limiting the total chat history to 1000 tokens,\n",
        "  chat_history_ids = model.generate(\n",
        "      bot_input_ids, max_length=100,\n",
        "      pad_token_id=tokenizer.eos_token_id,\n",
        "      no_repeat_ngram_size=3,\n",
        "      do_sample=True,\n",
        "      top_k=10,\n",
        "      top_p=0.7,\n",
        "      temperature = 0.8\n",
        "  )\n",
        "\n",
        "  # pretty print last ouput tokens from bot\n",
        "  print(\"Predict: {} \\n\\n\".format(tokenizer.decode(chat_history_ids[:, bot_input_ids.shape[-1]:][0], skip_special_tokens=True)))\n",
        "  test_chatbot.append(tokenizer.decode(chat_history_ids[:, bot_input_ids.shape[-1]:][0], skip_special_tokens=True))\n",
        "\n",
        "print(len(test_chatbot))"
      ],
      "metadata": {
        "colab": {
          "base_uri": "https://localhost:8080/"
        },
        "id": "i2roSxILAl_3",
        "outputId": "d4432e5d-278d-4aac-9f4f-4a0de58cf0c3"
      },
      "execution_count": null,
      "outputs": [
        {
          "output_type": "stream",
          "name": "stderr",
          "text": [
            "A decoder-only architecture is being used, but right-padding was detected! For correct generation results, please set `padding_side='left'` when initializing the tokenizer.\n"
          ]
        },
        {
          "output_type": "stream",
          "name": "stdout",
          "text": [
            "Patient: I have all the symptoms except fever, I went to Medicross and Dr said I can get tested if I want to I'm not sure if I should. She gave me antibiotics Klacid XL 500mg, she said I can take it if I feel worse I'm worried it will make immune system bad? \n",
            "\n",
            "Reference:  Antibiotic   I don't recommend antibiotics for a simple viral upper respiratory tract infection unless examination revealed signs of acute bronchitis or sinusitis.   They are not effective for viral infections like coVid 19 with no bacterial lung involvement either. If you've been exposed to someone with coVid 19 or or if you or someone you were exposed to travelled to a region where it was endemic, get tested  Would you like to video or text chat with me? \n",
            "\n",
            "Predict: If you have a fever, or if you have diarrhea, you are fine. If you have fever, you should be fine. \n",
            "\n",
            "\n"
          ]
        },
        {
          "output_type": "stream",
          "name": "stderr",
          "text": [
            "A decoder-only architecture is being used, but right-padding was detected! For correct generation results, please set `padding_side='left'` when initializing the tokenizer.\n"
          ]
        },
        {
          "output_type": "stream",
          "name": "stdout",
          "text": [
            "Patient: I have pain/discomfort in my lungs. I don't experience simultaneous on both lungs and it not always at the hame position. I don't have a head nor do I have high temperature. I sneeze and cough maybe once a day. Do I have corona, should I get tested? \n",
            "\n",
            "Reference:  Exam needed. You are assuming that the discomfort is coming from both lungs, but pain of pleurisy or pneumonia wouldn't come and go In different sites. I doubt your symptoms are lung related, but fever, chills, sweats, worse cough, shortness of breath, wheezing, warrant testing.. If you've been exposed to someone with covid, or if you or someone you were exposed to  travelled to an affected region, get tested. \n",
            "\n",
            "Predict: No. COVID-19 is not contagious. You can get tested if you have a fever or if you are coughing or sneezing, but you will need to get tested \n",
            "\n",
            "\n"
          ]
        },
        {
          "output_type": "stream",
          "name": "stderr",
          "text": [
            "A decoder-only architecture is being used, but right-padding was detected! For correct generation results, please set `padding_side='left'` when initializing the tokenizer.\n"
          ]
        },
        {
          "output_type": "stream",
          "name": "stdout",
          "text": [
            "Patient: I travelled to Mauritius and do not have symptoms. Should I get tested for covid19? \n",
            "\n",
            "Reference:  Self Quarantine . Suggest Self Quarantine for 14 days . If symptomatic , contact your Primary Care Physician or use this platform. \n",
            "\n",
            "Predict: Yes.    You can get tested.  If you have symptoms, you should get tested and be tested. If you do not get tested, you are not a suspect suspect.  You should be fine.  Would you like to video or text chat with me? \n",
            "\n",
            "\n"
          ]
        },
        {
          "output_type": "stream",
          "name": "stderr",
          "text": [
            "A decoder-only architecture is being used, but right-padding was detected! For correct generation results, please set `padding_side='left'` when initializing the tokenizer.\n"
          ]
        },
        {
          "output_type": "stream",
          "name": "stdout",
          "text": [
            "Patient: I have a dry cough and a sore throat. I do not have a fever and a slight headache (could be I need more water) I am 4 months pregnant and not sure If I should be tested for Corona? \n",
            "\n",
            "Reference:  Socially isolate. get pleanty of fluids and rest and avoid others call dr if fever or difficulty breathing. \n",
            "\n",
            "Predict: Cough and sore throat is normal and normal. If you are in the right area and not in contact with anyone who has a fever, you should be alright. \n",
            "\n",
            "\n"
          ]
        },
        {
          "output_type": "stream",
          "name": "stderr",
          "text": [
            "A decoder-only architecture is being used, but right-padding was detected! For correct generation results, please set `padding_side='left'` when initializing the tokenizer.\n"
          ]
        },
        {
          "output_type": "stream",
          "name": "stdout",
          "text": [
            "Patient: I went to the Dr for a cough and fever on march 5. They diagnosed me with bronchitis. I was not doing any better, so I returned to the Dr on march 15. They sent me to the ER to get tested for covid. At the er they ran a number of tests including a covid t. \n",
            "\n",
            "Reference:  Question   You have not posted a question.  Would you like to video or text chat with me? \n",
            "\n",
            "Predict: Hello and Welcome to Healthcare Magic.Welcome to the Magic Magic Magic.Ask a Magic Magicologist and get a test. Magic Magic is the Magic. Magic is \n",
            "\n",
            "\n"
          ]
        },
        {
          "output_type": "stream",
          "name": "stderr",
          "text": [
            "A decoder-only architecture is being used, but right-padding was detected! For correct generation results, please set `padding_side='left'` when initializing the tokenizer.\n"
          ]
        },
        {
          "output_type": "stream",
          "name": "stdout",
          "text": [
            "Patient: What’s worse with the coronavirus, type 1 or type 2 diabetes? \n",
            "\n",
            "Reference:  Diabetes. My answer would be controlled or not. Type 1 or 2 if managed well and treated can still maintain good immunity. If either are out of control then infections of any type more likely. . \n",
            "\n",
            "Predict: It is very unlikely to have the same symptoms as diabetes. It depends on your severity of diabetes. If you are having a high risk of diabetes, then the coronovirus is more likely to have your symptoms. If it is, then you are more likely. \n",
            "\n",
            "\n"
          ]
        },
        {
          "output_type": "stream",
          "name": "stderr",
          "text": [
            "A decoder-only architecture is being used, but right-padding was detected! For correct generation results, please set `padding_side='left'` when initializing the tokenizer.\n"
          ]
        },
        {
          "output_type": "stream",
          "name": "stdout",
          "text": [
            "Patient: Just found out that my MD tested positive for Covid-19. I had direct interaction with him. He has no symptoms, he was tested because he traveled in February to Switzerland. Should I be tested. I’m 67, or wait to see if I develop any symptoms.? \n",
            "\n",
            "Reference:  Per RSA NICD: Self-isolate for 14 days.Seek testing if sick.Call 0800 029 999 for test information.Seek consultation if sick, preferably by phone or telemedicine.Seek care right away if difficulty breathing, other severe symptoms.Good luck, from the United States! \n",
            "\n",
            "Predict: No. You should definitely be tested for Covide 19.    You will be tested by a doctor.  You can be tested and have access to testing kits.  If you do not have \n",
            "\n",
            "\n"
          ]
        },
        {
          "output_type": "stream",
          "name": "stderr",
          "text": [
            "A decoder-only architecture is being used, but right-padding was detected! For correct generation results, please set `padding_side='left'` when initializing the tokenizer.\n"
          ]
        },
        {
          "output_type": "stream",
          "name": "stdout",
          "text": [
            "Patient: Hi. My children and husband were at the doctor yesterday and he has now informed us he has tested positive for covid19 . He has come home to my 2 babies and mom. How long before we can go for a test? \n",
            "\n",
            "Reference:  Incubation period   2-14 days(time from exposure to time of getting illness).  I am unclear if the doctor is positive or your husband is?You should isolate yourselves at home for 14 days.If your husband is positive,he should be in his own room and own bathroom,if possible.Testing only recommended if there are symptoms(fever or cough or shortness of breath)and then you should be tested.Good hand washing/no touching face  Would you like to video or text chat with me? \n",
            "\n",
            "Predict: Covid19 is not contagious. The test is done at home. The tests are done at the hospital. The testing is done by a patient who has been tested. \n",
            "\n",
            "\n"
          ]
        },
        {
          "output_type": "stream",
          "name": "stderr",
          "text": [
            "A decoder-only architecture is being used, but right-padding was detected! For correct generation results, please set `padding_side='left'` when initializing the tokenizer.\n"
          ]
        },
        {
          "output_type": "stream",
          "name": "stdout",
          "text": [
            "Patient: We went to bali via singapore, on my second day in bali (17 March) I started feeling a bit sick? \n",
            "\n",
            "Reference:  Monitor temp. Most cases of COVID-19 are associated with symptoms, but not all. Your symptoms may be related to coronavirus infection or another infection. I would recommend that you be tested for Coronavirus and then stay inside, avoiding contact with others while awaiting your test results. Use good hand washing, disinfect surfaces and drink fluids. \n",
            "\n",
            "Predict: Hello and Welcome to the sub, we have reviewed your query and will be happy to assist you in resolving your query. Please contact us via chat. \n",
            "\n",
            "\n"
          ]
        },
        {
          "output_type": "stream",
          "name": "stderr",
          "text": [
            "A decoder-only architecture is being used, but right-padding was detected! For correct generation results, please set `padding_side='left'` when initializing the tokenizer.\n"
          ]
        },
        {
          "output_type": "stream",
          "name": "stdout",
          "text": [
            "Patient: Is covering mouth and nose by mask sufficient to avoid corona exposure? Can It not be transmitted through eyes and ears? \n",
            "\n",
            "Reference:  Eyes, nose, mouth. Not ears.  See https://www.healthtap.com/blog/covid-19-care-guidelines/preventing-covid-19. \n",
            "\n",
            "Predict: Yes, it can be transmitted via the nose and mouth.    Would you like to video or text chat with me? \n",
            "\n",
            "\n"
          ]
        },
        {
          "output_type": "stream",
          "name": "stderr",
          "text": [
            "A decoder-only architecture is being used, but right-padding was detected! For correct generation results, please set `padding_side='left'` when initializing the tokenizer.\n"
          ]
        },
        {
          "output_type": "stream",
          "name": "stdout",
          "text": [
            "Patient: I have scratchy throat, phlegm, loss of appetite, fatigue. I am pharmacist in research facility. My son had 3rd contact. He has flu symptoms. He was quarantined. We are waiting for the results for his contact. Do I need to test myself? \n",
            "\n",
            "Reference:  Cluster cases   I would recommend staying at home, rest, drink fluids and monitoring your temperature.   You may have COVID-19 or another illness. If you are otherwise healthy, await test results. Keep utensils, linens separate and washed. Use good hand washing and disinfect surfaces. If the test is positive, please have screening of all family members in your home. Avoid contact with others.   Would you like to video or text chat with me? \n",
            "\n",
            "Predict: Yes. It is possible to get a test for pneumonia. It may be possible to test for covid-19. If you are in a high risk situation, you should have been tested for Cov \n",
            "\n",
            "\n"
          ]
        },
        {
          "output_type": "stream",
          "name": "stderr",
          "text": [
            "A decoder-only architecture is being used, but right-padding was detected! For correct generation results, please set `padding_side='left'` when initializing the tokenizer.\n"
          ]
        },
        {
          "output_type": "stream",
          "name": "stdout",
          "text": [
            "Patient: Can animal byproducts spread coronavirus? Do I have to worry about milk, eggs, or fruits? \n",
            "\n",
            "Reference:  No   we have no evidence of any concern with such spread.   It may be worth wiping all packages that come i nto the house with lysol wipes   Would you like to video or text chat with me? \n",
            "\n",
            "Predict: No, you are not. \n",
            "\n",
            "\n"
          ]
        },
        {
          "output_type": "stream",
          "name": "stderr",
          "text": [
            "A decoder-only architecture is being used, but right-padding was detected! For correct generation results, please set `padding_side='left'` when initializing the tokenizer.\n"
          ]
        },
        {
          "output_type": "stream",
          "name": "stdout",
          "text": [
            "Patient: Why are so many people with diabetes dying from the coronavirus? It’s really frightening me. \n",
            "\n",
            "Reference:  Immunocompromised    body is busy dealing with diabetes, not as much resiliancy remaining to fight viral symptoms, and subsequent opportunistic infections  Would you like to video or text chat with me? \n",
            "\n",
            "Predict: No. There are no cases of people with the virus in the US, and there are no coronaviruses in the USA, so if you are in contact with someone with the coronovirus, you are at risk of getting coronaviral disease. So, you should be alright. \n",
            "\n",
            "\n"
          ]
        },
        {
          "output_type": "stream",
          "name": "stderr",
          "text": [
            "A decoder-only architecture is being used, but right-padding was detected! For correct generation results, please set `padding_side='left'` when initializing the tokenizer.\n"
          ]
        },
        {
          "output_type": "stream",
          "name": "stdout",
          "text": [
            "Patient: I'm just a bit concerned as I have a sore throat and coughing a little bit as a result of my sore throat. My upper body is also aching a bit. Is this a cause for concern? \n",
            "\n",
            "Reference:  Possible virus. This is likely a viral infection. If you have a fever and/or the cough or sore throat get worse, you should be examined by your doctor. If you've been exposed to a particular illness, such as strep or the flu or coronavirus, you may need to be tested.For now, rest, drink fluids, take acetaminophen or ibuprofen as needed if you have no medical contraindication. \n",
            "\n",
            "Predict: I have been in contact with someone who has been in touch with a person with a fever, and they are experiencing a severe case of the virus. I have no symptoms, so I am not sure if I can get tested. I am also in contact right now with someone with a \n",
            "\n",
            "\n"
          ]
        },
        {
          "output_type": "stream",
          "name": "stderr",
          "text": [
            "A decoder-only architecture is being used, but right-padding was detected! For correct generation results, please set `padding_side='left'` when initializing the tokenizer.\n"
          ]
        },
        {
          "output_type": "stream",
          "name": "stdout",
          "text": [
            "Patient: Will Lysol wipes kill coronavirus? How long can coronavirus live on household surfaces? \n",
            "\n",
            "Reference:  Several days   Lysol should  be good.    Seehttps://www.wired.com/story/coronavirus-disinfectant-cleaning-guide/  Would you like to video or text chat with me? \n",
            "\n",
            "Predict: No, you can not use any of these products. You can use any one of these but not all of these will be safe. \n",
            "\n",
            "\n"
          ]
        },
        {
          "output_type": "stream",
          "name": "stderr",
          "text": [
            "A decoder-only architecture is being used, but right-padding was detected! For correct generation results, please set `padding_side='left'` when initializing the tokenizer.\n"
          ]
        },
        {
          "output_type": "stream",
          "name": "stdout",
          "text": [
            "Patient: Can I catch coronavirus on public transportation from someone who has it? How long do germs on public transportation last? \n",
            "\n",
            "Reference:  Coronavirus lives   New coronavirus may live on surfaces for a few hours or a few days depending on the type of surface, temperature or humidity.   One report indicated that new coronavirus can survive on hard surfaces for up to 72 hours and on cardboard for up to 24 hours.   Would you like to video or text chat with me? \n",
            "\n",
            "Predict: No. It is a virus. The virus is spread through public transportation. If you are in the US you are not going to get it. If your travel is short then you are at risk. \n",
            "\n",
            "\n"
          ]
        },
        {
          "output_type": "stream",
          "name": "stderr",
          "text": [
            "A decoder-only architecture is being used, but right-padding was detected! For correct generation results, please set `padding_side='left'` when initializing the tokenizer.\n"
          ]
        },
        {
          "output_type": "stream",
          "name": "stdout",
          "text": [
            "Patient: Is it necessary to get tested for the corona virus if you arrive back in South Africa after visiting Zimbabwe and Victoria falls as part of a group? \n",
            "\n",
            "Reference:  It depends.   If the visited place has a high rate of coronavirus infections to take some precautions is important such as if you develop fever or cough or any other coronavirus infection symptoms.   To be tested is desired but will you be able to get tested? In some places testing kits are reserved to very sick and hospitalized patient. Self quarantine in cooperation with your doctor is the way to go.  Would you like to video or text chat with me? \n",
            "\n",
            "Predict: It is not necessary to stay at home, stay at your local hospital and stay in contact with someone who has been in contact for over a week, or stay at a local hospital that has a high rate of infection and has been treated with antibiotics. \n",
            "\n",
            "\n"
          ]
        },
        {
          "output_type": "stream",
          "name": "stderr",
          "text": [
            "A decoder-only architecture is being used, but right-padding was detected! For correct generation results, please set `padding_side='left'` when initializing the tokenizer.\n"
          ]
        },
        {
          "output_type": "stream",
          "name": "stdout",
          "text": [
            "Patient: Hi. This COVID-19 outbreak is scary. I got screened this week and it was negative. But prior to screening I had a week of continuous dry coughs and also throat was sore. I've put myself in a quarantine. What next? Do I still need to screen again? \n",
            "\n",
            "Reference:  Screening test if. If you develop symptoms of dry cough, fever and/or shortness of breath, consider re testing since the test may convert to a positive test if infected. Other causes should be considered including an allergic reaction. Try one dose of an antihistamine and gauge improvement. Stay at home for three days if there is no fever. . \n",
            "\n",
            "Predict: Not really. It is not a virus. The virus is a virus that causes you to cough, which is not transmitted through the air. So if you have a fever or a cough then you should \n",
            "\n",
            "\n"
          ]
        },
        {
          "output_type": "stream",
          "name": "stderr",
          "text": [
            "A decoder-only architecture is being used, but right-padding was detected! For correct generation results, please set `padding_side='left'` when initializing the tokenizer.\n"
          ]
        },
        {
          "output_type": "stream",
          "name": "stdout",
          "text": [
            "Patient: Is it true (or a myth) that coronavirus will not survive hotter climates. As summer approaches, is it expected to reduce in tropical summers at least. \n",
            "\n",
            "Reference:  Coronavirus.    Yes, according to previous knowledge, most virus including coronavirus likely will not survive hotter climates.   I would expect or hope this will die down in summer time. Nevertheless, this is new coronavirus, let's wait and see. I also think that with strong human intervention, the virus may reduce or be eliminated before summer.   Would you like to video or text chat with me? \n",
            "\n",
            "Predict: No. The coronaviruses are not immune to COVID.    The coronas virus is not effective against COVID-19.  Would you like to video or text chat with me? \n",
            "\n",
            "\n"
          ]
        },
        {
          "output_type": "stream",
          "name": "stderr",
          "text": [
            "A decoder-only architecture is being used, but right-padding was detected! For correct generation results, please set `padding_side='left'` when initializing the tokenizer.\n"
          ]
        },
        {
          "output_type": "stream",
          "name": "stdout",
          "text": [
            "Patient: I heard ACE inhibitors might exacerbate coronavirus. I also heard NSAIDs might do the same. Does this mean any common meds could have an unexpected effect during coronavirus? \n",
            "\n",
            "Reference:  Coronavirus and ACEI.   Recent publications including the one from the lancet showed COVID-19 binds to ACE-2 receptor on target cells for entrance.   The expression of ACE-2 receptor is substantially increased in patients with diabetes who were treated with ACE inhibitors or ARB. NSAIDS has the similar effect. All medications can have some unexpected side effects.    Would you like to video or text chat with me? \n",
            "\n",
            "Predict: No. The coronaviruses are very different. The common med is the NSAIDs. The most common med in the US is the flu vaccine. The other common med are the flu and coronaviral vaccines. The US is not known for its ability to cure coronavitis. \n",
            "\n",
            "\n"
          ]
        },
        {
          "output_type": "stream",
          "name": "stderr",
          "text": [
            "A decoder-only architecture is being used, but right-padding was detected! For correct generation results, please set `padding_side='left'` when initializing the tokenizer.\n"
          ]
        },
        {
          "output_type": "stream",
          "name": "stdout",
          "text": [
            "Patient: I have had mild chest pain for over a week. it now seems more persistent and pronounced. I don't have shortness of breath or any other COVID-19 symptoms, except some fatigue. I have been traveling a lot in high risk areas. Should I get tested? \n",
            "\n",
            "Reference:  Yes   I would advise screening due to your exposure.   Fever is very commonly associated with COVID-19. Stay at home, rest, drink fluids and monitor your temperature. Arrange the testing which also  may include a chest image with your PCP.  Since your have been traveling, a pulmonary embolism is another possible cause of your shortness of breath.   Would you like to video or text chat with me? \n",
            "\n",
            "Predict: No, but you should definitely be tested for COVID19. \n",
            "\n",
            "\n"
          ]
        },
        {
          "output_type": "stream",
          "name": "stderr",
          "text": [
            "A decoder-only architecture is being used, but right-padding was detected! For correct generation results, please set `padding_side='left'` when initializing the tokenizer.\n"
          ]
        },
        {
          "output_type": "stream",
          "name": "stdout",
          "text": [
            "Patient: Ons het teruggekom vanaf oostenryk op 8 Maart..reeds 13 dae gelede. Het tans seer keel maar ook nasale drip. wat staan my te doen? \n",
            "\n",
            "Reference:  COVID19   even though your have no fever or shortness of breath, your travel history fits criteria to be tested.   I suggest you get tested for COVID19 - speak with your GP to advise further, self isolate in the meanwhile  Would you like to video or text chat with me? \n",
            "\n",
            "Predict: Befor    Nederlanden   Wir   m  N  erd   J   n  en  J tt   s   M  t \n",
            "\n",
            "\n"
          ]
        },
        {
          "output_type": "stream",
          "name": "stderr",
          "text": [
            "A decoder-only architecture is being used, but right-padding was detected! For correct generation results, please set `padding_side='left'` when initializing the tokenizer.\n"
          ]
        },
        {
          "output_type": "stream",
          "name": "stdout",
          "text": [
            "Patient: I have shortness of breath and are worried, I don’t have a cough or sore throat, so they will not test me, should I do a private test? \n",
            "\n",
            "Reference:  Shortness of breath. Covid testing is hard to come by. At 37 you are in a lower risk group.  And I doubt you could get a test. Keep isolated for two weeks. I know we have been ordering tests through HealthTap, but that does not lead to getting the test done, due to shortages. (3/21/20). \n",
            "\n",
            "Predict: If you have short breath and cough then yes. If you have a sore throat then no, but if you have cough then no. \n",
            "\n",
            "\n"
          ]
        },
        {
          "output_type": "stream",
          "name": "stderr",
          "text": [
            "A decoder-only architecture is being used, but right-padding was detected! For correct generation results, please set `padding_side='left'` when initializing the tokenizer.\n"
          ]
        },
        {
          "output_type": "stream",
          "name": "stdout",
          "text": [
            "Patient: How do you get HPV on the cervix? Is it from skin to skin contact during intercourse from a partner’s genital touching the cervix? Thank you. \n",
            "\n",
            "Reference:  Basically the HPV virus is transferred within fluids generated during intercourse.   A mechanical skin contact appears to be part of the process but defining the exact amount of contact required is difficult. The genital strains of HPV are specific to those locations. There are other HPV strains that cause things like skin warts but these are different.  Would you like to video or text chat with me? \n",
            "\n",
            "Predict: Virus. It is not a virus. You can get it through a virus and a person who has it. It does not spread through contact. \n",
            "\n",
            "\n"
          ]
        },
        {
          "output_type": "stream",
          "name": "stderr",
          "text": [
            "A decoder-only architecture is being used, but right-padding was detected! For correct generation results, please set `padding_side='left'` when initializing the tokenizer.\n"
          ]
        },
        {
          "output_type": "stream",
          "name": "stdout",
          "text": [
            "Patient: My 2year old Son has had a dry cough and a runny nose since thursday . He's not talking yet so it is difficult to tell if he has any trouble breathing so I'm concerned. He does not have temperature ? \n",
            "\n",
            "Reference:  Observatn is enough.   By looking at your child you'll know if he is having breathing difficulties.   Cough with a runny nose is common in children. You should be concerned only if he is refusing to play and eat, or if he develops breathing difficulties. Having a fever doesn't mean he has the Coronavirus. He is more likely to be infected with any of the common infections in your area of Gauteng.  Would you like to video or text chat with me? \n",
            "\n",
            "Predict: No fever or cough. You should be fine. \n",
            "\n",
            "\n"
          ]
        },
        {
          "output_type": "stream",
          "name": "stderr",
          "text": [
            "A decoder-only architecture is being used, but right-padding was detected! For correct generation results, please set `padding_side='left'` when initializing the tokenizer.\n"
          ]
        },
        {
          "output_type": "stream",
          "name": "stdout",
          "text": [
            "Patient: Can I test?No known contact with Corona  but been in contact with with Congo dr friend 7march. She is still healthy now. I had Slight Sore throat wed 11 &12 March . phlegm and red eyes. Temp seemed ok. Got thermometer .ok. 19 felt better but coughing. \n",
            "\n",
            "Reference:  Per RSA NICD:   Seek care right away if difficulty breathing, other severe symptoms.  Seek testing if sick, PLUS known COVID-19 contact, or travel to high risk country, or been in facility treating people with COVID-19, or severe pneumonia of unknown cause.Call 0800 029 999 for test. If sick or possibly exposed (not both), stay home.Seek consultation if sick.If known exposure & not sick, self-isolate 14 days.  Would you like to video or text chat with me? \n",
            "\n",
            "Predict: Corona    Your symptoms are not normal.   Would you like to video or text chat with me? \n",
            "\n",
            "\n"
          ]
        },
        {
          "output_type": "stream",
          "name": "stderr",
          "text": [
            "A decoder-only architecture is being used, but right-padding was detected! For correct generation results, please set `padding_side='left'` when initializing the tokenizer.\n"
          ]
        },
        {
          "output_type": "stream",
          "name": "stdout",
          "text": [
            "Patient: I’m so Scared that I will die if I get the coronavirus, due to type1 diabetes? \n",
            "\n",
            "Reference:  Coronavirus. Stay calm. Most people with coronavirus infection only get mild respiratory symptoms, especially among younger patients. Diabetes and use of ACEI or ARB may increase your risk of infection. Practicing common sense of prevention is critical during this outbreak crisis. Avoid risk exposure, wash hand, wear mask as needed. Get tested if you develop symptoms. Effect drugs are coming. . \n",
            "\n",
            "Predict: It's not a virus. It is a virus that is causing you to die if you are not tested for it. If you are tested for the virus then you should not worry about it. \n",
            "\n",
            "\n"
          ]
        },
        {
          "output_type": "stream",
          "name": "stderr",
          "text": [
            "A decoder-only architecture is being used, but right-padding was detected! For correct generation results, please set `padding_side='left'` when initializing the tokenizer.\n"
          ]
        },
        {
          "output_type": "stream",
          "name": "stdout",
          "text": [
            "Patient: A 2 year complaining that his head is sore. We gave him panado in the morning and at midday. He can't sleep he keeps waking up crying its painful. Should I take him to a Dr or hospital? \n",
            "\n",
            "Reference:  Fever?   Start by call Pediatrician ASAP.   if high fe ver or projectie vomiting take to ER .  take to ER  if inconsolable and cannot get pedicatrician IF mild respiratory or GI symptoms likely virus and want to make sure adequately hydrated and may just watch, isolate from contact , and give chicken soup . work on soothing and disstraction Keep in touch with pediatrician.   Would you like to video or text chat with me? \n",
            "\n",
            "Predict: No. You have to take him back to the hospital. He has a fever and has a sore throat. If you are not having trouble breathing then you should definitely call your doctor. \n",
            "\n",
            "\n"
          ]
        },
        {
          "output_type": "stream",
          "name": "stderr",
          "text": [
            "A decoder-only architecture is being used, but right-padding was detected! For correct generation results, please set `padding_side='left'` when initializing the tokenizer.\n"
          ]
        },
        {
          "output_type": "stream",
          "name": "stdout",
          "text": [
            "Patient: I have covid 19 symptoms? \n",
            "\n",
            "Reference:  Can talk with doctor   Doctors can give you the up-to-date information.   Video consultations available (start over and click on Talk-to-Doctor). We have informational posts on our Healthtap.com/blog. As the US president has given mistaken information at various times during this pandemic, be sure to check with doctors and the CDC website. People usually should not be tested without symptoms or direct exposure. (3/21/20)  Would you like to video or text chat with me? \n",
            "\n",
            "Predict: Covid 19.    If you are not in contact with others who are covid19, then you should not worry.  If not, then don't worry. \n",
            "\n",
            "\n"
          ]
        },
        {
          "output_type": "stream",
          "name": "stderr",
          "text": [
            "A decoder-only architecture is being used, but right-padding was detected! For correct generation results, please set `padding_side='left'` when initializing the tokenizer.\n"
          ]
        },
        {
          "output_type": "stream",
          "name": "stdout",
          "text": [
            "Patient: I've been in contact with a possible covid-19 case who is waiting on results. My brother seems to be I'll with Corona symptoms and I'd like to get advice on how to help him, as his safety will ensure my safety and prevent the spread of the virus. \n",
            "\n",
            "Reference:  Stay home. Family members should stay home and avoid contact with your brother. Keep linens, bath area and utensils separated. He should monitor his temperature, drink fluids, rest and your family should be screened for Coronavirus. \n",
            "\n",
            "Predict: !!!Tweetbot!!twitter!!Twitter!!’!!Thanks!! \n",
            "\n",
            "\n"
          ]
        },
        {
          "output_type": "stream",
          "name": "stderr",
          "text": [
            "A decoder-only architecture is being used, but right-padding was detected! For correct generation results, please set `padding_side='left'` when initializing the tokenizer.\n"
          ]
        },
        {
          "output_type": "stream",
          "name": "stdout",
          "text": [
            "Patient: I have mild irritation in my chest but I am not coughing, I just feel a tingling sensation on my thought. I have no fever, no aches should I be worried about COVID 19? \n",
            "\n",
            "Reference:  Probably. We should all be cautious , not worried about Covid-19. It is prudent for us all to be socially isolating, washing our hands, supplementing with vits. D and C and working on making the best of it.  BE grateful for the things that are going well in your life, reach out with verbal and video support for ALL the loved ones and even people you just know are isolated with support. Don't bother to worry. \n",
            "\n",
            "Predict: No. COVID19 is not a virus. COV19 is a virus that causes you to cough, which can cause you to feel sick. \n",
            "\n",
            "\n"
          ]
        },
        {
          "output_type": "stream",
          "name": "stderr",
          "text": [
            "A decoder-only architecture is being used, but right-padding was detected! For correct generation results, please set `padding_side='left'` when initializing the tokenizer.\n"
          ]
        },
        {
          "output_type": "stream",
          "name": "stdout",
          "text": [
            "Patient: Swollen tonsils, cough, and feeling slightly feverish. \n",
            "\n",
            "Reference:  Coronavirus possible. Seek care right away if difficulty breathing, other severe symptoms.Seek testing if sick, PLUS known COVID-19 contact, or travel to high risk country, or been in facility treating people with COVID-19, or severe pneumonia of unknown cause.Call 0800 029 999 for test. If sick or possibly exposed (not both), stay home.Seek consultation if sick.If known exposure & not sick, self-isolate 14 days. \n",
            "\n",
            "Predict: Hello and Welcome to RAOA Magic.Hello and Thank you for your question on Magic.Best to ask here: Magic.Ask away.Best way to get a diagnosis is to go to Magic. \n",
            "\n",
            "\n"
          ]
        },
        {
          "output_type": "stream",
          "name": "stderr",
          "text": [
            "A decoder-only architecture is being used, but right-padding was detected! For correct generation results, please set `padding_side='left'` when initializing the tokenizer.\n"
          ]
        },
        {
          "output_type": "stream",
          "name": "stdout",
          "text": [
            "Patient: I have a sore throat  and a bit of a cough. This morning i coughed up mucus with what look like blood. Is this a sign of covid 19? \n",
            "\n",
            "Reference:  Source of bleeding   There are many causes of the small amount of blood in your sputum. You may have a nasal or upper airway source.    Strep infection, influenza are possible causes. COVID-19 typically is associated with fever, dry cough and/or shortness of breath.. Please contact your PCP for an evaluation, possible chest image and evaluation of the source of the bleeding.   Would you like to video or text chat with me? \n",
            "\n",
            "Predict: No.    You have to go to the hospital to get tested.  You can also go to a local hospital and get tested for Covid 19.  \n",
            "\n",
            "\n"
          ]
        },
        {
          "output_type": "stream",
          "name": "stderr",
          "text": [
            "A decoder-only architecture is being used, but right-padding was detected! For correct generation results, please set `padding_side='left'` when initializing the tokenizer.\n"
          ]
        },
        {
          "output_type": "stream",
          "name": "stdout",
          "text": [
            "Patient: Symptoms include irritation in the throat, dry cough, trouble breathing properly, headache. However not really a sign of a fever. Temperature is about 35 degrees. Should I get tested? \n",
            "\n",
            "Reference:  Many causes.   Most cases of COVID-19 with symptoms are associated with fever, however milder cases do occur. Your shortness of breath and difficulty breathing may have a number of causes and should be evaluated.   Please call your PCP. Avoid dust, mold, smoke, animal dander, pollen. Your symptoms also are consistent with an allergic reaction.  Would you like to video or text chat with me? \n",
            "\n",
            "Predict: No fever, no fever, not sure if you are in contact with anyone or if you have been infected with a virus. \n",
            "\n",
            "\n"
          ]
        },
        {
          "output_type": "stream",
          "name": "stderr",
          "text": [
            "A decoder-only architecture is being used, but right-padding was detected! For correct generation results, please set `padding_side='left'` when initializing the tokenizer.\n"
          ]
        },
        {
          "output_type": "stream",
          "name": "stdout",
          "text": [
            "Patient: I am 63 living in Jhb and have had a tight chest and sore throat and wet cough for more than a week ? \n",
            "\n",
            "Reference:  Flu like sx.   Stay at home, monitor your temperature, drink fluids and rest.   If your cough is associated with fever and/or does not begin to improve, please see your PCP.  You may have bacterial bronchitis -avoid smoke, dust, mold, animal dander and pollen. Influenza and COVID are associated with fever. The cough with COVID is typically dry. If you have underlying lung disease, test for CoV/flu.  Would you like to video or text chat with me? \n",
            "\n",
            "Predict: No. You have been exposed to a virus. The virus has been in your chest for over a week. You should not be exposed to it. \n",
            "\n",
            "\n"
          ]
        },
        {
          "output_type": "stream",
          "name": "stderr",
          "text": [
            "A decoder-only architecture is being used, but right-padding was detected! For correct generation results, please set `padding_side='left'` when initializing the tokenizer.\n"
          ]
        },
        {
          "output_type": "stream",
          "name": "stdout",
          "text": [
            "Patient: Chronic sore throat for 4 months. Not strep. No fever. Bloody green phlegm for a while. Sinus congestion and pressure sometimes. Bad breath in back of throat sometimes. Maybe post nasal drip. 2 wks. Of amoxicillin didn’t help. Is this mild COVID-19? \n",
            "\n",
            "Reference:  Bacterial likely. Use nasal saline rinses, a nasal steroid and discuss the use of Augmentin for 10 days with your PCP. It is more likely that you have a bacterial infection. An examination of your mouth or uploaded photo to a HT virtual consultation is important. Avoid smoke and if you are a smoker, please consider a biopsy of the area. . \n",
            "\n",
            "Predict: Hello,    You are in good shape.   If you have strep or fever,  You should get tested for COVID19.  If \n",
            "\n",
            "\n"
          ]
        },
        {
          "output_type": "stream",
          "name": "stderr",
          "text": [
            "A decoder-only architecture is being used, but right-padding was detected! For correct generation results, please set `padding_side='left'` when initializing the tokenizer.\n"
          ]
        },
        {
          "output_type": "stream",
          "name": "stdout",
          "text": [
            "Patient: Been sneezing / stuffy nose and slight sore throat since returning from France, temperature is okay, not coughing or high fever symptoms, should I be alarmed? \n",
            "\n",
            "Reference:  Simple Cold but..... Sounds like simple Cold, But under the current health challenges of the world, it's best to be preemptive. And because Covid-19 is an infectious disease mostly transmitted through respiratory fluid droplets, One should first follow the WHO/CDC  current guidelines on hygiene. Then gargle with salt-water or vinegar-water after each meal/bedtime plus take Aleve or Ibuprofen for soreness/fever...   . \n",
            "\n",
            "Predict: Hello, symptoms are normal.    The fever is not high and you are not having any symptoms.  If you are having trouble breathing or have a fever, then you should be alright.  Would you like to video or text chat with me? \n",
            "\n",
            "\n"
          ]
        },
        {
          "output_type": "stream",
          "name": "stderr",
          "text": [
            "A decoder-only architecture is being used, but right-padding was detected! For correct generation results, please set `padding_side='left'` when initializing the tokenizer.\n"
          ]
        },
        {
          "output_type": "stream",
          "name": "stdout",
          "text": [
            "Patient: Can I go for Coronavirus testing if my nose is blocked and I have traveled from a high risk country? \n",
            "\n",
            "Reference:  Coronavirus testing. Yes, get tested if symptomatic (early symptoms could be mild respiratory symptoms and nonspecific) or self quarantine given your high risk of exposure. . \n",
            "\n",
            "Predict: Not sure if this is a concern, but you should be fine.    If you have a nose problem, you should not travel to the country with high risk people, but if you have access to a high dose of covid-19, you are good to go.  Would you like to video or text chat with me? \n",
            "\n",
            "\n"
          ]
        },
        {
          "output_type": "stream",
          "name": "stderr",
          "text": [
            "A decoder-only architecture is being used, but right-padding was detected! For correct generation results, please set `padding_side='left'` when initializing the tokenizer.\n"
          ]
        },
        {
          "output_type": "stream",
          "name": "stdout",
          "text": [
            "Patient: My 5 year old daughter has just come down with a 39 degree fever, sneezing, runny nose and cough. Should we get her tested? \n",
            "\n",
            "Reference:  Maybe. Has she been around anyone who has tested positive for COVID-19?  Is she having shortness of breath or labored breathing?  If so, then, yes, consider getting her tested.   If not, it is more likely that she has the flu or some other virus.  If it seems like more than just a regular cold, reach out to her pediatrician for more advice. \n",
            "\n",
            "Predict: Yes. Yes. Yes, you should get tested. \n",
            "\n",
            "\n"
          ]
        },
        {
          "output_type": "stream",
          "name": "stderr",
          "text": [
            "A decoder-only architecture is being used, but right-padding was detected! For correct generation results, please set `padding_side='left'` when initializing the tokenizer.\n"
          ]
        },
        {
          "output_type": "stream",
          "name": "stdout",
          "text": [
            "Patient: I am a quadriplegic and have a tight chest and slight difficulty breathing.  Overnight I started feeling like I need to clear my throat. I flew home to Joburg from CPT 8 days ago & have been self isolating as a precaution. ? \n",
            "\n",
            "Reference:  Monitor.   Stay at home, monitor your temperature, drink fluids and rest.   Nasal congestion and post nasal drip is not typically associated with COVID-19. Watch for dry cough, fever and if your shortness of breath does not resolve, discuss whether you need an inhaler, chest physiotherapy and/or testing. If you have a trach, watch for signs of infection such as more secretions or a change in color .  Would you like to video or text chat with me? \n",
            "\n",
            "Predict: In brief: Yes, it is a common symptom of a fever.    You should consult your physician for this type of pneumonia.  You will need to consult your doctor for further questions.  Would you like \n",
            "\n",
            "\n"
          ]
        },
        {
          "output_type": "stream",
          "name": "stderr",
          "text": [
            "A decoder-only architecture is being used, but right-padding was detected! For correct generation results, please set `padding_side='left'` when initializing the tokenizer.\n"
          ]
        },
        {
          "output_type": "stream",
          "name": "stdout",
          "text": [
            "Patient: Hi I am 39 years old and returned from Germany 19 days ago. Yesterday I started getting a sore throat, runny nose. Today I have sinus pressure and a headache with a blocked nose, throat seems to be improving. Should I get tested. If so how? \n",
            "\n",
            "Reference:  Stay home. Stay at home, rest, drink fluids and monitor your temperature. Your symptoms are more consistent with a cold or sinus infection. Nasal saline and a decongestant may be helpful. If you develop COVID symptoms including dry cough, fever, and/or shortness of breath, testing is indicated. Report fever and shortness of breath to your PCP. \n",
            "\n",
            "Predict: No. You are fine. \n",
            "\n",
            "\n"
          ]
        },
        {
          "output_type": "stream",
          "name": "stderr",
          "text": [
            "A decoder-only architecture is being used, but right-padding was detected! For correct generation results, please set `padding_side='left'` when initializing the tokenizer.\n"
          ]
        },
        {
          "output_type": "stream",
          "name": "stdout",
          "text": [
            "Patient: Hi I am 39 years old and have flu like symptoms as of yesterday. Runny nose, sore throat. No fever yet. I returned from Germany 19 days ago. Should I get tested for cov19? \n",
            "\n",
            "Reference:  If you get fever yes. but from what we know it may bee a little late to get the chines virus after so many days. Monitor tempreture. \n",
            "\n",
            "Predict: Yes.    If you have covid-19, get tested.  If your symptoms are worsening, then get tested and get tested again.  Would you like to video or text chat with me? \n",
            "\n",
            "\n"
          ]
        },
        {
          "output_type": "stream",
          "name": "stderr",
          "text": [
            "A decoder-only architecture is being used, but right-padding was detected! For correct generation results, please set `padding_side='left'` when initializing the tokenizer.\n"
          ]
        },
        {
          "output_type": "stream",
          "name": "stdout",
          "text": [
            "Patient: If you have wolf Parkinson white syndrome does this make you more of a risk with Covid 19? \n",
            "\n",
            "Reference:  Avoid cold/ice... Though untreated WPW Syndrome can be regarded as pre-existing chronic condition, there is no current evidence that one is more susceptible to Covid-19, an infectious disease mostly transmitted through Respiratory Fluid Droplets. Best to follow WHO/CDC guideline on hygiene. Plus avoid cold/ice  drinks/foods. Drink warm water/tea, even chicken soup. Aleve or ibuprofen can be helpful for fever/soreness. \n",
            "\n",
            "Predict: No.    Would you like to video or text chat with me? \n",
            "\n",
            "\n"
          ]
        },
        {
          "output_type": "stream",
          "name": "stderr",
          "text": [
            "A decoder-only architecture is being used, but right-padding was detected! For correct generation results, please set `padding_side='left'` when initializing the tokenizer.\n"
          ]
        },
        {
          "output_type": "stream",
          "name": "stdout",
          "text": [
            "Patient: Criteria for COVID test? \n",
            "\n",
            "Reference:  Real vs. textbook. Real-life criteria is different because we don't have enough tests, supplies, or medical staff around the world at this time (March 2020). Textbook criteria are  suspected COVID in hospitalized persons or in those with underlying medical conditions; or persons who got symptoms less than 14 days after (1) contact with a suspect or confirmed COVID patient or (2) travel through high-risk COVID area. \n",
            "\n",
            "Predict: Not sure on the criteria.    Would you like to video or text chat with me? \n",
            "\n",
            "\n"
          ]
        },
        {
          "output_type": "stream",
          "name": "stderr",
          "text": [
            "A decoder-only architecture is being used, but right-padding was detected! For correct generation results, please set `padding_side='left'` when initializing the tokenizer.\n"
          ]
        },
        {
          "output_type": "stream",
          "name": "stdout",
          "text": [
            "Patient: I have been feeling sick for a couple of days now and tried self medication but does not seem to help. I suffer from Polycystic Kidney disease, low blood pressure, Anemic, Endometriosis, Chronic sinus. \n",
            "\n",
            "Reference:  Screen sputum. You may have a bacterial illness such as bronchitis, pneumonia or a sinus infection.  Your PCP may collect sputum, screen for Strep/influenza. COVID-19 is usually associated with a dry cough, but secondary infection may occur. Please see your PCP. \n",
            "\n",
            "Predict: Hello and Welcome to the Magic Magic Magic.Hope I have answered your query. Magic Magic is a great service. I have been using Magic Magic for over a year. Magic. Magic is the Magic. \n",
            "\n",
            "\n"
          ]
        },
        {
          "output_type": "stream",
          "name": "stderr",
          "text": [
            "A decoder-only architecture is being used, but right-padding was detected! For correct generation results, please set `padding_side='left'` when initializing the tokenizer.\n"
          ]
        },
        {
          "output_type": "stream",
          "name": "stdout",
          "text": [
            "Patient: I have had a runny nose and have been coughing and have had on and off headaches. I went to the doctor the first time, he gave me an antibiotic and i got worse then I went back a and he gave me a different one but it seems I still have these symptoms? \n",
            "\n",
            "Reference:  Likely a virus.   What you describe is likely caused by a virus, antibiotics  don't do anything against viruses.  Would you like to video or text chat with me? \n",
            "\n",
            "Predict: No, not at all. You have to go to the ER and get tested.    You are in the right place right now.  You should go to your doctor to get tested and get \n",
            "\n",
            "\n"
          ]
        },
        {
          "output_type": "stream",
          "name": "stderr",
          "text": [
            "A decoder-only architecture is being used, but right-padding was detected! For correct generation results, please set `padding_side='left'` when initializing the tokenizer.\n"
          ]
        },
        {
          "output_type": "stream",
          "name": "stdout",
          "text": [
            "Patient: I am experiencing headache (severity: moderate) (time frame: gradual) (occurred: 1 - 3 hours) (side: front) (worsened by: psychological stress, being tired, menstruation, skipping meals) (unaffected by: bending forward, changes in sleep pattern, sneeze or. \n",
            "\n",
            "Reference:  Many possibilities.   Most people get a headache at some time, such as from colds, infections (usually viruses or sinusitis), lack of sleep, too much driving, long hours on the computer, stress at work, etc.  ..  A bad or severe headache, increasing headache, recurrent headache, weird headache, or one with other worrisome symptoms should be checked by one's primary care doctor or the ER. Can call one's Dr. first to chat.  Would you like to video or text chat with me? \n",
            "\n",
            "Predict: Hello and Welcome to r askhealthcare. I have reviewed your query and here is my advice for you. 1. Avoid strep 2. Do not have a \n",
            "\n",
            "\n"
          ]
        },
        {
          "output_type": "stream",
          "name": "stderr",
          "text": [
            "A decoder-only architecture is being used, but right-padding was detected! For correct generation results, please set `padding_side='left'` when initializing the tokenizer.\n"
          ]
        },
        {
          "output_type": "stream",
          "name": "stdout",
          "text": [
            "Patient: This may sound silly but I’m wondering, if touch something in store that has Coronavirus 19 on it and it gets on clothes should we go home wash them soon as possible then shower and new clothes on so it dont get on our stuff at home ? \n",
            "\n",
            "Reference:  Washing clothes.   Although so far it has not been shown to live on surfaces like clothes for as long as it lives on surfaces like plastic and metal, it is definitely good hygienic practice to wash your clothes in the hottest water the garment allows.  Would you like to video or text chat with me? \n",
            "\n",
            "Predict: If you have Coronabirus 19, wash your hands thoroughly and keep your hands clean. If you have access to a dryer and or soap you are washing your hands frequently, wash hands thoroughly after washing your hand \n",
            "\n",
            "\n"
          ]
        },
        {
          "output_type": "stream",
          "name": "stderr",
          "text": [
            "A decoder-only architecture is being used, but right-padding was detected! For correct generation results, please set `padding_side='left'` when initializing the tokenizer.\n"
          ]
        },
        {
          "output_type": "stream",
          "name": "stdout",
          "text": [
            "Patient: Re Covid 19 I understand the incubation period of Covid 19 is up to 14 days. But how long is the contagious period? I have read one is contagious 2 days before showing symptoms. Is that true? Are you still contagious until symptom free? \n",
            "\n",
            "Reference:  Covid. For most people the infection can last up to two weeks. In people who get particularly ill the infection last 4 to 6 weeks. . \n",
            "\n",
            "Predict: I am not a doctor. I have been in contact with a patient who has been tested for Covid19. I am a non medical patient and I have tested positive for Covide 19. I also have been to a doctor who \n",
            "\n",
            "\n"
          ]
        },
        {
          "output_type": "stream",
          "name": "stderr",
          "text": [
            "A decoder-only architecture is being used, but right-padding was detected! For correct generation results, please set `padding_side='left'` when initializing the tokenizer.\n"
          ]
        },
        {
          "output_type": "stream",
          "name": "stdout",
          "text": [
            "Patient: Hi I am a health worker and a chronic asthmatic, is it easier for me to contract Corona? Will I survive it with my comorbidity? Should I ask for special leave during this time? I already feel my sinus blocked, very minor sore throat, seldom dry cough. \n",
            "\n",
            "Reference:  Check with PCP.   Data emerging from preliminary studies in France suggest a decades old medicine, chloroquine may be useful as a preventative drug.   It has been used to prevent malaria for decades & manufactures in the US have announced they are increasing production to meet an expected demand. Your status & what they are doing in your country should be answered by your doc.  Would you like to video or text chat with me? \n",
            "\n",
            "Predict: Corona.    Would you like to video or text chat with me? \n",
            "\n",
            "\n"
          ]
        },
        {
          "output_type": "stream",
          "name": "stderr",
          "text": [
            "A decoder-only architecture is being used, but right-padding was detected! For correct generation results, please set `padding_side='left'` when initializing the tokenizer.\n"
          ]
        },
        {
          "output_type": "stream",
          "name": "stdout",
          "text": [
            "Patient: Possible COVID-19 - mild symptoms - Next steps? Symptoms: - Initially: tight chest, stuffy nose - 10% difficulty breathing - Mildly feverish (hot and dry mouth, bit weak) for a few hours yesterday - Mostly fine this morning (5% breathing difficulty). \n",
            "\n",
            "Reference:  May confirm with. \n",
            "\n",
            "Predict: Hello and Welcome to the Healthcare Magic Magic Magic. I will be happy to answer your query. If you have any further questions or concerns please feel free to contact me. \n",
            "\n",
            "\n"
          ]
        },
        {
          "output_type": "stream",
          "name": "stderr",
          "text": [
            "A decoder-only architecture is being used, but right-padding was detected! For correct generation results, please set `padding_side='left'` when initializing the tokenizer.\n"
          ]
        },
        {
          "output_type": "stream",
          "name": "stdout",
          "text": [
            "Patient: Throat a bit sore and want to get a good imune booster, especially in light of the virus. Please advise. Have not been in contact with Nyone with the virus. \n",
            "\n",
            "Reference:  During this pandemic. Throat pain can be from a strep throat infection (antibiotics needed), a cold or influenza or other virus, or from some other cause such as allergies or irritants. Usually, a person sees the doctor (call first) if the sore throat is bothersome, recurrent, or doesn't go away quickly. COVID-19 infections tend to have cough, whereas strep throat usually lacks cough but has more throat pain. (3/21/20). \n",
            "\n",
            "Predict: Hello, Please contact your local doctor. I have been in touch with your doctor. He has been working with me. He is currently working on a vaccine. I will contact your doctor if I can assist you. Regards,Dr.Jolanda. \n",
            "\n",
            "\n"
          ]
        },
        {
          "output_type": "stream",
          "name": "stderr",
          "text": [
            "A decoder-only architecture is being used, but right-padding was detected! For correct generation results, please set `padding_side='left'` when initializing the tokenizer.\n"
          ]
        },
        {
          "output_type": "stream",
          "name": "stdout",
          "text": [
            "Patient: I have had a sore throat (glands enlarged in throat) for over a week and I have constant headache. Do I need COVID-19 test. If yes, how do a get someone to come to my house to test. \n",
            "\n",
            "Reference:  Testing.   People are still getting other illnesses than COVID.    Given no cough or shortness of breath, other than watchful waiting COVID should pass in a week or two. Strep, influenza still possible. This testing can be done through your own provider. You can also get your own strep test at pharmacy or many can swab you there.   Would you like to video or text chat with me? \n",
            "\n",
            "Predict: Hello and Welcome to Healthcare Magic.   If you have COVID (or a cough) or a fever, get tested for COVID 19. If you are sick or have a fever or have been sick, get checked for COID-19. \n",
            "\n",
            "\n"
          ]
        },
        {
          "output_type": "stream",
          "name": "stderr",
          "text": [
            "A decoder-only architecture is being used, but right-padding was detected! For correct generation results, please set `padding_side='left'` when initializing the tokenizer.\n"
          ]
        },
        {
          "output_type": "stream",
          "name": "stdout",
          "text": [
            "Patient: Do I just go to a Dr to determine if it's a sinus infection or do I go get tested for COVID first? To not risk anyone in practice? \n",
            "\n",
            "Reference:  Phone triage.   Call your GP's office for instructions and identify local resources.   Your symptoms are suggesting sinusitis (other causes still possible) that is frequently viral and self limited. Local regulations should also be followed in such circumstances. Self quarantine will work for all in trying to prevent the spread. Hydration and rest will also work regardless of what the cause for your symptoms is.  Would you like to video or text chat with me? \n",
            "\n",
            "Predict: Yes. If you are in contact with someone who has been in contact for over a year, then you should be alright. \n",
            "\n",
            "\n"
          ]
        },
        {
          "output_type": "stream",
          "name": "stderr",
          "text": [
            "A decoder-only architecture is being used, but right-padding was detected! For correct generation results, please set `padding_side='left'` when initializing the tokenizer.\n"
          ]
        },
        {
          "output_type": "stream",
          "name": "stdout",
          "text": [
            "Patient: I have a dry cough and sore throat- it's been a week now and the cough seems to be getting worse- no runny nose or fever, sometimes a headache, no shortness of breath...should I get tested for covid19? \n",
            "\n",
            "Reference:  COVID   Good guidelines can be found at cdc.  gov/coronavirus/2019.  You would be considered low risk. Symptoms last up to two weeks. High probability many will get the disease and testing leads to no change in action at this time.  No obvious therapy (however some encouraging possibilites) and for most people the virus runs its course without incidence. Stay put and talk to your provider.   Would you like to video or text chat with me? \n",
            "\n",
            "Predict: No, you should not get tested. You should not be getting tested. The test is for the virus. If you have a fever or runny throat, you need to get tested, if you are not having a fever, then you should \n",
            "\n",
            "\n"
          ]
        },
        {
          "output_type": "stream",
          "name": "stderr",
          "text": [
            "A decoder-only architecture is being used, but right-padding was detected! For correct generation results, please set `padding_side='left'` when initializing the tokenizer.\n"
          ]
        },
        {
          "output_type": "stream",
          "name": "stdout",
          "text": [
            "Patient: If you've been infected by SARS-CoV-2, develop Covid-19 symptoms and recover, can you: 1) develop immunity to Covid-19 2) infect others after 14 days post-symptom onset & recovery 3) get re-infected later by SARS-CoV-2 despite developing immunity? \n",
            "\n",
            "Reference:  Yes, Maybe, Maybe. We presume one is immune to a respiratory virus for a while after getting the infection (that's the way it is with other viruses). A few people have trouble with their antibodies and don't have much immunity. Shedding of viruses sometimes is longer than 14 days. In life, there will always be some people who get reinfected, for whatever reason. Usually one is immune after the infection. (3/21/20). \n",
            "\n",
            "Predict: Infection is not a virus. It is a virus, and if you develop immunity you will be fine. However, if you have been \n",
            "\n",
            "\n"
          ]
        },
        {
          "output_type": "stream",
          "name": "stderr",
          "text": [
            "A decoder-only architecture is being used, but right-padding was detected! For correct generation results, please set `padding_side='left'` when initializing the tokenizer.\n"
          ]
        },
        {
          "output_type": "stream",
          "name": "stdout",
          "text": [
            "Patient: If I get coronavirus, are there ways to avoid getting other illnesses as well, like pneumonia? \n",
            "\n",
            "Reference:  Coronavirus,   COVID-19 has high affinity to the lung, causing viral pneumonia.   Fortunately, most people get only mild respiratory symptoms. Those who have high risks (age over 65, chronic diseases) tend to get pneumonia and complications. The most important way to prevent the complications is not to get infection, practice common sense of prevention. If you catch the infection, start early treatment.  Would you like to video or text chat with me? \n",
            "\n",
            "Predict: No. You can get coronovirus. It is not a virus. It can cause you to get other symptoms. If you have a high fever and a high cough you will have other symptoms, such as shortness of breath, or a shortness cough. \n",
            "\n",
            "\n"
          ]
        },
        {
          "output_type": "stream",
          "name": "stderr",
          "text": [
            "A decoder-only architecture is being used, but right-padding was detected! For correct generation results, please set `padding_side='left'` when initializing the tokenizer.\n"
          ]
        },
        {
          "output_type": "stream",
          "name": "stdout",
          "text": [
            "Patient: I was on a plane on March 8th have been home ever since self quarantine myself I have had headaches and runny throat I have 2 days left of my self quarantine should I be having worse symptoms by now ? \n",
            "\n",
            "Reference:  COVID   These are HealthTap guidelines:https://www.  healthtap.com/blog/covid-19-care-guidelines/virtual-care-guidelines-for-covid-19?utm_campaign=COVID%20OUTREACH&utm_medium=email&_hsmi=84951814&_hsenc=p2ANqtz-_jlHAfqZrXrCncGR4mJ57eQcomM2TItlnybAQii_sH-f4IyZjpz7-eIVc1oKN2_qDpZnO3&utm_content=84951814&utm_source=hs_emailI agree your symptoms should be improving.  Contact provider.   Would you like to video or text chat with me? \n",
            "\n",
            "Predict: Yes, self quarantine is a good way to prevent COVID-19.    You can get tested for COVID and then get tested again.  If you have been in contact with someone who has been in touch with you for over a week, then get test. \n",
            "\n",
            "\n"
          ]
        },
        {
          "output_type": "stream",
          "name": "stderr",
          "text": [
            "A decoder-only architecture is being used, but right-padding was detected! For correct generation results, please set `padding_side='left'` when initializing the tokenizer.\n"
          ]
        },
        {
          "output_type": "stream",
          "name": "stdout",
          "text": [
            "Patient: My son has a fever, I am concerned due to the coronavirus ? \n",
            "\n",
            "Reference:  Covid-19 unlikely.   The usual infections in your area of Kwa Zulu Natal are more likely to be the cause of his fever. If he is exposed to someone who is sick with Covid-19, then you need to be concerned.   Meanwhile, treat him as you would have treated him 2 months ago.  If he has shortness of breath or any form of difficulty breathing, get him to a doctor ASAP  Would you like to video or text chat with me? \n",
            "\n",
            "Predict: No fever. Only symptoms are a slight cough and a slight headache. \n",
            "\n",
            "\n"
          ]
        },
        {
          "output_type": "stream",
          "name": "stderr",
          "text": [
            "A decoder-only architecture is being used, but right-padding was detected! For correct generation results, please set `padding_side='left'` when initializing the tokenizer.\n"
          ]
        },
        {
          "output_type": "stream",
          "name": "stdout",
          "text": [
            "Patient: Can coronavirus symptoms be mild for some people versus severe? For example, could it just involve being very fatigued, low grade fever for a few days and not the extreme symptoms? Or is it always a full blown cold and struggle to breathe? \n",
            "\n",
            "Reference:  Symptoms vary.   Some may have no symptoms at all. Some can be life threatening.   Would you like to video or text chat with me? \n",
            "\n",
            "Predict: Yes, you are at high risk of coronaviruses. The coronaviral virus is the cause of the fever and shortness of breath, so if you have been sick or have been in contact with someone with a fever or short \n",
            "\n",
            "\n"
          ]
        },
        {
          "output_type": "stream",
          "name": "stderr",
          "text": [
            "A decoder-only architecture is being used, but right-padding was detected! For correct generation results, please set `padding_side='left'` when initializing the tokenizer.\n"
          ]
        },
        {
          "output_type": "stream",
          "name": "stdout",
          "text": [
            "Patient: Good day,  I am 29 weeks pregnant and my profession is teaching, I also have a 2 year old son.  My chest and throat is sore, I have a constant headache and feel dizzy at times. Is it necessary to get myself tested for the coronavirus? \n",
            "\n",
            "Reference:  Can give Dr. a call.   Throat pain can be from a strep throat infection (antibiotics needed), a cold or influenza (antibiotics usually not used), or from other causes such as allergies, irritants, or COVID-19.   Usually, a person sees the doctor (call first) if the sore throat is bothersome, recurrent, or doesn't go away quickly. COVID-19 tends to have cough, whereas strep usually lacks cough but has more throat pain  Would you like to video or text chat with me? \n",
            "\n",
            "Predict: No, but you should be alright.    You are in good health and have a good chance of getting tested.  You should also be alright if you have a fever, but if you do not \n",
            "\n",
            "\n",
            "61\n"
          ]
        }
      ]
    },
    {
      "cell_type": "code",
      "source": [],
      "metadata": {
        "id": "bme9aXyVAuyt"
      },
      "execution_count": null,
      "outputs": []
    }
  ]
}